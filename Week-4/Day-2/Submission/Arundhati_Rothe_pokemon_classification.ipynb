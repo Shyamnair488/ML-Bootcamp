{
  "cells": [
    {
      "cell_type": "code",
      "execution_count": 44,
      "metadata": {
        "id": "v1tcru1mC-25"
      },
      "outputs": [],
      "source": [
        "import numpy as np\n",
        "import pandas as pd\n",
        "import matplotlib.pyplot as plt\n",
        "import os"
      ]
    },
    {
      "cell_type": "code",
      "execution_count": 45,
      "metadata": {
        "id": "Ko5wCi9TC-28",
        "outputId": "e974c63a-81a9-452a-d285-54991a5c2eb2",
        "colab": {
          "base_uri": "https://localhost:8080/"
        }
      },
      "outputs": [
        {
          "output_type": "stream",
          "name": "stdout",
          "text": [
            "--2023-07-09 15:22:34--  https://www.dropbox.com/sh/s9r1av3m4eatd3y/AAA8zYti5b5tnyKfcah2Reaja\n",
            "Resolving www.dropbox.com (www.dropbox.com)... 162.125.70.18, 2620:100:6021:18::a27d:4112\n",
            "Connecting to www.dropbox.com (www.dropbox.com)|162.125.70.18|:443... connected.\n",
            "HTTP request sent, awaiting response... 302 Found\n",
            "Location: /sh/raw/s9r1av3m4eatd3y/AAA8zYti5b5tnyKfcah2Reaja [following]\n",
            "--2023-07-09 15:22:34--  https://www.dropbox.com/sh/raw/s9r1av3m4eatd3y/AAA8zYti5b5tnyKfcah2Reaja\n",
            "Reusing existing connection to www.dropbox.com:443.\n",
            "HTTP request sent, awaiting response... 302 Found\n",
            "Location: https://ucf6076fa8332a492206a8731921.dl.dropboxusercontent.com/zip_download_get/Bi7ehaljh709H2eEVTqSFJxrdcIHrGXQyJEGRSQ02fnOlPPJ_6g1fPNS-YGwEg5AgNz8-0KdTU92KeqEgUKHj5zD6yh4xiDKp21EZON9a_wevw# [following]\n",
            "--2023-07-09 15:22:35--  https://ucf6076fa8332a492206a8731921.dl.dropboxusercontent.com/zip_download_get/Bi7ehaljh709H2eEVTqSFJxrdcIHrGXQyJEGRSQ02fnOlPPJ_6g1fPNS-YGwEg5AgNz8-0KdTU92KeqEgUKHj5zD6yh4xiDKp21EZON9a_wevw\n",
            "Resolving ucf6076fa8332a492206a8731921.dl.dropboxusercontent.com (ucf6076fa8332a492206a8731921.dl.dropboxusercontent.com)... 162.125.71.15, 2620:100:6021:15::a27d:410f\n",
            "Connecting to ucf6076fa8332a492206a8731921.dl.dropboxusercontent.com (ucf6076fa8332a492206a8731921.dl.dropboxusercontent.com)|162.125.71.15|:443... connected.\n",
            "HTTP request sent, awaiting response... 200 OK\n",
            "Length: 108475527 (103M) [application/zip]\n",
            "Saving to: ‘data’\n",
            "\n",
            "data                100%[===================>] 103.45M  19.6MB/s    in 5.9s    \n",
            "\n",
            "2023-07-09 15:22:41 (17.6 MB/s) - ‘data’ saved [108475527/108475527]\n",
            "\n"
          ]
        }
      ],
      "source": [
        "! wget https://www.dropbox.com/sh/s9r1av3m4eatd3y/AAA8zYti5b5tnyKfcah2Reaja -O data"
      ]
    },
    {
      "cell_type": "code",
      "source": [
        "!unzip data -d \"images/\""
      ],
      "metadata": {
        "id": "6fU0c_xxUg3K"
      },
      "execution_count": null,
      "outputs": []
    },
    {
      "cell_type": "code",
      "execution_count": 54,
      "metadata": {
        "id": "RocjdJ1yC-29",
        "outputId": "ea21f5b3-374d-4192-c783-36864189fd11",
        "colab": {
          "base_uri": "https://localhost:8080/"
        }
      },
      "outputs": [
        {
          "output_type": "stream",
          "name": "stdout",
          "text": [
            "Requirement already satisfied: keras_preprocessing in /usr/local/lib/python3.10/dist-packages (1.1.2)\n",
            "Requirement already satisfied: numpy>=1.9.1 in /usr/local/lib/python3.10/dist-packages (from keras_preprocessing) (1.22.4)\n",
            "Requirement already satisfied: six>=1.9.0 in /usr/local/lib/python3.10/dist-packages (from keras_preprocessing) (1.16.0)\n"
          ]
        }
      ],
      "source": [
        "pip install keras_preprocessing"
      ]
    },
    {
      "cell_type": "code",
      "source": [
        "classes = os.listdir(\"images/Train\")"
      ],
      "metadata": {
        "id": "acu-vgWFDrtp"
      },
      "execution_count": 55,
      "outputs": []
    },
    {
      "cell_type": "code",
      "source": [
        "for pokemon_type in classes:\n",
        "\n",
        "  path = \"images/Train/\" + pokemon_type\n",
        "\n",
        "  print(f\"{pokemon_type} - {len(os.listdir(path))}\")"
      ],
      "metadata": {
        "id": "n7hU9_7oEmD0",
        "outputId": "4a46fe5a-593b-42c7-deb6-0055ff3f8714",
        "colab": {
          "base_uri": "https://localhost:8080/"
        }
      },
      "execution_count": 56,
      "outputs": [
        {
          "output_type": "stream",
          "name": "stdout",
          "text": [
            "Charmander - 102\n",
            "Pikachu - 101\n",
            "Bulbasaur - 101\n"
          ]
        }
      ]
    },
    {
      "cell_type": "code",
      "source": [
        "from keras_preprocessing import image"
      ],
      "metadata": {
        "id": "0K_iSc3zFLzz"
      },
      "execution_count": 57,
      "outputs": []
    },
    {
      "cell_type": "code",
      "source": [
        "train_data = []\n",
        "train_labels = []"
      ],
      "metadata": {
        "id": "OIM0aJeLGUSn"
      },
      "execution_count": 58,
      "outputs": []
    },
    {
      "cell_type": "code",
      "source": [
        "for category in classes:\n",
        "\n",
        "  folder = f\"images/Train/{category}\"\n",
        "\n",
        "  for image_name in os.listdir(folder):\n",
        "\n",
        "    img_path = os.path.join(folder, image_name)\n",
        "\n",
        "\n",
        "\n",
        "\n",
        "    img = image.load_img(img_path, target_size=(100, 100))\n",
        "\n",
        "    img_array = image.img_to_array(img)\n",
        "\n",
        "    train_data.append(img_array)\n",
        "\n",
        "    train_labels.append(category)"
      ],
      "metadata": {
        "id": "tp4c6DSWGXFz",
        "outputId": "70afaad9-f4b2-41c0-b77f-c5c208af6f71",
        "colab": {
          "base_uri": "https://localhost:8080/"
        }
      },
      "execution_count": 59,
      "outputs": [
        {
          "output_type": "stream",
          "name": "stderr",
          "text": [
            "/usr/local/lib/python3.10/dist-packages/PIL/Image.py:975: UserWarning: Palette images with Transparency expressed in bytes should be converted to RGBA images\n",
            "  warnings.warn(\n"
          ]
        }
      ]
    },
    {
      "cell_type": "code",
      "source": [
        "len(train_data)"
      ],
      "metadata": {
        "id": "OszE5pDwIBWU",
        "outputId": "d0b0c350-8da0-4a76-d75d-552f0b407098",
        "colab": {
          "base_uri": "https://localhost:8080/"
        }
      },
      "execution_count": 60,
      "outputs": [
        {
          "output_type": "execute_result",
          "data": {
            "text/plain": [
              "304"
            ]
          },
          "metadata": {},
          "execution_count": 60
        }
      ]
    },
    {
      "cell_type": "code",
      "source": [
        "train_data = np.array(train_data)\n",
        "train_labels = np.array(train_labels)"
      ],
      "metadata": {
        "id": "vSZh32vTIunn"
      },
      "execution_count": 61,
      "outputs": []
    },
    {
      "cell_type": "code",
      "source": [
        "train_data = train_data.reshape(len(train_data), 30000)"
      ],
      "metadata": {
        "id": "1drzOwi2JhQp"
      },
      "execution_count": 62,
      "outputs": []
    },
    {
      "cell_type": "code",
      "source": [
        "train_data.shape"
      ],
      "metadata": {
        "id": "QQfCAA6kJo5e",
        "outputId": "5a59c862-0915-4c64-c687-e06fa0693cc8",
        "colab": {
          "base_uri": "https://localhost:8080/"
        }
      },
      "execution_count": 63,
      "outputs": [
        {
          "output_type": "execute_result",
          "data": {
            "text/plain": [
              "(304, 30000)"
            ]
          },
          "metadata": {},
          "execution_count": 63
        }
      ]
    },
    {
      "cell_type": "code",
      "source": [
        "category2label = {\"Pikachu\": 0, \"Charmander\": 1, \"Bulbasaur\": 2}\n",
        "label2category = {0:\"Pikachu\", 1:\"Charmander\", 2:\"Bulbasaur\"}"
      ],
      "metadata": {
        "id": "q6xLCDyELVaa"
      },
      "execution_count": 64,
      "outputs": []
    },
    {
      "cell_type": "code",
      "source": [
        "train_labels = np.array([category2label[label] for label in train_labels])"
      ],
      "metadata": {
        "id": "WmdSazrRKi_k"
      },
      "execution_count": 65,
      "outputs": []
    },
    {
      "cell_type": "code",
      "source": [
        "from keras.utils import to_categorical\n",
        "train_labels = to_categorical(train_labels)"
      ],
      "metadata": {
        "id": "yX1yxhNOKj87"
      },
      "execution_count": 66,
      "outputs": []
    },
    {
      "cell_type": "code",
      "source": [
        "from keras.layers import Dense\n",
        "from keras import Sequential"
      ],
      "metadata": {
        "id": "tfehVBmILzQt"
      },
      "execution_count": 67,
      "outputs": []
    },
    {
      "cell_type": "code",
      "source": [
        "features = train_data.shape[1]"
      ],
      "metadata": {
        "id": "iU-EL0syMjEq"
      },
      "execution_count": 68,
      "outputs": []
    },
    {
      "cell_type": "code",
      "source": [
        "model = Sequential()"
      ],
      "metadata": {
        "id": "reK4o2FFMqhg"
      },
      "execution_count": 69,
      "outputs": []
    },
    {
      "cell_type": "code",
      "source": [
        "model.add( Dense(units=512, activation='relu', input_shape=(features,)))"
      ],
      "metadata": {
        "id": "AHYaLhefNGyi"
      },
      "execution_count": 70,
      "outputs": []
    },
    {
      "cell_type": "code",
      "source": [
        "model.add( Dense(units=256, activation='relu' ) )\n",
        "model.add( Dense(units=128, activation='relu' ) )\n",
        "model.add( Dense(units=64, activation='relu' ) )\n",
        "model.add( Dense(units=3, activation='softmax' ) )"
      ],
      "metadata": {
        "id": "a2HQU1C9NcO3"
      },
      "execution_count": 71,
      "outputs": []
    },
    {
      "cell_type": "code",
      "source": [
        "model.compile(optimizer = \"adam\", loss=\"categorical_crossentropy\", metrics=['accuracy'] )"
      ],
      "metadata": {
        "id": "SdBJ4SjYPQ99"
      },
      "execution_count": 72,
      "outputs": []
    },
    {
      "cell_type": "code",
      "source": [
        "model.summary()"
      ],
      "metadata": {
        "id": "S5RFwxGePZ3W",
        "outputId": "53c4cb8b-be7a-4f09-fa12-d698ea77c547",
        "colab": {
          "base_uri": "https://localhost:8080/"
        }
      },
      "execution_count": 73,
      "outputs": [
        {
          "output_type": "stream",
          "name": "stdout",
          "text": [
            "Model: \"sequential_1\"\n",
            "_________________________________________________________________\n",
            " Layer (type)                Output Shape              Param #   \n",
            "=================================================================\n",
            " dense_1 (Dense)             (None, 512)               15360512  \n",
            "                                                                 \n",
            " dense_2 (Dense)             (None, 256)               131328    \n",
            "                                                                 \n",
            " dense_3 (Dense)             (None, 128)               32896     \n",
            "                                                                 \n",
            " dense_4 (Dense)             (None, 64)                8256      \n",
            "                                                                 \n",
            " dense_5 (Dense)             (None, 3)                 195       \n",
            "                                                                 \n",
            "=================================================================\n",
            "Total params: 15,533,187\n",
            "Trainable params: 15,533,187\n",
            "Non-trainable params: 0\n",
            "_________________________________________________________________\n"
          ]
        }
      ]
    },
    {
      "cell_type": "code",
      "source": [
        "model.fit(train_data, train_labels, batch_size=32, epochs=50)"
      ],
      "metadata": {
        "id": "i_F6vwZ0PcHB",
        "outputId": "f0b08628-4823-4a73-cbb2-940bd894d8eb",
        "colab": {
          "base_uri": "https://localhost:8080/"
        }
      },
      "execution_count": 74,
      "outputs": [
        {
          "output_type": "stream",
          "name": "stdout",
          "text": [
            "Epoch 1/50\n",
            "10/10 [==============================] - 4s 292ms/step - loss: 2177.8171 - accuracy: 0.3224\n",
            "Epoch 2/50\n",
            "10/10 [==============================] - 2s 227ms/step - loss: 1676.2130 - accuracy: 0.3618\n",
            "Epoch 3/50\n",
            "10/10 [==============================] - 3s 297ms/step - loss: 1022.8909 - accuracy: 0.4836\n",
            "Epoch 4/50\n",
            "10/10 [==============================] - 3s 251ms/step - loss: 429.2876 - accuracy: 0.5592\n",
            "Epoch 5/50\n",
            "10/10 [==============================] - 3s 332ms/step - loss: 504.8211 - accuracy: 0.5954\n",
            "Epoch 6/50\n",
            "10/10 [==============================] - 2s 235ms/step - loss: 365.1860 - accuracy: 0.6053\n",
            "Epoch 7/50\n",
            "10/10 [==============================] - 2s 234ms/step - loss: 247.9508 - accuracy: 0.6809\n",
            "Epoch 8/50\n",
            "10/10 [==============================] - 2s 248ms/step - loss: 82.8437 - accuracy: 0.8059\n",
            "Epoch 9/50\n",
            "10/10 [==============================] - 3s 248ms/step - loss: 33.9230 - accuracy: 0.9112\n",
            "Epoch 10/50\n",
            "10/10 [==============================] - 3s 349ms/step - loss: 21.4301 - accuracy: 0.9178\n",
            "Epoch 11/50\n",
            "10/10 [==============================] - 2s 242ms/step - loss: 21.4678 - accuracy: 0.9276\n",
            "Epoch 12/50\n",
            "10/10 [==============================] - 2s 238ms/step - loss: 18.5288 - accuracy: 0.9375\n",
            "Epoch 13/50\n",
            "10/10 [==============================] - 2s 238ms/step - loss: 17.8859 - accuracy: 0.9375\n",
            "Epoch 14/50\n",
            "10/10 [==============================] - 2s 239ms/step - loss: 16.0992 - accuracy: 0.9342\n",
            "Epoch 15/50\n",
            "10/10 [==============================] - 3s 327ms/step - loss: 53.4460 - accuracy: 0.8684\n",
            "Epoch 16/50\n",
            "10/10 [==============================] - 2s 233ms/step - loss: 26.6142 - accuracy: 0.9046\n",
            "Epoch 17/50\n",
            "10/10 [==============================] - 2s 231ms/step - loss: 40.4382 - accuracy: 0.8717\n",
            "Epoch 18/50\n",
            "10/10 [==============================] - 2s 236ms/step - loss: 16.9007 - accuracy: 0.9375\n",
            "Epoch 19/50\n",
            "10/10 [==============================] - 2s 243ms/step - loss: 2.9882 - accuracy: 0.9836\n",
            "Epoch 20/50\n",
            "10/10 [==============================] - 3s 328ms/step - loss: 9.7387 - accuracy: 0.9408\n",
            "Epoch 21/50\n",
            "10/10 [==============================] - 2s 236ms/step - loss: 16.8926 - accuracy: 0.9211\n",
            "Epoch 22/50\n",
            "10/10 [==============================] - 2s 234ms/step - loss: 8.4258 - accuracy: 0.9507\n",
            "Epoch 23/50\n",
            "10/10 [==============================] - 3s 274ms/step - loss: 4.1542 - accuracy: 0.9638\n",
            "Epoch 24/50\n",
            "10/10 [==============================] - 4s 419ms/step - loss: 39.2640 - accuracy: 0.8717\n",
            "Epoch 25/50\n",
            "10/10 [==============================] - 3s 244ms/step - loss: 13.4604 - accuracy: 0.9441\n",
            "Epoch 26/50\n",
            "10/10 [==============================] - 2s 244ms/step - loss: 5.6422 - accuracy: 0.9605\n",
            "Epoch 27/50\n",
            "10/10 [==============================] - 2s 239ms/step - loss: 6.8350 - accuracy: 0.9671\n",
            "Epoch 28/50\n",
            "10/10 [==============================] - 2s 238ms/step - loss: 0.6541 - accuracy: 0.9934\n",
            "Epoch 29/50\n",
            "10/10 [==============================] - 3s 346ms/step - loss: 2.1988 - accuracy: 0.9836\n",
            "Epoch 30/50\n",
            "10/10 [==============================] - 2s 245ms/step - loss: 3.5649 - accuracy: 0.9737\n",
            "Epoch 31/50\n",
            "10/10 [==============================] - 2s 243ms/step - loss: 0.6528 - accuracy: 0.9836\n",
            "Epoch 32/50\n",
            "10/10 [==============================] - 2s 241ms/step - loss: 2.4757 - accuracy: 0.9803\n",
            "Epoch 33/50\n",
            "10/10 [==============================] - 2s 240ms/step - loss: 18.6966 - accuracy: 0.9178\n",
            "Epoch 34/50\n",
            "10/10 [==============================] - 3s 334ms/step - loss: 22.2567 - accuracy: 0.9013\n",
            "Epoch 35/50\n",
            "10/10 [==============================] - 2s 243ms/step - loss: 7.2855 - accuracy: 0.9638\n",
            "Epoch 36/50\n",
            "10/10 [==============================] - 2s 246ms/step - loss: 6.6960 - accuracy: 0.9605\n",
            "Epoch 37/50\n",
            "10/10 [==============================] - 2s 243ms/step - loss: 3.7831 - accuracy: 0.9737\n",
            "Epoch 38/50\n",
            "10/10 [==============================] - 3s 280ms/step - loss: 4.7347 - accuracy: 0.9704\n",
            "Epoch 39/50\n",
            "10/10 [==============================] - 3s 291ms/step - loss: 2.2994 - accuracy: 0.9868\n",
            "Epoch 40/50\n",
            "10/10 [==============================] - 3s 252ms/step - loss: 8.3220 - accuracy: 0.9474\n",
            "Epoch 41/50\n",
            "10/10 [==============================] - 3s 252ms/step - loss: 2.4201 - accuracy: 0.9737\n",
            "Epoch 42/50\n",
            "10/10 [==============================] - 2s 246ms/step - loss: 1.5520 - accuracy: 0.9934\n",
            "Epoch 43/50\n",
            "10/10 [==============================] - 3s 332ms/step - loss: 0.5573 - accuracy: 0.9967\n",
            "Epoch 44/50\n",
            "10/10 [==============================] - 3s 241ms/step - loss: 0.5846 - accuracy: 0.9901\n",
            "Epoch 45/50\n",
            "10/10 [==============================] - 2s 242ms/step - loss: 10.6375 - accuracy: 0.9474\n",
            "Epoch 46/50\n",
            "10/10 [==============================] - 2s 242ms/step - loss: 69.8653 - accuracy: 0.8553\n",
            "Epoch 47/50\n",
            "10/10 [==============================] - 2s 244ms/step - loss: 56.3920 - accuracy: 0.8322\n",
            "Epoch 48/50\n",
            "10/10 [==============================] - 3s 348ms/step - loss: 18.9886 - accuracy: 0.9375\n",
            "Epoch 49/50\n",
            "10/10 [==============================] - 2s 242ms/step - loss: 5.0375 - accuracy: 0.9770\n",
            "Epoch 50/50\n",
            "10/10 [==============================] - 2s 244ms/step - loss: 26.8355 - accuracy: 0.9013\n"
          ]
        },
        {
          "output_type": "execute_result",
          "data": {
            "text/plain": [
              "<keras.callbacks.History at 0x7fcd40e1edd0>"
            ]
          },
          "metadata": {},
          "execution_count": 74
        }
      ]
    },
    {
      "cell_type": "code",
      "source": [
        "test_image = \"/content/pikachu-gcca3e5191_1280.jpg\""
      ],
      "metadata": {
        "id": "HDTv_gNfRU0l"
      },
      "execution_count": 75,
      "outputs": []
    },
    {
      "cell_type": "code",
      "source": [
        "img = image.load_img(test_image, target_size=(100, 100))\n",
        "img = image.img_to_array(img)\n",
        "img.shape"
      ],
      "metadata": {
        "id": "UpFoHeD3SLm0",
        "outputId": "580b9f8e-e22b-4595-dcba-4885c42df9fe",
        "colab": {
          "base_uri": "https://localhost:8080/"
        }
      },
      "execution_count": 76,
      "outputs": [
        {
          "output_type": "execute_result",
          "data": {
            "text/plain": [
              "(100, 100, 3)"
            ]
          },
          "metadata": {},
          "execution_count": 76
        }
      ]
    },
    {
      "cell_type": "code",
      "source": [
        "plt.imshow(img.astype('int'));"
      ],
      "metadata": {
        "id": "RPGwaCp3Se53",
        "outputId": "ed9f8efb-5923-44be-d125-87b5f91ee745",
        "colab": {
          "base_uri": "https://localhost:8080/",
          "height": 433
        }
      },
      "execution_count": 77,
      "outputs": [
        {
          "output_type": "display_data",
          "data": {
            "text/plain": [
              "<Figure size 640x480 with 1 Axes>"
            ],
            "image/png": "[encoded data removed]"
          },
          "metadata": {}
        }
      ]
    },
    {
      "cell_type": "code",
      "source": [
        "img = img.reshape(1, 30000)"
      ],
      "metadata": {
        "id": "2aE_de-VSxK8"
      },
      "execution_count": 78,
      "outputs": []
    },
    {
      "cell_type": "code",
      "source": [
        "model.predict(img).argmax()"
      ],
      "metadata": {
        "id": "51AS3HYwTLWc",
        "outputId": "4a6c0d55-6a91-44d8-ef2f-e81fe168a371",
        "colab": {
          "base_uri": "https://localhost:8080/"
        }
      },
      "execution_count": 79,
      "outputs": [
        {
          "output_type": "stream",
          "name": "stdout",
          "text": [
            "1/1 [==============================] - 0s 108ms/step\n"
          ]
        },
        {
          "output_type": "execute_result",
          "data": {
            "text/plain": [
              "0"
            ]
          },
          "metadata": {},
          "execution_count": 79
        }
      ]
    },
    {
      "cell_type": "code",
      "source": [
        "pred = label2category[model.predict(img).argmax()]\n",
        "pred"
      ],
      "metadata": {
        "id": "npMSlIl5TLOW",
        "outputId": "bf809ed2-480f-45f4-a123-053dc2da1d44",
        "colab": {
          "base_uri": "https://localhost:8080/",
          "height": 53
        }
      },
      "execution_count": 80,
      "outputs": [
        {
          "output_type": "stream",
          "name": "stdout",
          "text": [
            "1/1 [==============================] - 0s 36ms/step\n"
          ]
        },
        {
          "output_type": "execute_result",
          "data": {
            "text/plain": [
              "'Pikachu'"
            ],
            "application/vnd.google.colaboratory.intrinsic+json": {
              "type": "string"
            }
          },
          "metadata": {},
          "execution_count": 80
        }
      ]
    },
    {
      "cell_type": "code",
      "source": [],
      "metadata": {
        "id": "UE_jGS1nVrDH"
      },
      "execution_count": null,
      "outputs": []
    }
  ],
  "metadata": {
    "language_info": {
      "name": "python"
    },
    "orig_nbformat": 4,
    "colab": {
      "provenance": []
    },
    "kernelspec": {
      "name": "python3",
      "display_name": "Python 3"
    }
  },
  "nbformat": 4,
  "nbformat_minor": 0
}