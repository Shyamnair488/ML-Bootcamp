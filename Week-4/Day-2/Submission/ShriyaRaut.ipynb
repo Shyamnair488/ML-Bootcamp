{
  "cells": [
    {
      "cell_type": "code",
      "execution_count": 1,
      "metadata": {
        "id": "wRU3AWlTwdXa"
      },
      "outputs": [],
      "source": [
        "import numpy as np\n",
        "import pandas as pd\n",
        "import matplotlib.pyplot as plt\n",
        "import os"
      ]
    },
    {
      "cell_type": "code",
      "execution_count": 2,
      "metadata": {
        "id": "tnVgVXBfwdXb",
        "outputId": "dc4ad7aa-1034-4cb4-fef7-223d6861e99b",
        "colab": {
          "base_uri": "https://localhost:8080/"
        }
      },
      "outputs": [
        {
          "output_type": "stream",
          "name": "stdout",
          "text": [
            "--2023-07-16 17:44:42--  https://www.dropbox.com/sh/s9r1av3m4eatd3y/AAA8zYti5b5tnyKfcah2Reaja\n",
            "Resolving www.dropbox.com (www.dropbox.com)... 162.125.6.18, 2620:100:601c:18::a27d:612\n",
            "Connecting to www.dropbox.com (www.dropbox.com)|162.125.6.18|:443... connected.\n",
            "HTTP request sent, awaiting response... 302 Found\n",
            "Location: /sh/raw/s9r1av3m4eatd3y/AAA8zYti5b5tnyKfcah2Reaja [following]\n",
            "--2023-07-16 17:44:42--  https://www.dropbox.com/sh/raw/s9r1av3m4eatd3y/AAA8zYti5b5tnyKfcah2Reaja\n",
            "Reusing existing connection to www.dropbox.com:443.\n",
            "HTTP request sent, awaiting response... 302 Found\n",
            "Location: https://uc13b735205538e6c078aece440f.dl.dropboxusercontent.com/zip_download_get/BjYNM3XqVk-TaFM12y_Agy-TzTT6kI7L1Sh9qYMvXhHgqBlJVjgH3pZe1xY9zNwkC_JO_-u6rn70iDtLGVVmIDve8349NT6IuyldZGXox6cfzw# [following]\n",
            "--2023-07-16 17:44:43--  https://uc13b735205538e6c078aece440f.dl.dropboxusercontent.com/zip_download_get/BjYNM3XqVk-TaFM12y_Agy-TzTT6kI7L1Sh9qYMvXhHgqBlJVjgH3pZe1xY9zNwkC_JO_-u6rn70iDtLGVVmIDve8349NT6IuyldZGXox6cfzw\n",
            "Resolving uc13b735205538e6c078aece440f.dl.dropboxusercontent.com (uc13b735205538e6c078aece440f.dl.dropboxusercontent.com)... 162.125.4.15, 2620:100:6019:15::a27d:40f\n",
            "Connecting to uc13b735205538e6c078aece440f.dl.dropboxusercontent.com (uc13b735205538e6c078aece440f.dl.dropboxusercontent.com)|162.125.4.15|:443... connected.\n",
            "HTTP request sent, awaiting response... 200 OK\n",
            "Length: 108475527 (103M) [application/zip]\n",
            "Saving to: ‘data’\n",
            "\n",
            "data                100%[===================>] 103.45M  27.5MB/s    in 3.8s    \n",
            "\n",
            "2023-07-16 17:44:48 (27.5 MB/s) - ‘data’ saved [108475527/108475527]\n",
            "\n"
          ]
        }
      ],
      "source": [
        "! wget https://www.dropbox.com/sh/s9r1av3m4eatd3y/AAA8zYti5b5tnyKfcah2Reaja -O data"
      ]
    },
    {
      "cell_type": "code",
      "execution_count": 3,
      "metadata": {
        "id": "M-508dM0wdXb",
        "outputId": "3a9ace40-a149-449e-d88d-80d13952c7dc",
        "colab": {
          "base_uri": "https://localhost:8080/"
        }
      },
      "outputs": [
        {
          "output_type": "stream",
          "name": "stdout",
          "text": [
            "Archive:  data\n",
            "warning:  stripped absolute path spec from /\n",
            "mapname:  conversion of  failed\n",
            "   creating: images/Test/\n",
            "   creating: images/Train/\n",
            "   creating: images/Test/Pikachu/\n",
            "   creating: images/Train/Pikachu/\n",
            "   creating: images/Test/Bulbasaur/\n",
            "   creating: images/Train/Bulbasaur/\n",
            "   creating: images/Test/Charmander/\n",
            "   creating: images/Train/Charmander/\n",
            " extracting: images/Train/Pikachu/345.jpg  \n",
            " extracting: images/Train/Pikachu/335.jpg  \n",
            " extracting: images/Train/Pikachu/299.jpg  \n",
            " extracting: images/Train/Pikachu/396.jpg  \n",
            " extracting: images/Train/Pikachu/350.jpg  \n",
            " extracting: images/Train/Pikachu/308.jpg  \n",
            " extracting: images/Train/Pikachu/346.jpg  \n",
            " extracting: images/Train/Pikachu/355.jpg  \n",
            " extracting: images/Train/Pikachu/353.jpg  \n",
            " extracting: images/Train/Pikachu/390.jpg  \n",
            " extracting: images/Train/Pikachu/319.jpg  \n",
            " extracting: images/Train/Pikachu/386.jpg  \n",
            " extracting: images/Train/Pikachu/327.jpg  \n",
            " extracting: images/Train/Pikachu/314.jpg  \n",
            " extracting: images/Train/Pikachu/303.jpg  \n",
            " extracting: images/Train/Pikachu/341.jpg  \n",
            " extracting: images/Train/Pikachu/298.jpg  \n",
            " extracting: images/Train/Pikachu/389.jpg  \n",
            " extracting: images/Train/Pikachu/382.jpg  \n",
            " extracting: images/Train/Pikachu/306.jpg  \n",
            " extracting: images/Train/Pikachu/361.jpg  \n",
            " extracting: images/Train/Pikachu/362.jpg  \n",
            " extracting: images/Train/Pikachu/372.jpg  \n",
            " extracting: images/Train/Pikachu/312.jpg  \n",
            " extracting: images/Train/Pikachu/384.jpg  \n",
            " extracting: images/Train/Pikachu/373.jpg  \n",
            " extracting: images/Train/Pikachu/352.jpg  \n",
            " extracting: images/Train/Pikachu/368.jpg  \n",
            " extracting: images/Train/Pikachu/307.jpg  \n",
            " extracting: images/Train/Pikachu/343.jpg  \n",
            " extracting: images/Train/Pikachu/310.jpg  \n",
            " extracting: images/Train/Pikachu/363.jpg  \n",
            " extracting: images/Train/Pikachu/320.jpg  \n",
            " extracting: images/Train/Pikachu/336.jpg  \n",
            " extracting: images/Train/Pikachu/394.jpg  \n",
            " extracting: images/Train/Pikachu/380.jpg  \n",
            " extracting: images/Train/Pikachu/317.jpg  \n",
            " extracting: images/Train/Pikachu/381.jpg  \n",
            " extracting: images/Train/Pikachu/322.jpg  \n",
            " extracting: images/Train/Pikachu/379.jpg  \n",
            " extracting: images/Train/Pikachu/315.jpg  \n",
            " extracting: images/Train/Pikachu/369.jpg  \n",
            " extracting: images/Train/Pikachu/330.jpg  \n",
            " extracting: images/Train/Pikachu/357.jpg  \n",
            " extracting: images/Train/Pikachu/383.jpg  \n",
            " extracting: images/Train/Pikachu/323.jpg  \n",
            " extracting: images/Train/Pikachu/364.jpg  \n",
            " extracting: images/Train/Pikachu/296.jpg  \n",
            " extracting: images/Train/Pikachu/356.jpg  \n",
            " extracting: images/Train/Pikachu/311.jpg  \n",
            " extracting: images/Train/Pikachu/385.jpg  \n",
            " extracting: images/Train/Pikachu/378.jpg  \n",
            " extracting: images/Train/Pikachu/338.jpg  \n",
            " extracting: images/Train/Pikachu/318.jpg  \n",
            " extracting: images/Train/Pikachu/321.jpg  \n",
            " extracting: images/Train/Pikachu/393.jpg  \n",
            " extracting: images/Train/Pikachu/304.jpg  \n",
            " extracting: images/Train/Pikachu/333.jpg  \n",
            " extracting: images/Train/Pikachu/354.jpg  \n",
            " extracting: images/Train/Pikachu/339.jpg  \n",
            " extracting: images/Train/Pikachu/316.jpg  \n",
            " extracting: images/Train/Pikachu/387.jpg  \n",
            " extracting: images/Train/Pikachu/334.jpg  \n",
            " extracting: images/Train/Pikachu/377.jpg  \n",
            " extracting: images/Train/Pikachu/300.jpg  \n",
            " extracting: images/Train/Pikachu/297.jpg  \n",
            " extracting: images/Train/Pikachu/342.jpg  \n",
            " extracting: images/Train/Pikachu/351.jpg  \n",
            " extracting: images/Train/Pikachu/365.jpg  \n",
            " extracting: images/Train/Pikachu/371.jpg  \n",
            " extracting: images/Train/Pikachu/324.jpg  \n",
            " extracting: images/Train/Pikachu/313.jpg  \n",
            " extracting: images/Train/Pikachu/344.jpg  \n",
            " extracting: images/Train/Pikachu/360.jpg  \n",
            " extracting: images/Train/Pikachu/340.jpg  \n",
            " extracting: images/Train/Pikachu/366.jpg  \n",
            " extracting: images/Train/Pikachu/325.jpg  \n",
            " extracting: images/Train/Pikachu/332.jpg  \n",
            " extracting: images/Train/Pikachu/358.jpg  \n",
            " extracting: images/Train/Pikachu/326.jpg  \n",
            " extracting: images/Train/Pikachu/375.jpg  \n",
            " extracting: images/Train/Pikachu/331.jpg  \n",
            " extracting: images/Train/Pikachu/391.jpg  \n",
            " extracting: images/Train/Pikachu/302.jpg  \n",
            " extracting: images/Train/Pikachu/374.jpg  \n",
            " extracting: images/Train/Pikachu/347.jpg  \n",
            " extracting: images/Train/Pikachu/370.jpg  \n",
            " extracting: images/Train/Pikachu/329.jpg  \n",
            " extracting: images/Train/Pikachu/305.jpg  \n",
            " extracting: images/Train/Pikachu/337.jpg  \n",
            " extracting: images/Train/Pikachu/367.jpg  \n",
            " extracting: images/Train/Pikachu/349.jpg  \n",
            " extracting: images/Train/Pikachu/395.jpg  \n",
            " extracting: images/Train/Pikachu/309.jpg  \n",
            " extracting: images/Train/Pikachu/301.jpg  \n",
            " extracting: images/Train/Pikachu/359.jpg  \n",
            " extracting: images/Train/Pikachu/328.jpg  \n",
            " extracting: images/Train/Pikachu/376.jpg  \n",
            " extracting: images/Train/Pikachu/392.jpg  \n",
            " extracting: images/Train/Pikachu/388.jpg  \n",
            " extracting: images/Train/Pikachu/348.jpg  \n",
            " extracting: images/Test/Pikachu/2000.jpg  \n",
            " extracting: images/Test/Pikachu/2001.jpg  \n",
            " extracting: images/Test/Pikachu/2002.jpg  \n",
            " extracting: images/Test/Pikachu/2003.jpg  \n",
            " extracting: images/Test/Pikachu/2004.jpg  \n",
            " extracting: images/Test/Pikachu/2005.jpg  \n",
            " extracting: images/Test/Pikachu/2006.jpg  \n",
            " extracting: images/Test/Pikachu/2007.jpg  \n",
            " extracting: images/Test/Pikachu/2008.jpg  \n",
            " extracting: images/Test/Pikachu/2009.jpg  \n",
            " extracting: images/Test/Pikachu/2010.jpg  \n",
            " extracting: images/Test/Pikachu/2011.jpg  \n",
            " extracting: images/Test/Pikachu/2012.jpg  \n",
            " extracting: images/Test/Pikachu/2013.jpg  \n",
            " extracting: images/Test/Pikachu/2014.jpg  \n",
            " extracting: images/Test/Pikachu/2015.jpg  \n",
            " extracting: images/Test/Pikachu/2016.jpg  \n",
            " extracting: images/Test/Pikachu/2017.jpg  \n",
            " extracting: images/Test/Pikachu/2018.jpg  \n",
            " extracting: images/Test/Pikachu/2019.jpg  \n",
            " extracting: images/Test/Pikachu/2020.jpg  \n",
            " extracting: images/Test/Pikachu/2021.jpg  \n",
            " extracting: images/Test/Pikachu/2022.jpg  \n",
            " extracting: images/Test/Pikachu/2023.jpg  \n",
            " extracting: images/Test/Pikachu/2024.jpg  \n",
            " extracting: images/Test/Pikachu/2025.jpg  \n",
            " extracting: images/Test/Pikachu/2026.jpg  \n",
            " extracting: images/Test/Pikachu/2027.jpg  \n",
            " extracting: images/Test/Pikachu/2028.jpg  \n",
            " extracting: images/Test/Pikachu/2029.jpg  \n",
            " extracting: images/Test/Pikachu/2030.jpg  \n",
            " extracting: images/Test/Pikachu/2031.jpg  \n",
            " extracting: images/Test/Pikachu/2032.jpg  \n",
            " extracting: images/Test/Pikachu/2033.jpg  \n",
            " extracting: images/Test/Pikachu/2034.jpg  \n",
            " extracting: images/Test/Pikachu/2035.jpg  \n",
            " extracting: images/Test/Pikachu/2036.jpg  \n",
            " extracting: images/Test/Pikachu/2037.jpg  \n",
            " extracting: images/Test/Pikachu/2038.jpg  \n",
            " extracting: images/Test/Pikachu/2039.jpg  \n",
            " extracting: images/Train/Bulbasaur/439.jpg  \n",
            " extracting: images/Train/Bulbasaur/474.jpg  \n",
            " extracting: images/Train/Bulbasaur/497.jpg  \n",
            " extracting: images/Train/Bulbasaur/401.jpg  \n",
            " extracting: images/Train/Bulbasaur/403.jpg  \n",
            " extracting: images/Train/Bulbasaur/407.jpg  \n",
            " extracting: images/Train/Bulbasaur/415.jpg  \n",
            " extracting: images/Train/Bulbasaur/429.jpg  \n",
            " extracting: images/Train/Bulbasaur/452.jpg  \n",
            " extracting: images/Train/Bulbasaur/455.jpg  \n",
            " extracting: images/Train/Bulbasaur/456.jpg  \n",
            " extracting: images/Train/Bulbasaur/402.jpg  \n",
            " extracting: images/Train/Bulbasaur/417.jpg  \n",
            " extracting: images/Train/Bulbasaur/433.jpg  \n",
            " extracting: images/Train/Bulbasaur/434.jpg  \n",
            " extracting: images/Train/Bulbasaur/440.jpg  \n",
            " extracting: images/Train/Bulbasaur/405.jpg  \n",
            " extracting: images/Train/Bulbasaur/419.jpg  \n",
            " extracting: images/Train/Bulbasaur/450.jpg  \n",
            " extracting: images/Train/Bulbasaur/471.jpg  \n",
            " extracting: images/Train/Bulbasaur/477.jpg  \n",
            " extracting: images/Train/Bulbasaur/483.jpg  \n",
            " extracting: images/Train/Bulbasaur/421.jpg  \n",
            " extracting: images/Train/Bulbasaur/427.jpg  \n",
            " extracting: images/Train/Bulbasaur/438.jpg  \n",
            " extracting: images/Train/Bulbasaur/470.jpg  \n",
            " extracting: images/Train/Bulbasaur/473.jpg  \n",
            " extracting: images/Train/Bulbasaur/485.jpg  \n",
            " extracting: images/Train/Bulbasaur/399.jpg  \n",
            " extracting: images/Train/Bulbasaur/409.jpg  \n",
            " extracting: images/Train/Bulbasaur/426.jpg  \n",
            " extracting: images/Train/Bulbasaur/460.jpg  \n",
            " extracting: images/Train/Bulbasaur/465.jpg  \n",
            " extracting: images/Train/Bulbasaur/489.jpg  \n",
            " extracting: images/Train/Bulbasaur/491.jpg  \n",
            " extracting: images/Train/Bulbasaur/416.jpg  \n",
            " extracting: images/Train/Bulbasaur/430.jpg  \n",
            " extracting: images/Train/Bulbasaur/432.jpg  \n",
            " extracting: images/Train/Bulbasaur/448.jpg  \n",
            " extracting: images/Train/Bulbasaur/467.jpg  \n",
            " extracting: images/Train/Bulbasaur/458.jpg  \n",
            " extracting: images/Train/Bulbasaur/472.jpg  \n",
            " extracting: images/Train/Bulbasaur/476.jpg  \n",
            " extracting: images/Train/Bulbasaur/398.jpg  \n",
            " extracting: images/Train/Bulbasaur/404.jpg  \n",
            " extracting: images/Train/Bulbasaur/413.jpg  \n",
            " extracting: images/Train/Bulbasaur/451.jpg  \n",
            " extracting: images/Train/Bulbasaur/457.jpg  \n",
            " extracting: images/Train/Bulbasaur/478.jpg  \n",
            " extracting: images/Train/Bulbasaur/400.jpg  \n",
            " extracting: images/Train/Bulbasaur/422.jpg  \n",
            " extracting: images/Train/Bulbasaur/480.jpg  \n",
            " extracting: images/Train/Bulbasaur/418.jpg  \n",
            " extracting: images/Train/Bulbasaur/424.jpg  \n",
            " extracting: images/Train/Bulbasaur/447.jpg  \n",
            " extracting: images/Train/Bulbasaur/449.jpg  \n",
            " extracting: images/Train/Bulbasaur/479.jpg  \n",
            " extracting: images/Train/Bulbasaur/462.jpg  \n",
            " extracting: images/Train/Bulbasaur/487.jpg  \n",
            " extracting: images/Train/Bulbasaur/412.jpg  \n",
            " extracting: images/Train/Bulbasaur/435.jpg  \n",
            " extracting: images/Train/Bulbasaur/436.jpg  \n",
            " extracting: images/Train/Bulbasaur/459.jpg  \n",
            " extracting: images/Train/Bulbasaur/461.jpg  \n",
            " extracting: images/Train/Bulbasaur/492.jpg  \n",
            " extracting: images/Train/Bulbasaur/482.jpg  \n",
            " extracting: images/Train/Bulbasaur/484.jpg  \n",
            " extracting: images/Train/Bulbasaur/486.jpg  \n",
            " extracting: images/Train/Bulbasaur/406.jpg  \n",
            " extracting: images/Train/Bulbasaur/414.jpg  \n",
            " extracting: images/Train/Bulbasaur/431.jpg  \n",
            " extracting: images/Train/Bulbasaur/444.jpg  \n",
            " extracting: images/Train/Bulbasaur/453.jpg  \n",
            " extracting: images/Train/Bulbasaur/493.jpg  \n",
            " extracting: images/Train/Bulbasaur/495.jpg  \n",
            " extracting: images/Train/Bulbasaur/454.jpg  \n",
            " extracting: images/Train/Bulbasaur/469.jpg  \n",
            " extracting: images/Train/Bulbasaur/488.jpg  \n",
            " extracting: images/Train/Bulbasaur/443.jpg  \n",
            " extracting: images/Train/Bulbasaur/468.jpg  \n",
            " extracting: images/Train/Bulbasaur/481.jpg  \n",
            " extracting: images/Train/Bulbasaur/408.jpg  \n",
            " extracting: images/Train/Bulbasaur/423.jpg  \n",
            " extracting: images/Train/Bulbasaur/428.jpg  \n",
            " extracting: images/Train/Bulbasaur/441.jpg  \n",
            " extracting: images/Train/Bulbasaur/442.jpg  \n",
            " extracting: images/Train/Bulbasaur/494.jpg  \n",
            " extracting: images/Train/Bulbasaur/496.jpg  \n",
            " extracting: images/Train/Bulbasaur/464.jpg  \n",
            " extracting: images/Train/Bulbasaur/475.jpg  \n",
            " extracting: images/Train/Bulbasaur/490.jpg  \n",
            " extracting: images/Train/Bulbasaur/410.jpg  \n",
            " extracting: images/Train/Bulbasaur/411.jpg  \n",
            " extracting: images/Train/Bulbasaur/420.jpg  \n",
            " extracting: images/Train/Bulbasaur/425.jpg  \n",
            " extracting: images/Train/Bulbasaur/437.jpg  \n",
            " extracting: images/Train/Bulbasaur/397.jpg  \n",
            " extracting: images/Train/Bulbasaur/445.jpg  \n",
            " extracting: images/Train/Bulbasaur/446.jpg  \n",
            " extracting: images/Train/Bulbasaur/463.jpg  \n",
            " extracting: images/Train/Bulbasaur/466.jpg  \n",
            " extracting: images/Test/Bulbasaur/1100.jpg  \n",
            " extracting: images/Test/Bulbasaur/1101.jpg  \n",
            " extracting: images/Test/Bulbasaur/1102.jpg  \n",
            " extracting: images/Test/Bulbasaur/1103.jpg  \n",
            " extracting: images/Test/Bulbasaur/1104.jpg  \n",
            " extracting: images/Test/Bulbasaur/1105.jpg  \n",
            " extracting: images/Test/Bulbasaur/1106.jpg  \n",
            " extracting: images/Test/Bulbasaur/1107.jpg  \n",
            " extracting: images/Test/Bulbasaur/1108.jpg  \n",
            " extracting: images/Test/Bulbasaur/1109.jpg  \n",
            " extracting: images/Test/Bulbasaur/1110.jpg  \n",
            " extracting: images/Test/Bulbasaur/1111.jpg  \n",
            " extracting: images/Test/Bulbasaur/1112.jpg  \n",
            " extracting: images/Test/Bulbasaur/1113.jpg  \n",
            " extracting: images/Test/Bulbasaur/1114.jpg  \n",
            " extracting: images/Test/Bulbasaur/1115.jpg  \n",
            " extracting: images/Test/Bulbasaur/1116.jpg  \n",
            " extracting: images/Test/Bulbasaur/1117.jpg  \n",
            " extracting: images/Test/Bulbasaur/1118.jpg  \n",
            " extracting: images/Test/Bulbasaur/1119.jpg  \n",
            " extracting: images/Test/Bulbasaur/1120.jpg  \n",
            " extracting: images/Test/Bulbasaur/1121.jpg  \n",
            " extracting: images/Test/Bulbasaur/1122.jpg  \n",
            " extracting: images/Test/Bulbasaur/1123.jpg  \n",
            " extracting: images/Test/Bulbasaur/1124.jpg  \n",
            " extracting: images/Test/Bulbasaur/1125.jpg  \n",
            " extracting: images/Test/Bulbasaur/1126.jpg  \n",
            " extracting: images/Test/Bulbasaur/1127.jpg  \n",
            " extracting: images/Test/Bulbasaur/1128.jpg  \n",
            " extracting: images/Test/Bulbasaur/1129.jpg  \n",
            " extracting: images/Test/Bulbasaur/1130.jpg  \n",
            " extracting: images/Test/Bulbasaur/1131.jpg  \n",
            " extracting: images/Test/Bulbasaur/1132.jpg  \n",
            " extracting: images/Test/Bulbasaur/1133.jpg  \n",
            " extracting: images/Test/Bulbasaur/1134.jpg  \n",
            " extracting: images/Test/Bulbasaur/1135.jpg  \n",
            " extracting: images/Test/Bulbasaur/1136.jpg  \n",
            " extracting: images/Test/Bulbasaur/1137.jpg  \n",
            " extracting: images/Test/Bulbasaur/1138.jpg  \n",
            " extracting: images/Test/Bulbasaur/1139.jpg  \n",
            " extracting: images/Test/Bulbasaur/1140.jpg  \n",
            " extracting: images/Train/Charmander/597.jpg  \n",
            " extracting: images/Train/Charmander/610.jpg  \n",
            " extracting: images/Train/Charmander/539.jpg  \n",
            " extracting: images/Train/Charmander/542.jpg  \n",
            " extracting: images/Train/Charmander/557.jpg  \n",
            " extracting: images/Train/Charmander/571.jpg  \n",
            " extracting: images/Train/Charmander/576.jpg  \n",
            " extracting: images/Train/Charmander/592.jpg  \n",
            " extracting: images/Train/Charmander/525.jpg  \n",
            " extracting: images/Train/Charmander/530.jpg  \n",
            " extracting: images/Train/Charmander/543.jpg  \n",
            " extracting: images/Train/Charmander/577.jpg  \n",
            " extracting: images/Train/Charmander/574.jpg  \n",
            " extracting: images/Train/Charmander/580.jpg  \n",
            " extracting: images/Train/Charmander/599.jpg  \n",
            " extracting: images/Train/Charmander/615.jpg  \n",
            " extracting: images/Train/Charmander/523.jpg  \n",
            " extracting: images/Train/Charmander/537.jpg  \n",
            " extracting: images/Train/Charmander/549.jpg  \n",
            " extracting: images/Train/Charmander/550.jpg  \n",
            " extracting: images/Train/Charmander/605.jpg  \n",
            " extracting: images/Train/Charmander/612.jpg  \n",
            " extracting: images/Train/Charmander/520.jpg  \n",
            " extracting: images/Train/Charmander/536.jpg  \n",
            " extracting: images/Train/Charmander/555.jpg  \n",
            " extracting: images/Train/Charmander/586.jpg  \n",
            " extracting: images/Train/Charmander/593.jpg  \n",
            " extracting: images/Train/Charmander/607.jpg  \n",
            " extracting: images/Train/Charmander/613.jpg  \n",
            " extracting: images/Train/Charmander/528.jpg  \n",
            " extracting: images/Train/Charmander/548.jpg  \n",
            " extracting: images/Train/Charmander/552.jpg  \n",
            " extracting: images/Train/Charmander/565.jpg  \n",
            " extracting: images/Train/Charmander/582.jpg  \n",
            " extracting: images/Train/Charmander/611.jpg  \n",
            " extracting: images/Train/Charmander/521.jpg  \n",
            " extracting: images/Train/Charmander/562.jpg  \n",
            " extracting: images/Train/Charmander/563.jpg  \n",
            " extracting: images/Train/Charmander/589.jpg  \n",
            " extracting: images/Train/Charmander/590.jpg  \n",
            " extracting: images/Train/Charmander/614.jpg  \n",
            " extracting: images/Train/Charmander/581.jpg  \n",
            " extracting: images/Train/Charmander/601.jpg  \n",
            " extracting: images/Train/Charmander/527.jpg  \n",
            " extracting: images/Train/Charmander/533.jpg  \n",
            " extracting: images/Train/Charmander/547.jpg  \n",
            " extracting: images/Train/Charmander/551.jpg  \n",
            " extracting: images/Train/Charmander/554.jpg  \n",
            " extracting: images/Train/Charmander/559.jpg  \n",
            " extracting: images/Train/Charmander/608.jpg  \n",
            " extracting: images/Train/Charmander/617.jpg  \n",
            " extracting: images/Train/Charmander/619.jpg  \n",
            " extracting: images/Train/Charmander/604.jpg  \n",
            " extracting: images/Train/Charmander/498.jpg  \n",
            " extracting: images/Train/Charmander/526.jpg  \n",
            " extracting: images/Train/Charmander/546.jpg  \n",
            " extracting: images/Train/Charmander/585.jpg  \n",
            " extracting: images/Train/Charmander/587.jpg  \n",
            " extracting: images/Train/Charmander/600.jpg  \n",
            " extracting: images/Train/Charmander/545.jpg  \n",
            " extracting: images/Train/Charmander/560.jpg  \n",
            " extracting: images/Train/Charmander/620.jpg  \n",
            " extracting: images/Train/Charmander/531.jpg  \n",
            " extracting: images/Train/Charmander/541.jpg  \n",
            " extracting: images/Train/Charmander/572.jpg  \n",
            " extracting: images/Train/Charmander/578.jpg  \n",
            " extracting: images/Train/Charmander/595.jpg  \n",
            " extracting: images/Train/Charmander/522.jpg  \n",
            " extracting: images/Train/Charmander/544.jpg  \n",
            " extracting: images/Train/Charmander/596.jpg  \n",
            " extracting: images/Train/Charmander/602.jpg  \n",
            " extracting: images/Train/Charmander/573.jpg  \n",
            " extracting: images/Train/Charmander/583.jpg  \n",
            " extracting: images/Train/Charmander/538.jpg  \n",
            " extracting: images/Train/Charmander/553.jpg  \n",
            " extracting: images/Train/Charmander/556.jpg  \n",
            " extracting: images/Train/Charmander/564.jpg  \n",
            " extracting: images/Train/Charmander/566.jpg  \n",
            " extracting: images/Train/Charmander/569.jpg  \n",
            " extracting: images/Train/Charmander/594.jpg  \n",
            " extracting: images/Train/Charmander/609.jpg  \n",
            " extracting: images/Train/Charmander/616.jpg  \n",
            " extracting: images/Train/Charmander/558.jpg  \n",
            " extracting: images/Train/Charmander/584.jpg  \n",
            " extracting: images/Train/Charmander/598.jpg  \n",
            " extracting: images/Train/Charmander/570.jpg  \n",
            " extracting: images/Train/Charmander/579.jpg  \n",
            " extracting: images/Train/Charmander/529.jpg  \n",
            " extracting: images/Train/Charmander/532.jpg  \n",
            " extracting: images/Train/Charmander/534.jpg  \n",
            " extracting: images/Train/Charmander/535.jpg  \n",
            " extracting: images/Train/Charmander/567.jpg  \n",
            " extracting: images/Train/Charmander/568.jpg  \n",
            " extracting: images/Train/Charmander/603.jpg  \n",
            " extracting: images/Train/Charmander/606.jpg  \n",
            " extracting: images/Train/Charmander/618.jpg  \n",
            " extracting: images/Train/Charmander/524.jpg  \n",
            " extracting: images/Train/Charmander/540.jpg  \n",
            " extracting: images/Train/Charmander/561.jpg  \n",
            " extracting: images/Train/Charmander/575.jpg  \n",
            " extracting: images/Train/Charmander/588.jpg  \n",
            " extracting: images/Train/Charmander/591.jpg  \n",
            " extracting: images/Test/Charmander/2040.jpg  \n",
            " extracting: images/Test/Charmander/2200.jpg  \n",
            " extracting: images/Test/Charmander/2201.jpg  \n",
            " extracting: images/Test/Charmander/2202.jpg  \n",
            " extracting: images/Test/Charmander/2203.jpg  \n",
            " extracting: images/Test/Charmander/2204.jpg  \n",
            " extracting: images/Test/Charmander/2205.jpg  \n",
            " extracting: images/Test/Charmander/2206.jpg  \n",
            " extracting: images/Test/Charmander/2207.jpg  \n",
            " extracting: images/Test/Charmander/2208.jpg  \n",
            " extracting: images/Test/Charmander/2209.jpg  \n",
            " extracting: images/Test/Charmander/2210.jpg  \n",
            " extracting: images/Test/Charmander/2211.jpg  \n",
            " extracting: images/Test/Charmander/2212.jpg  \n",
            " extracting: images/Test/Charmander/2213.jpg  \n",
            " extracting: images/Test/Charmander/2214.jpg  \n",
            " extracting: images/Test/Charmander/2215.jpg  \n",
            " extracting: images/Test/Charmander/2216.jpg  \n",
            " extracting: images/Test/Charmander/2217.jpg  \n",
            " extracting: images/Test/Charmander/2218.jpg  \n",
            " extracting: images/Test/Charmander/2219.jpg  \n",
            " extracting: images/Test/Charmander/2220.jpg  \n",
            " extracting: images/Test/Charmander/2221.jpg  \n",
            " extracting: images/Test/Charmander/2222.jpg  \n",
            " extracting: images/Test/Charmander/2223.jpg  \n",
            " extracting: images/Test/Charmander/2224.jpg  \n",
            " extracting: images/Test/Charmander/2225.jpg  \n",
            " extracting: images/Test/Charmander/2226.jpg  \n",
            " extracting: images/Test/Charmander/2227.jpg  \n",
            " extracting: images/Test/Charmander/2228.jpg  \n",
            " extracting: images/Test/Charmander/2229.jpg  \n",
            " extracting: images/Test/Charmander/2230.jpg  \n",
            " extracting: images/Test/Charmander/2231.jpg  \n",
            " extracting: images/Test/Charmander/2232.jpg  \n",
            " extracting: images/Test/Charmander/2233.jpg  \n",
            " extracting: images/Test/Charmander/2234.jpg  \n",
            " extracting: images/Test/Charmander/2235.jpg  \n",
            " extracting: images/Test/Charmander/2236.jpg  \n",
            " extracting: images/Test/Charmander/2237.jpg  \n",
            " extracting: images/Test/Charmander/2238.jpg  \n",
            " extracting: images/Test/Charmander/2239.jpg  \n",
            " extracting: images/Test/Charmander/2240.jpg  \n"
          ]
        }
      ],
      "source": [
        "!unzip data -d \"images/\""
      ]
    },
    {
      "cell_type": "code",
      "execution_count": 4,
      "metadata": {
        "id": "0L_q0SsmwdXb",
        "outputId": "1c1480a0-9687-465c-8578-6f2a72ae99d0",
        "colab": {
          "base_uri": "https://localhost:8080/"
        }
      },
      "outputs": [
        {
          "output_type": "stream",
          "name": "stdout",
          "text": [
            "Collecting keras_preprocessing\n",
            "  Downloading Keras_Preprocessing-1.1.2-py2.py3-none-any.whl (42 kB)\n",
            "\u001b[?25l     \u001b[90m━━━━━━━━━━━━━━━━━━━━━━━━━━━━━━━━━━━━━━━━\u001b[0m \u001b[32m0.0/42.6 kB\u001b[0m \u001b[31m?\u001b[0m eta \u001b[36m-:--:--\u001b[0m\r\u001b[2K     \u001b[90m━━━━━━━━━━━━━━━━━━━━━━━━━━━━━━━━━━━━━━━━\u001b[0m \u001b[32m42.6/42.6 kB\u001b[0m \u001b[31m1.9 MB/s\u001b[0m eta \u001b[36m0:00:00\u001b[0m\n",
            "\u001b[?25hRequirement already satisfied: numpy>=1.9.1 in /usr/local/lib/python3.10/dist-packages (from keras_preprocessing) (1.22.4)\n",
            "Requirement already satisfied: six>=1.9.0 in /usr/local/lib/python3.10/dist-packages (from keras_preprocessing) (1.16.0)\n",
            "Installing collected packages: keras_preprocessing\n",
            "Successfully installed keras_preprocessing-1.1.2\n"
          ]
        }
      ],
      "source": [
        "pip install keras_preprocessing"
      ]
    },
    {
      "cell_type": "code",
      "source": [
        "classes = os.listdir('images/Train')\n",
        "classes"
      ],
      "metadata": {
        "id": "L0Pdib5Twqtd",
        "outputId": "b0f08b65-8087-4aa7-8a81-4848de00c156",
        "colab": {
          "base_uri": "https://localhost:8080/"
        }
      },
      "execution_count": 5,
      "outputs": [
        {
          "output_type": "execute_result",
          "data": {
            "text/plain": [
              "['Pikachu', 'Charmander', 'Bulbasaur']"
            ]
          },
          "metadata": {},
          "execution_count": 5
        }
      ]
    },
    {
      "cell_type": "code",
      "source": [
        "for pokemon_type in classes:\n",
        "    path = 'images/Train/'+ pokemon_type\n",
        "    print(f'{pokemon_type} - {len(os.listdir(path))}')"
      ],
      "metadata": {
        "id": "Z60OB_LvwsAp",
        "outputId": "9904f9a8-6062-4784-e141-d3534f38ca21",
        "colab": {
          "base_uri": "https://localhost:8080/"
        }
      },
      "execution_count": 6,
      "outputs": [
        {
          "output_type": "stream",
          "name": "stdout",
          "text": [
            "Pikachu - 101\n",
            "Charmander - 102\n",
            "Bulbasaur - 101\n"
          ]
        }
      ]
    },
    {
      "cell_type": "code",
      "source": [
        "from keras_preprocessing import image"
      ],
      "metadata": {
        "id": "aMnBDyN4wuYr"
      },
      "execution_count": 7,
      "outputs": []
    },
    {
      "cell_type": "code",
      "source": [
        "train_data= []\n",
        "train_labels = []"
      ],
      "metadata": {
        "id": "emwtuDCTwxdI"
      },
      "execution_count": 8,
      "outputs": []
    },
    {
      "cell_type": "code",
      "source": [
        "for category in classes:\n",
        "    folder = f\"images/Train/{category}\"\n",
        "    for image_name in os.listdir(folder):\n",
        "        img_path = os.path.join(folder, image_name)\n",
        "        img = image.load_img(img_path, target_size = (100,100))\n",
        "        img_array = image.img_to_array(img)\n",
        "        train_data.append(img_array)\n",
        "        train_labels.append(category)"
      ],
      "metadata": {
        "id": "8MN96D_5w0Fs",
        "outputId": "be261c1c-6497-4af2-9066-d4b81eb4a478",
        "colab": {
          "base_uri": "https://localhost:8080/"
        }
      },
      "execution_count": 9,
      "outputs": [
        {
          "output_type": "stream",
          "name": "stderr",
          "text": [
            "/usr/local/lib/python3.10/dist-packages/PIL/Image.py:975: UserWarning: Palette images with Transparency expressed in bytes should be converted to RGBA images\n",
            "  warnings.warn(\n"
          ]
        }
      ]
    },
    {
      "cell_type": "code",
      "source": [
        "len(train_data)"
      ],
      "metadata": {
        "id": "uJSHE3zhw2o9",
        "outputId": "f2775a15-4809-4423-e0a8-1e806dc4452b",
        "colab": {
          "base_uri": "https://localhost:8080/"
        }
      },
      "execution_count": 10,
      "outputs": [
        {
          "output_type": "execute_result",
          "data": {
            "text/plain": [
              "304"
            ]
          },
          "metadata": {},
          "execution_count": 10
        }
      ]
    },
    {
      "cell_type": "code",
      "source": [
        "train_data = np.array(train_data)\n",
        "train_labels = np.array(train_labels)"
      ],
      "metadata": {
        "id": "mFxRQu8uw5BD"
      },
      "execution_count": 11,
      "outputs": []
    },
    {
      "cell_type": "code",
      "source": [
        "train_data = train_data.reshape(len(train_data), 30000)"
      ],
      "metadata": {
        "id": "k5tchKGYw7Wp"
      },
      "execution_count": 12,
      "outputs": []
    },
    {
      "cell_type": "code",
      "source": [
        "train_data.shape"
      ],
      "metadata": {
        "id": "iONx4tJHw9j9",
        "outputId": "2a8aabfe-503d-4df8-ca59-3d902bc69016",
        "colab": {
          "base_uri": "https://localhost:8080/"
        }
      },
      "execution_count": 13,
      "outputs": [
        {
          "output_type": "execute_result",
          "data": {
            "text/plain": [
              "(304, 30000)"
            ]
          },
          "metadata": {},
          "execution_count": 13
        }
      ]
    },
    {
      "cell_type": "code",
      "source": [
        "category2label = {\"Pikachu\": 0, \"Charmander\": 1,\"Bulbasaur\": 2}\n",
        "label2category = {0: \"Pikachu\", 1: \"Charmander\", 2: \"Bulbasaur\"}"
      ],
      "metadata": {
        "id": "TTZ0yhcKw_1A"
      },
      "execution_count": 14,
      "outputs": []
    },
    {
      "cell_type": "code",
      "source": [
        "train_labels = np.array([category2label[label] for label in train_labels])"
      ],
      "metadata": {
        "id": "uI6E7jDCxCxr"
      },
      "execution_count": 15,
      "outputs": []
    },
    {
      "cell_type": "code",
      "source": [
        "from keras.utils import to_categorical"
      ],
      "metadata": {
        "id": "V3UEFIvexFun"
      },
      "execution_count": 16,
      "outputs": []
    },
    {
      "cell_type": "code",
      "source": [
        "train_labels = to_categorical(train_labels)\n",
        "train_labels"
      ],
      "metadata": {
        "id": "AJ96ShSWxIMr",
        "outputId": "d8a36e9b-9c8c-46a2-9f93-2544e25a5d01",
        "colab": {
          "base_uri": "https://localhost:8080/"
        }
      },
      "execution_count": 17,
      "outputs": [
        {
          "output_type": "execute_result",
          "data": {
            "text/plain": [
              "array([[1., 0., 0.],\n",
              "       [1., 0., 0.],\n",
              "       [1., 0., 0.],\n",
              "       [1., 0., 0.],\n",
              "       [1., 0., 0.],\n",
              "       [1., 0., 0.],\n",
              "       [1., 0., 0.],\n",
              "       [1., 0., 0.],\n",
              "       [1., 0., 0.],\n",
              "       [1., 0., 0.],\n",
              "       [1., 0., 0.],\n",
              "       [1., 0., 0.],\n",
              "       [1., 0., 0.],\n",
              "       [1., 0., 0.],\n",
              "       [1., 0., 0.],\n",
              "       [1., 0., 0.],\n",
              "       [1., 0., 0.],\n",
              "       [1., 0., 0.],\n",
              "       [1., 0., 0.],\n",
              "       [1., 0., 0.],\n",
              "       [1., 0., 0.],\n",
              "       [1., 0., 0.],\n",
              "       [1., 0., 0.],\n",
              "       [1., 0., 0.],\n",
              "       [1., 0., 0.],\n",
              "       [1., 0., 0.],\n",
              "       [1., 0., 0.],\n",
              "       [1., 0., 0.],\n",
              "       [1., 0., 0.],\n",
              "       [1., 0., 0.],\n",
              "       [1., 0., 0.],\n",
              "       [1., 0., 0.],\n",
              "       [1., 0., 0.],\n",
              "       [1., 0., 0.],\n",
              "       [1., 0., 0.],\n",
              "       [1., 0., 0.],\n",
              "       [1., 0., 0.],\n",
              "       [1., 0., 0.],\n",
              "       [1., 0., 0.],\n",
              "       [1., 0., 0.],\n",
              "       [1., 0., 0.],\n",
              "       [1., 0., 0.],\n",
              "       [1., 0., 0.],\n",
              "       [1., 0., 0.],\n",
              "       [1., 0., 0.],\n",
              "       [1., 0., 0.],\n",
              "       [1., 0., 0.],\n",
              "       [1., 0., 0.],\n",
              "       [1., 0., 0.],\n",
              "       [1., 0., 0.],\n",
              "       [1., 0., 0.],\n",
              "       [1., 0., 0.],\n",
              "       [1., 0., 0.],\n",
              "       [1., 0., 0.],\n",
              "       [1., 0., 0.],\n",
              "       [1., 0., 0.],\n",
              "       [1., 0., 0.],\n",
              "       [1., 0., 0.],\n",
              "       [1., 0., 0.],\n",
              "       [1., 0., 0.],\n",
              "       [1., 0., 0.],\n",
              "       [1., 0., 0.],\n",
              "       [1., 0., 0.],\n",
              "       [1., 0., 0.],\n",
              "       [1., 0., 0.],\n",
              "       [1., 0., 0.],\n",
              "       [1., 0., 0.],\n",
              "       [1., 0., 0.],\n",
              "       [1., 0., 0.],\n",
              "       [1., 0., 0.],\n",
              "       [1., 0., 0.],\n",
              "       [1., 0., 0.],\n",
              "       [1., 0., 0.],\n",
              "       [1., 0., 0.],\n",
              "       [1., 0., 0.],\n",
              "       [1., 0., 0.],\n",
              "       [1., 0., 0.],\n",
              "       [1., 0., 0.],\n",
              "       [1., 0., 0.],\n",
              "       [1., 0., 0.],\n",
              "       [1., 0., 0.],\n",
              "       [1., 0., 0.],\n",
              "       [1., 0., 0.],\n",
              "       [1., 0., 0.],\n",
              "       [1., 0., 0.],\n",
              "       [1., 0., 0.],\n",
              "       [1., 0., 0.],\n",
              "       [1., 0., 0.],\n",
              "       [1., 0., 0.],\n",
              "       [1., 0., 0.],\n",
              "       [1., 0., 0.],\n",
              "       [1., 0., 0.],\n",
              "       [1., 0., 0.],\n",
              "       [1., 0., 0.],\n",
              "       [1., 0., 0.],\n",
              "       [1., 0., 0.],\n",
              "       [1., 0., 0.],\n",
              "       [1., 0., 0.],\n",
              "       [1., 0., 0.],\n",
              "       [1., 0., 0.],\n",
              "       [1., 0., 0.],\n",
              "       [0., 1., 0.],\n",
              "       [0., 1., 0.],\n",
              "       [0., 1., 0.],\n",
              "       [0., 1., 0.],\n",
              "       [0., 1., 0.],\n",
              "       [0., 1., 0.],\n",
              "       [0., 1., 0.],\n",
              "       [0., 1., 0.],\n",
              "       [0., 1., 0.],\n",
              "       [0., 1., 0.],\n",
              "       [0., 1., 0.],\n",
              "       [0., 1., 0.],\n",
              "       [0., 1., 0.],\n",
              "       [0., 1., 0.],\n",
              "       [0., 1., 0.],\n",
              "       [0., 1., 0.],\n",
              "       [0., 1., 0.],\n",
              "       [0., 1., 0.],\n",
              "       [0., 1., 0.],\n",
              "       [0., 1., 0.],\n",
              "       [0., 1., 0.],\n",
              "       [0., 1., 0.],\n",
              "       [0., 1., 0.],\n",
              "       [0., 1., 0.],\n",
              "       [0., 1., 0.],\n",
              "       [0., 1., 0.],\n",
              "       [0., 1., 0.],\n",
              "       [0., 1., 0.],\n",
              "       [0., 1., 0.],\n",
              "       [0., 1., 0.],\n",
              "       [0., 1., 0.],\n",
              "       [0., 1., 0.],\n",
              "       [0., 1., 0.],\n",
              "       [0., 1., 0.],\n",
              "       [0., 1., 0.],\n",
              "       [0., 1., 0.],\n",
              "       [0., 1., 0.],\n",
              "       [0., 1., 0.],\n",
              "       [0., 1., 0.],\n",
              "       [0., 1., 0.],\n",
              "       [0., 1., 0.],\n",
              "       [0., 1., 0.],\n",
              "       [0., 1., 0.],\n",
              "       [0., 1., 0.],\n",
              "       [0., 1., 0.],\n",
              "       [0., 1., 0.],\n",
              "       [0., 1., 0.],\n",
              "       [0., 1., 0.],\n",
              "       [0., 1., 0.],\n",
              "       [0., 1., 0.],\n",
              "       [0., 1., 0.],\n",
              "       [0., 1., 0.],\n",
              "       [0., 1., 0.],\n",
              "       [0., 1., 0.],\n",
              "       [0., 1., 0.],\n",
              "       [0., 1., 0.],\n",
              "       [0., 1., 0.],\n",
              "       [0., 1., 0.],\n",
              "       [0., 1., 0.],\n",
              "       [0., 1., 0.],\n",
              "       [0., 1., 0.],\n",
              "       [0., 1., 0.],\n",
              "       [0., 1., 0.],\n",
              "       [0., 1., 0.],\n",
              "       [0., 1., 0.],\n",
              "       [0., 1., 0.],\n",
              "       [0., 1., 0.],\n",
              "       [0., 1., 0.],\n",
              "       [0., 1., 0.],\n",
              "       [0., 1., 0.],\n",
              "       [0., 1., 0.],\n",
              "       [0., 1., 0.],\n",
              "       [0., 1., 0.],\n",
              "       [0., 1., 0.],\n",
              "       [0., 1., 0.],\n",
              "       [0., 1., 0.],\n",
              "       [0., 1., 0.],\n",
              "       [0., 1., 0.],\n",
              "       [0., 1., 0.],\n",
              "       [0., 1., 0.],\n",
              "       [0., 1., 0.],\n",
              "       [0., 1., 0.],\n",
              "       [0., 1., 0.],\n",
              "       [0., 1., 0.],\n",
              "       [0., 1., 0.],\n",
              "       [0., 1., 0.],\n",
              "       [0., 1., 0.],\n",
              "       [0., 1., 0.],\n",
              "       [0., 1., 0.],\n",
              "       [0., 1., 0.],\n",
              "       [0., 1., 0.],\n",
              "       [0., 1., 0.],\n",
              "       [0., 1., 0.],\n",
              "       [0., 1., 0.],\n",
              "       [0., 1., 0.],\n",
              "       [0., 1., 0.],\n",
              "       [0., 1., 0.],\n",
              "       [0., 1., 0.],\n",
              "       [0., 1., 0.],\n",
              "       [0., 1., 0.],\n",
              "       [0., 1., 0.],\n",
              "       [0., 1., 0.],\n",
              "       [0., 0., 1.],\n",
              "       [0., 0., 1.],\n",
              "       [0., 0., 1.],\n",
              "       [0., 0., 1.],\n",
              "       [0., 0., 1.],\n",
              "       [0., 0., 1.],\n",
              "       [0., 0., 1.],\n",
              "       [0., 0., 1.],\n",
              "       [0., 0., 1.],\n",
              "       [0., 0., 1.],\n",
              "       [0., 0., 1.],\n",
              "       [0., 0., 1.],\n",
              "       [0., 0., 1.],\n",
              "       [0., 0., 1.],\n",
              "       [0., 0., 1.],\n",
              "       [0., 0., 1.],\n",
              "       [0., 0., 1.],\n",
              "       [0., 0., 1.],\n",
              "       [0., 0., 1.],\n",
              "       [0., 0., 1.],\n",
              "       [0., 0., 1.],\n",
              "       [0., 0., 1.],\n",
              "       [0., 0., 1.],\n",
              "       [0., 0., 1.],\n",
              "       [0., 0., 1.],\n",
              "       [0., 0., 1.],\n",
              "       [0., 0., 1.],\n",
              "       [0., 0., 1.],\n",
              "       [0., 0., 1.],\n",
              "       [0., 0., 1.],\n",
              "       [0., 0., 1.],\n",
              "       [0., 0., 1.],\n",
              "       [0., 0., 1.],\n",
              "       [0., 0., 1.],\n",
              "       [0., 0., 1.],\n",
              "       [0., 0., 1.],\n",
              "       [0., 0., 1.],\n",
              "       [0., 0., 1.],\n",
              "       [0., 0., 1.],\n",
              "       [0., 0., 1.],\n",
              "       [0., 0., 1.],\n",
              "       [0., 0., 1.],\n",
              "       [0., 0., 1.],\n",
              "       [0., 0., 1.],\n",
              "       [0., 0., 1.],\n",
              "       [0., 0., 1.],\n",
              "       [0., 0., 1.],\n",
              "       [0., 0., 1.],\n",
              "       [0., 0., 1.],\n",
              "       [0., 0., 1.],\n",
              "       [0., 0., 1.],\n",
              "       [0., 0., 1.],\n",
              "       [0., 0., 1.],\n",
              "       [0., 0., 1.],\n",
              "       [0., 0., 1.],\n",
              "       [0., 0., 1.],\n",
              "       [0., 0., 1.],\n",
              "       [0., 0., 1.],\n",
              "       [0., 0., 1.],\n",
              "       [0., 0., 1.],\n",
              "       [0., 0., 1.],\n",
              "       [0., 0., 1.],\n",
              "       [0., 0., 1.],\n",
              "       [0., 0., 1.],\n",
              "       [0., 0., 1.],\n",
              "       [0., 0., 1.],\n",
              "       [0., 0., 1.],\n",
              "       [0., 0., 1.],\n",
              "       [0., 0., 1.],\n",
              "       [0., 0., 1.],\n",
              "       [0., 0., 1.],\n",
              "       [0., 0., 1.],\n",
              "       [0., 0., 1.],\n",
              "       [0., 0., 1.],\n",
              "       [0., 0., 1.],\n",
              "       [0., 0., 1.],\n",
              "       [0., 0., 1.],\n",
              "       [0., 0., 1.],\n",
              "       [0., 0., 1.],\n",
              "       [0., 0., 1.],\n",
              "       [0., 0., 1.],\n",
              "       [0., 0., 1.],\n",
              "       [0., 0., 1.],\n",
              "       [0., 0., 1.],\n",
              "       [0., 0., 1.],\n",
              "       [0., 0., 1.],\n",
              "       [0., 0., 1.],\n",
              "       [0., 0., 1.],\n",
              "       [0., 0., 1.],\n",
              "       [0., 0., 1.],\n",
              "       [0., 0., 1.],\n",
              "       [0., 0., 1.],\n",
              "       [0., 0., 1.],\n",
              "       [0., 0., 1.],\n",
              "       [0., 0., 1.],\n",
              "       [0., 0., 1.],\n",
              "       [0., 0., 1.],\n",
              "       [0., 0., 1.],\n",
              "       [0., 0., 1.],\n",
              "       [0., 0., 1.],\n",
              "       [0., 0., 1.]], dtype=float32)"
            ]
          },
          "metadata": {},
          "execution_count": 17
        }
      ]
    },
    {
      "cell_type": "code",
      "source": [
        "from keras.layers import Dense\n",
        "from keras import Sequential"
      ],
      "metadata": {
        "id": "DsJtFvW1xPt_"
      },
      "execution_count": 18,
      "outputs": []
    },
    {
      "cell_type": "code",
      "source": [
        "features = train_data.shape[1]"
      ],
      "metadata": {
        "id": "RnVndjjdxSoh"
      },
      "execution_count": 19,
      "outputs": []
    },
    {
      "cell_type": "code",
      "source": [
        "model = Sequential([\n",
        "    Dense(units = 512, activation = 'relu', input_shape = (features,)),\n",
        "    (Dense(units = 256, activation = 'relu')),\n",
        "    (Dense(units = 128, activation = 'relu')),\n",
        "    (Dense(units = 64, activation = 'relu')),\n",
        "    (Dense(units = 3, activation = 'softmax'))\n",
        "])\n",
        ""
      ],
      "metadata": {
        "id": "0wNErgr0xVz8"
      },
      "execution_count": 20,
      "outputs": []
    },
    {
      "cell_type": "code",
      "source": [
        "model.compile(optimizer = \"adam\",loss = \"categorical_crossentropy\", metrics = [\"accuracy\"])"
      ],
      "metadata": {
        "id": "_o7Si7_4xW1I"
      },
      "execution_count": 21,
      "outputs": []
    },
    {
      "cell_type": "code",
      "source": [
        "model.summary()"
      ],
      "metadata": {
        "id": "90xFgq1nxbJo",
        "outputId": "03679e7e-28b5-4af7-e59d-bc316116e41c",
        "colab": {
          "base_uri": "https://localhost:8080/"
        }
      },
      "execution_count": 22,
      "outputs": [
        {
          "output_type": "stream",
          "name": "stdout",
          "text": [
            "Model: \"sequential\"\n",
            "_________________________________________________________________\n",
            " Layer (type)                Output Shape              Param #   \n",
            "=================================================================\n",
            " dense (Dense)               (None, 512)               15360512  \n",
            "                                                                 \n",
            " dense_1 (Dense)             (None, 256)               131328    \n",
            "                                                                 \n",
            " dense_2 (Dense)             (None, 128)               32896     \n",
            "                                                                 \n",
            " dense_3 (Dense)             (None, 64)                8256      \n",
            "                                                                 \n",
            " dense_4 (Dense)             (None, 3)                 195       \n",
            "                                                                 \n",
            "=================================================================\n",
            "Total params: 15,533,187\n",
            "Trainable params: 15,533,187\n",
            "Non-trainable params: 0\n",
            "_________________________________________________________________\n"
          ]
        }
      ]
    },
    {
      "cell_type": "code",
      "source": [
        "model.fit(train_data, train_labels, batch_size = 32, epochs = 50)"
      ],
      "metadata": {
        "id": "LUchMx1-xdil",
        "outputId": "aadbfc7f-d5d4-4c78-8071-73cb6f1f1cd8",
        "colab": {
          "base_uri": "https://localhost:8080/"
        }
      },
      "execution_count": 23,
      "outputs": [
        {
          "output_type": "stream",
          "name": "stdout",
          "text": [
            "Epoch 1/50\n",
            "10/10 [==============================] - 3s 171ms/step - loss: 3775.8535 - accuracy: 0.3289\n",
            "Epoch 2/50\n",
            "10/10 [==============================] - 2s 162ms/step - loss: 1447.9502 - accuracy: 0.3914\n",
            "Epoch 3/50\n",
            "10/10 [==============================] - 2s 163ms/step - loss: 710.1490 - accuracy: 0.4441\n",
            "Epoch 4/50\n",
            "10/10 [==============================] - 2s 157ms/step - loss: 485.3643 - accuracy: 0.5658\n",
            "Epoch 5/50\n",
            "10/10 [==============================] - 2s 155ms/step - loss: 176.4742 - accuracy: 0.6546\n",
            "Epoch 6/50\n",
            "10/10 [==============================] - 2s 151ms/step - loss: 101.7351 - accuracy: 0.7336\n",
            "Epoch 7/50\n",
            "10/10 [==============================] - 2s 223ms/step - loss: 175.9976 - accuracy: 0.7138\n",
            "Epoch 8/50\n",
            "10/10 [==============================] - 2s 164ms/step - loss: 73.9266 - accuracy: 0.7500\n",
            "Epoch 9/50\n",
            "10/10 [==============================] - 2s 159ms/step - loss: 64.3621 - accuracy: 0.7829\n",
            "Epoch 10/50\n",
            "10/10 [==============================] - 2s 160ms/step - loss: 56.0056 - accuracy: 0.7993\n",
            "Epoch 11/50\n",
            "10/10 [==============================] - 2s 159ms/step - loss: 41.2901 - accuracy: 0.7829\n",
            "Epoch 12/50\n",
            "10/10 [==============================] - 2s 161ms/step - loss: 21.2282 - accuracy: 0.9079\n",
            "Epoch 13/50\n",
            "10/10 [==============================] - 2s 158ms/step - loss: 9.6254 - accuracy: 0.9474\n",
            "Epoch 14/50\n",
            "10/10 [==============================] - 2s 241ms/step - loss: 14.3789 - accuracy: 0.9079\n",
            "Epoch 15/50\n",
            "10/10 [==============================] - 2s 159ms/step - loss: 8.5252 - accuracy: 0.9309\n",
            "Epoch 16/50\n",
            "10/10 [==============================] - 2s 153ms/step - loss: 6.4798 - accuracy: 0.9408\n",
            "Epoch 17/50\n",
            "10/10 [==============================] - 2s 160ms/step - loss: 4.4121 - accuracy: 0.9638\n",
            "Epoch 18/50\n",
            "10/10 [==============================] - 2s 150ms/step - loss: 2.4872 - accuracy: 0.9836\n",
            "Epoch 19/50\n",
            "10/10 [==============================] - 2s 154ms/step - loss: 3.0227 - accuracy: 0.9671\n",
            "Epoch 20/50\n",
            "10/10 [==============================] - 2s 149ms/step - loss: 3.1284 - accuracy: 0.9770\n",
            "Epoch 21/50\n",
            "10/10 [==============================] - 3s 304ms/step - loss: 0.2842 - accuracy: 0.9934\n",
            "Epoch 22/50\n",
            "10/10 [==============================] - 2s 189ms/step - loss: 3.5858 - accuracy: 0.9539\n",
            "Epoch 23/50\n",
            "10/10 [==============================] - 2s 152ms/step - loss: 2.3126 - accuracy: 0.9671\n",
            "Epoch 24/50\n",
            "10/10 [==============================] - 2s 162ms/step - loss: 2.9163 - accuracy: 0.9671\n",
            "Epoch 25/50\n",
            "10/10 [==============================] - 2s 152ms/step - loss: 8.4813 - accuracy: 0.9474\n",
            "Epoch 26/50\n",
            "10/10 [==============================] - 2s 155ms/step - loss: 41.4803 - accuracy: 0.8553\n",
            "Epoch 27/50\n",
            "10/10 [==============================] - 2s 155ms/step - loss: 57.3845 - accuracy: 0.7993\n",
            "Epoch 28/50\n",
            "10/10 [==============================] - 2s 225ms/step - loss: 8.5274 - accuracy: 0.9178\n",
            "Epoch 29/50\n",
            "10/10 [==============================] - 2s 165ms/step - loss: 3.6366 - accuracy: 0.9770\n",
            "Epoch 30/50\n",
            "10/10 [==============================] - 2s 159ms/step - loss: 2.9401 - accuracy: 0.9572\n",
            "Epoch 31/50\n",
            "10/10 [==============================] - 2s 161ms/step - loss: 12.2725 - accuracy: 0.9211\n",
            "Epoch 32/50\n",
            "10/10 [==============================] - 2s 160ms/step - loss: 11.2112 - accuracy: 0.9309\n",
            "Epoch 33/50\n",
            "10/10 [==============================] - 2s 157ms/step - loss: 9.5433 - accuracy: 0.9243\n",
            "Epoch 34/50\n",
            "10/10 [==============================] - 2s 157ms/step - loss: 20.3782 - accuracy: 0.8553\n",
            "Epoch 35/50\n",
            "10/10 [==============================] - 2s 234ms/step - loss: 15.7632 - accuracy: 0.8914\n",
            "Epoch 36/50\n",
            "10/10 [==============================] - 2s 161ms/step - loss: 26.1121 - accuracy: 0.8947\n",
            "Epoch 37/50\n",
            "10/10 [==============================] - 2s 159ms/step - loss: 11.4814 - accuracy: 0.8816\n",
            "Epoch 38/50\n",
            "10/10 [==============================] - 2s 154ms/step - loss: 1.3886 - accuracy: 0.9836\n",
            "Epoch 39/50\n",
            "10/10 [==============================] - 2s 159ms/step - loss: 1.5315 - accuracy: 0.9770\n",
            "Epoch 40/50\n",
            "10/10 [==============================] - 2s 156ms/step - loss: 0.4640 - accuracy: 0.9901\n",
            "Epoch 41/50\n",
            "10/10 [==============================] - 2s 155ms/step - loss: 2.2334 - accuracy: 0.9803\n",
            "Epoch 42/50\n",
            "10/10 [==============================] - 2s 229ms/step - loss: 4.3520 - accuracy: 0.9605\n",
            "Epoch 43/50\n",
            "10/10 [==============================] - 2s 157ms/step - loss: 10.8156 - accuracy: 0.9375\n",
            "Epoch 44/50\n",
            "10/10 [==============================] - 2s 154ms/step - loss: 5.3592 - accuracy: 0.9572\n",
            "Epoch 45/50\n",
            "10/10 [==============================] - 2s 151ms/step - loss: 5.5043 - accuracy: 0.9638\n",
            "Epoch 46/50\n",
            "10/10 [==============================] - 2s 153ms/step - loss: 1.7019 - accuracy: 0.9868\n",
            "Epoch 47/50\n",
            "10/10 [==============================] - 2s 154ms/step - loss: 3.7703 - accuracy: 0.9638\n",
            "Epoch 48/50\n",
            "10/10 [==============================] - 2s 154ms/step - loss: 2.9489 - accuracy: 0.9770\n",
            "Epoch 49/50\n",
            "10/10 [==============================] - 2s 206ms/step - loss: 0.0000e+00 - accuracy: 1.0000\n",
            "Epoch 50/50\n",
            "10/10 [==============================] - 2s 176ms/step - loss: 0.0247 - accuracy: 0.9967\n"
          ]
        },
        {
          "output_type": "execute_result",
          "data": {
            "text/plain": [
              "<keras.callbacks.History at 0x7b3c0aab3f70>"
            ]
          },
          "metadata": {},
          "execution_count": 23
        }
      ]
    },
    {
      "cell_type": "code",
      "source": [
        "test_image = \"/content/download.jpg\"\n",
        "img = image.load_img(test_image, target_size = (100, 100))\n",
        "img = image.img_to_array(img)\n",
        "img.shape"
      ],
      "metadata": {
        "id": "oNo3_ni3xg06",
        "outputId": "61b6b11f-10ff-4cbe-a440-6de0c3ecb7c0",
        "colab": {
          "base_uri": "https://localhost:8080/"
        }
      },
      "execution_count": 28,
      "outputs": [
        {
          "output_type": "execute_result",
          "data": {
            "text/plain": [
              "(100, 100, 3)"
            ]
          },
          "metadata": {},
          "execution_count": 28
        }
      ]
    },
    {
      "cell_type": "code",
      "source": [
        "plt.imshow(img.astype('int'));\n"
      ],
      "metadata": {
        "id": "59Xr2kmPxkZj",
        "outputId": "621397c3-8e88-4b01-a515-c2a62eeb7cf8",
        "colab": {
          "base_uri": "https://localhost:8080/",
          "height": 433
        }
      },
      "execution_count": 29,
      "outputs": [
        {
          "output_type": "display_data",
          "data": {
            "text/plain": [
              "<Figure size 640x480 with 1 Axes>"
            ],
            "image/png": "[encoded data removed]"
          },
          "metadata": {}
        }
      ]
    },
    {
      "cell_type": "code",
      "source": [
        "img = img.reshape(1, 30000)"
      ],
      "metadata": {
        "id": "oXxPpC1hxpHE"
      },
      "execution_count": 30,
      "outputs": []
    },
    {
      "cell_type": "code",
      "source": [
        "model.predict(img).argmax()"
      ],
      "metadata": {
        "id": "IkebE6k6xrxn",
        "outputId": "53a96628-36a2-4dd1-a3fe-cf9e87a0f802",
        "colab": {
          "base_uri": "https://localhost:8080/"
        }
      },
      "execution_count": 31,
      "outputs": [
        {
          "output_type": "stream",
          "name": "stdout",
          "text": [
            "1/1 [==============================] - 0s 113ms/step\n"
          ]
        },
        {
          "output_type": "execute_result",
          "data": {
            "text/plain": [
              "0"
            ]
          },
          "metadata": {},
          "execution_count": 31
        }
      ]
    },
    {
      "cell_type": "code",
      "source": [
        "pred = label2category[model.predict(img).argmax()]\n",
        "pred"
      ],
      "metadata": {
        "id": "fuBf2dYqxuLq",
        "outputId": "1c10dd86-c0fe-4f64-b2e6-4c6525c9623c",
        "colab": {
          "base_uri": "https://localhost:8080/",
          "height": 53
        }
      },
      "execution_count": 32,
      "outputs": [
        {
          "output_type": "stream",
          "name": "stdout",
          "text": [
            "1/1 [==============================] - 0s 29ms/step\n"
          ]
        },
        {
          "output_type": "execute_result",
          "data": {
            "text/plain": [
              "'Pikachu'"
            ],
            "application/vnd.google.colaboratory.intrinsic+json": {
              "type": "string"
            }
          },
          "metadata": {},
          "execution_count": 32
        }
      ]
    },
    {
      "cell_type": "code",
      "source": [],
      "metadata": {
        "id": "FvyMTaxH31TV"
      },
      "execution_count": null,
      "outputs": []
    }
  ],
  "metadata": {
    "language_info": {
      "name": "python"
    },
    "orig_nbformat": 4,
    "colab": {
      "provenance": []
    },
    "kernelspec": {
      "name": "python3",
      "display_name": "Python 3"
    }
  },
  "nbformat": 4,
  "nbformat_minor": 0
}