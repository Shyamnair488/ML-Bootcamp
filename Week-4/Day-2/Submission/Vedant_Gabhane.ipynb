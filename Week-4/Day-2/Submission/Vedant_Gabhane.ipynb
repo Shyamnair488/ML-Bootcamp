{
  "cells": [
    {
      "cell_type": "code",
      "execution_count": 62,
      "metadata": {
        "id": "21nfMU6WMNo_"
      },
      "outputs": [],
      "source": [
        "import numpy as np\n",
        "import pandas as pd\n",
        "import matplotlib.pyplot as plt\n",
        "import os"
      ]
    },
    {
      "cell_type": "code",
      "execution_count": 63,
      "metadata": {
        "colab": {
          "base_uri": "https://localhost:8080/"
        },
        "id": "NhmOR0FmMNpA",
        "outputId": "3ef44fa8-4dd7-49d5-b6c6-c9ac3500c707"
      },
      "outputs": [
        {
          "output_type": "stream",
          "name": "stdout",
          "text": [
            "--2023-07-20 07:59:59--  https://www.dropbox.com/sh/s9r1av3m4eatd3y/AAA8zYti5b5tnyKfcah2Reaja\n",
            "Resolving www.dropbox.com (www.dropbox.com)... 162.125.4.18, 2620:100:6019:18::a27d:412\n",
            "Connecting to www.dropbox.com (www.dropbox.com)|162.125.4.18|:443... connected.\n",
            "HTTP request sent, awaiting response... 302 Found\n",
            "Location: /sh/raw/s9r1av3m4eatd3y/AAA8zYti5b5tnyKfcah2Reaja [following]\n",
            "--2023-07-20 07:59:59--  https://www.dropbox.com/sh/raw/s9r1av3m4eatd3y/AAA8zYti5b5tnyKfcah2Reaja\n",
            "Reusing existing connection to www.dropbox.com:443.\n",
            "HTTP request sent, awaiting response... 302 Found\n",
            "Location: https://ucf9341e70c62b24e3aa2babeb3d.dl.dropboxusercontent.com/zip_download_get/BjmSFqjBsSu2ok8ze4eWDO0uG5flTFuKNJzi6pTWKeIIR-bXjhNOh4rcrWm0zFP7uLDhXAhaAf15fzPU4v_-38dTl6otDa8Kjutq5IkpL58dQA# [following]\n",
            "--2023-07-20 08:00:01--  https://ucf9341e70c62b24e3aa2babeb3d.dl.dropboxusercontent.com/zip_download_get/BjmSFqjBsSu2ok8ze4eWDO0uG5flTFuKNJzi6pTWKeIIR-bXjhNOh4rcrWm0zFP7uLDhXAhaAf15fzPU4v_-38dTl6otDa8Kjutq5IkpL58dQA\n",
            "Resolving ucf9341e70c62b24e3aa2babeb3d.dl.dropboxusercontent.com (ucf9341e70c62b24e3aa2babeb3d.dl.dropboxusercontent.com)... 162.125.4.15, 2620:100:601c:15::a27d:60f\n",
            "Connecting to ucf9341e70c62b24e3aa2babeb3d.dl.dropboxusercontent.com (ucf9341e70c62b24e3aa2babeb3d.dl.dropboxusercontent.com)|162.125.4.15|:443... connected.\n",
            "HTTP request sent, awaiting response... 200 OK\n",
            "Length: 108475527 (103M) [application/zip]\n",
            "Saving to: ‘data’\n",
            "\n",
            "data                100%[===================>] 103.45M  23.3MB/s    in 4.6s    \n",
            "\n",
            "2023-07-20 08:00:06 (22.5 MB/s) - ‘data’ saved [108475527/108475527]\n",
            "\n"
          ]
        }
      ],
      "source": [
        "! wget https://www.dropbox.com/sh/s9r1av3m4eatd3y/AAA8zYti5b5tnyKfcah2Reaja -O data"
      ]
    },
    {
      "cell_type": "code",
      "execution_count": 64,
      "metadata": {
        "colab": {
          "base_uri": "https://localhost:8080/"
        },
        "id": "JFDWriJxMNpA",
        "outputId": "3ebc812b-6bde-4868-8b46-98adc20c4796"
      },
      "outputs": [
        {
          "output_type": "stream",
          "name": "stdout",
          "text": [
            "Archive:  data\n",
            "warning:  stripped absolute path spec from /\n",
            "mapname:  conversion of  failed\n",
            "replace images/Train/Pikachu/345.jpg? [y]es, [n]o, [A]ll, [N]one, [r]ename: "
          ]
        }
      ],
      "source": [
        "!unzip data -d \"images/\""
      ]
    },
    {
      "cell_type": "code",
      "execution_count": 65,
      "metadata": {
        "colab": {
          "base_uri": "https://localhost:8080/"
        },
        "id": "Q6zRBFEhMNpA",
        "outputId": "7101069b-dca3-4468-b08d-3ab6daf8ad81"
      },
      "outputs": [
        {
          "output_type": "stream",
          "name": "stdout",
          "text": [
            "Requirement already satisfied: keras_preprocessing in /usr/local/lib/python3.10/dist-packages (1.1.2)\n",
            "Requirement already satisfied: numpy>=1.9.1 in /usr/local/lib/python3.10/dist-packages (from keras_preprocessing) (1.22.4)\n",
            "Requirement already satisfied: six>=1.9.0 in /usr/local/lib/python3.10/dist-packages (from keras_preprocessing) (1.16.0)\n"
          ]
        }
      ],
      "source": [
        "pip install keras_preprocessing"
      ]
    },
    {
      "cell_type": "code",
      "source": [
        "classes = os.listdir(\"images/Train\")"
      ],
      "metadata": {
        "id": "PEIBxaT9MTTI"
      },
      "execution_count": 66,
      "outputs": []
    },
    {
      "cell_type": "code",
      "source": [
        "classes"
      ],
      "metadata": {
        "colab": {
          "base_uri": "https://localhost:8080/"
        },
        "id": "CDuOsvAeM-qO",
        "outputId": "bc1349d4-2c15-44fb-bad7-7499766818b6"
      },
      "execution_count": 67,
      "outputs": [
        {
          "output_type": "execute_result",
          "data": {
            "text/plain": [
              "['Pikachu', 'Bulbasaur', 'Charmander']"
            ]
          },
          "metadata": {},
          "execution_count": 67
        }
      ]
    },
    {
      "cell_type": "code",
      "source": [
        "for pokemon_type in classes:\n",
        "  path = \"images/Train/\" + pokemon_type\n",
        "  print(f\"{pokemon_type} - {len(os.listdir(path))}\")"
      ],
      "metadata": {
        "colab": {
          "base_uri": "https://localhost:8080/"
        },
        "id": "Ik-4uT6NM_mk",
        "outputId": "70fb5086-eebb-4485-9295-de8ac6ba0aae"
      },
      "execution_count": 68,
      "outputs": [
        {
          "output_type": "stream",
          "name": "stdout",
          "text": [
            "Pikachu - 101\n",
            "Bulbasaur - 101\n",
            "Charmander - 102\n"
          ]
        }
      ]
    },
    {
      "cell_type": "code",
      "source": [
        "for pokemon_type in classes:\n",
        "  path = \"images/Test/\" + pokemon_type\n",
        "  print(f\"{pokemon_type} - {len(os.listdir(path))}\")"
      ],
      "metadata": {
        "colab": {
          "base_uri": "https://localhost:8080/"
        },
        "id": "aPx6yru2NV8g",
        "outputId": "f5766ec2-7ad5-4e76-e9db-0c4ebbd0af3b"
      },
      "execution_count": 69,
      "outputs": [
        {
          "output_type": "stream",
          "name": "stdout",
          "text": [
            "Pikachu - 40\n",
            "Bulbasaur - 41\n",
            "Charmander - 42\n"
          ]
        }
      ]
    },
    {
      "cell_type": "code",
      "source": [
        "from keras_preprocessing import image"
      ],
      "metadata": {
        "id": "rf7MmUmVNiG-"
      },
      "execution_count": 70,
      "outputs": []
    },
    {
      "cell_type": "code",
      "source": [
        "train_data = []\n",
        "train_labels = []"
      ],
      "metadata": {
        "id": "R6kBURUsNoDz"
      },
      "execution_count": 71,
      "outputs": []
    },
    {
      "cell_type": "code",
      "source": [
        "for category in classes:\n",
        "  folder = f\"images/Train/{category}\"\n",
        "  for image_name in os.listdir(folder):\n",
        "    img_path = os.path.join(folder, image_name)\n",
        "\n",
        "    img = image.load_img(img_path, target_size=(100,100))\n",
        "    img_array = image.img_to_array(img)\n",
        "    train_data.append(img_array)\n",
        "    train_labels.append(category)"
      ],
      "metadata": {
        "colab": {
          "base_uri": "https://localhost:8080/"
        },
        "id": "d31YzBhGNtYo",
        "outputId": "8f8d81eb-c971-4d3a-df6f-14b9881e817a"
      },
      "execution_count": 72,
      "outputs": [
        {
          "output_type": "stream",
          "name": "stderr",
          "text": [
            "/usr/local/lib/python3.10/dist-packages/PIL/Image.py:975: UserWarning: Palette images with Transparency expressed in bytes should be converted to RGBA images\n",
            "  warnings.warn(\n"
          ]
        }
      ]
    },
    {
      "cell_type": "code",
      "source": [
        "len(train_data)"
      ],
      "metadata": {
        "colab": {
          "base_uri": "https://localhost:8080/"
        },
        "id": "JEwgmsyzOft4",
        "outputId": "dc30d429-ac4f-4402-fce9-1c4b424a2594"
      },
      "execution_count": 73,
      "outputs": [
        {
          "output_type": "execute_result",
          "data": {
            "text/plain": [
              "304"
            ]
          },
          "metadata": {},
          "execution_count": 73
        }
      ]
    },
    {
      "cell_type": "code",
      "source": [
        "train_data = np.array(train_data)\n",
        "train_labels = np.array(train_labels)"
      ],
      "metadata": {
        "id": "BquN9adROlJm"
      },
      "execution_count": 74,
      "outputs": []
    },
    {
      "cell_type": "code",
      "source": [
        "train_data = train_data.reshape(len(train_data), 30000)"
      ],
      "metadata": {
        "id": "XI4EamM3OpDn"
      },
      "execution_count": 75,
      "outputs": []
    },
    {
      "cell_type": "code",
      "source": [
        "train_data.shape"
      ],
      "metadata": {
        "colab": {
          "base_uri": "https://localhost:8080/"
        },
        "id": "3iUOiKscO4yv",
        "outputId": "07c3ced5-40a3-440a-b2da-5d83c274f32e"
      },
      "execution_count": 76,
      "outputs": [
        {
          "output_type": "execute_result",
          "data": {
            "text/plain": [
              "(304, 30000)"
            ]
          },
          "metadata": {},
          "execution_count": 76
        }
      ]
    },
    {
      "cell_type": "code",
      "source": [
        "category2label = {\"Pikachu\": 0, \"Charmander\":1, \"Bulbasaur\":2}\n",
        "label2category = {0:\"Pikachu\", 1:\"Charmander\", 2:\"Bulbasaur\"}"
      ],
      "metadata": {
        "id": "TSr5sc9yO6l-"
      },
      "execution_count": 77,
      "outputs": []
    },
    {
      "cell_type": "code",
      "source": [
        "train_labels = np.array([category2label[label] for label in train_labels])"
      ],
      "metadata": {
        "id": "Lr2E57oQPTF8"
      },
      "execution_count": 78,
      "outputs": []
    },
    {
      "cell_type": "code",
      "source": [
        "from keras.utils import to_categorical"
      ],
      "metadata": {
        "id": "rtQuh1MrPdEe"
      },
      "execution_count": 79,
      "outputs": []
    },
    {
      "cell_type": "code",
      "source": [
        "train_labels = to_categorical(train_labels)"
      ],
      "metadata": {
        "id": "V4ZdIj8rPu0R"
      },
      "execution_count": 80,
      "outputs": []
    },
    {
      "cell_type": "code",
      "source": [
        "train_labels"
      ],
      "metadata": {
        "colab": {
          "base_uri": "https://localhost:8080/"
        },
        "id": "_2ricK4EP0q5",
        "outputId": "11fffbaf-5d97-4630-f746-c2cd29ffbe2d"
      },
      "execution_count": 81,
      "outputs": [
        {
          "output_type": "execute_result",
          "data": {
            "text/plain": [
              "array([[1., 0., 0.],\n",
              "       [1., 0., 0.],\n",
              "       [1., 0., 0.],\n",
              "       [1., 0., 0.],\n",
              "       [1., 0., 0.],\n",
              "       [1., 0., 0.],\n",
              "       [1., 0., 0.],\n",
              "       [1., 0., 0.],\n",
              "       [1., 0., 0.],\n",
              "       [1., 0., 0.],\n",
              "       [1., 0., 0.],\n",
              "       [1., 0., 0.],\n",
              "       [1., 0., 0.],\n",
              "       [1., 0., 0.],\n",
              "       [1., 0., 0.],\n",
              "       [1., 0., 0.],\n",
              "       [1., 0., 0.],\n",
              "       [1., 0., 0.],\n",
              "       [1., 0., 0.],\n",
              "       [1., 0., 0.],\n",
              "       [1., 0., 0.],\n",
              "       [1., 0., 0.],\n",
              "       [1., 0., 0.],\n",
              "       [1., 0., 0.],\n",
              "       [1., 0., 0.],\n",
              "       [1., 0., 0.],\n",
              "       [1., 0., 0.],\n",
              "       [1., 0., 0.],\n",
              "       [1., 0., 0.],\n",
              "       [1., 0., 0.],\n",
              "       [1., 0., 0.],\n",
              "       [1., 0., 0.],\n",
              "       [1., 0., 0.],\n",
              "       [1., 0., 0.],\n",
              "       [1., 0., 0.],\n",
              "       [1., 0., 0.],\n",
              "       [1., 0., 0.],\n",
              "       [1., 0., 0.],\n",
              "       [1., 0., 0.],\n",
              "       [1., 0., 0.],\n",
              "       [1., 0., 0.],\n",
              "       [1., 0., 0.],\n",
              "       [1., 0., 0.],\n",
              "       [1., 0., 0.],\n",
              "       [1., 0., 0.],\n",
              "       [1., 0., 0.],\n",
              "       [1., 0., 0.],\n",
              "       [1., 0., 0.],\n",
              "       [1., 0., 0.],\n",
              "       [1., 0., 0.],\n",
              "       [1., 0., 0.],\n",
              "       [1., 0., 0.],\n",
              "       [1., 0., 0.],\n",
              "       [1., 0., 0.],\n",
              "       [1., 0., 0.],\n",
              "       [1., 0., 0.],\n",
              "       [1., 0., 0.],\n",
              "       [1., 0., 0.],\n",
              "       [1., 0., 0.],\n",
              "       [1., 0., 0.],\n",
              "       [1., 0., 0.],\n",
              "       [1., 0., 0.],\n",
              "       [1., 0., 0.],\n",
              "       [1., 0., 0.],\n",
              "       [1., 0., 0.],\n",
              "       [1., 0., 0.],\n",
              "       [1., 0., 0.],\n",
              "       [1., 0., 0.],\n",
              "       [1., 0., 0.],\n",
              "       [1., 0., 0.],\n",
              "       [1., 0., 0.],\n",
              "       [1., 0., 0.],\n",
              "       [1., 0., 0.],\n",
              "       [1., 0., 0.],\n",
              "       [1., 0., 0.],\n",
              "       [1., 0., 0.],\n",
              "       [1., 0., 0.],\n",
              "       [1., 0., 0.],\n",
              "       [1., 0., 0.],\n",
              "       [1., 0., 0.],\n",
              "       [1., 0., 0.],\n",
              "       [1., 0., 0.],\n",
              "       [1., 0., 0.],\n",
              "       [1., 0., 0.],\n",
              "       [1., 0., 0.],\n",
              "       [1., 0., 0.],\n",
              "       [1., 0., 0.],\n",
              "       [1., 0., 0.],\n",
              "       [1., 0., 0.],\n",
              "       [1., 0., 0.],\n",
              "       [1., 0., 0.],\n",
              "       [1., 0., 0.],\n",
              "       [1., 0., 0.],\n",
              "       [1., 0., 0.],\n",
              "       [1., 0., 0.],\n",
              "       [1., 0., 0.],\n",
              "       [1., 0., 0.],\n",
              "       [1., 0., 0.],\n",
              "       [1., 0., 0.],\n",
              "       [1., 0., 0.],\n",
              "       [1., 0., 0.],\n",
              "       [0., 0., 1.],\n",
              "       [0., 0., 1.],\n",
              "       [0., 0., 1.],\n",
              "       [0., 0., 1.],\n",
              "       [0., 0., 1.],\n",
              "       [0., 0., 1.],\n",
              "       [0., 0., 1.],\n",
              "       [0., 0., 1.],\n",
              "       [0., 0., 1.],\n",
              "       [0., 0., 1.],\n",
              "       [0., 0., 1.],\n",
              "       [0., 0., 1.],\n",
              "       [0., 0., 1.],\n",
              "       [0., 0., 1.],\n",
              "       [0., 0., 1.],\n",
              "       [0., 0., 1.],\n",
              "       [0., 0., 1.],\n",
              "       [0., 0., 1.],\n",
              "       [0., 0., 1.],\n",
              "       [0., 0., 1.],\n",
              "       [0., 0., 1.],\n",
              "       [0., 0., 1.],\n",
              "       [0., 0., 1.],\n",
              "       [0., 0., 1.],\n",
              "       [0., 0., 1.],\n",
              "       [0., 0., 1.],\n",
              "       [0., 0., 1.],\n",
              "       [0., 0., 1.],\n",
              "       [0., 0., 1.],\n",
              "       [0., 0., 1.],\n",
              "       [0., 0., 1.],\n",
              "       [0., 0., 1.],\n",
              "       [0., 0., 1.],\n",
              "       [0., 0., 1.],\n",
              "       [0., 0., 1.],\n",
              "       [0., 0., 1.],\n",
              "       [0., 0., 1.],\n",
              "       [0., 0., 1.],\n",
              "       [0., 0., 1.],\n",
              "       [0., 0., 1.],\n",
              "       [0., 0., 1.],\n",
              "       [0., 0., 1.],\n",
              "       [0., 0., 1.],\n",
              "       [0., 0., 1.],\n",
              "       [0., 0., 1.],\n",
              "       [0., 0., 1.],\n",
              "       [0., 0., 1.],\n",
              "       [0., 0., 1.],\n",
              "       [0., 0., 1.],\n",
              "       [0., 0., 1.],\n",
              "       [0., 0., 1.],\n",
              "       [0., 0., 1.],\n",
              "       [0., 0., 1.],\n",
              "       [0., 0., 1.],\n",
              "       [0., 0., 1.],\n",
              "       [0., 0., 1.],\n",
              "       [0., 0., 1.],\n",
              "       [0., 0., 1.],\n",
              "       [0., 0., 1.],\n",
              "       [0., 0., 1.],\n",
              "       [0., 0., 1.],\n",
              "       [0., 0., 1.],\n",
              "       [0., 0., 1.],\n",
              "       [0., 0., 1.],\n",
              "       [0., 0., 1.],\n",
              "       [0., 0., 1.],\n",
              "       [0., 0., 1.],\n",
              "       [0., 0., 1.],\n",
              "       [0., 0., 1.],\n",
              "       [0., 0., 1.],\n",
              "       [0., 0., 1.],\n",
              "       [0., 0., 1.],\n",
              "       [0., 0., 1.],\n",
              "       [0., 0., 1.],\n",
              "       [0., 0., 1.],\n",
              "       [0., 0., 1.],\n",
              "       [0., 0., 1.],\n",
              "       [0., 0., 1.],\n",
              "       [0., 0., 1.],\n",
              "       [0., 0., 1.],\n",
              "       [0., 0., 1.],\n",
              "       [0., 0., 1.],\n",
              "       [0., 0., 1.],\n",
              "       [0., 0., 1.],\n",
              "       [0., 0., 1.],\n",
              "       [0., 0., 1.],\n",
              "       [0., 0., 1.],\n",
              "       [0., 0., 1.],\n",
              "       [0., 0., 1.],\n",
              "       [0., 0., 1.],\n",
              "       [0., 0., 1.],\n",
              "       [0., 0., 1.],\n",
              "       [0., 0., 1.],\n",
              "       [0., 0., 1.],\n",
              "       [0., 0., 1.],\n",
              "       [0., 0., 1.],\n",
              "       [0., 0., 1.],\n",
              "       [0., 0., 1.],\n",
              "       [0., 0., 1.],\n",
              "       [0., 0., 1.],\n",
              "       [0., 0., 1.],\n",
              "       [0., 1., 0.],\n",
              "       [0., 1., 0.],\n",
              "       [0., 1., 0.],\n",
              "       [0., 1., 0.],\n",
              "       [0., 1., 0.],\n",
              "       [0., 1., 0.],\n",
              "       [0., 1., 0.],\n",
              "       [0., 1., 0.],\n",
              "       [0., 1., 0.],\n",
              "       [0., 1., 0.],\n",
              "       [0., 1., 0.],\n",
              "       [0., 1., 0.],\n",
              "       [0., 1., 0.],\n",
              "       [0., 1., 0.],\n",
              "       [0., 1., 0.],\n",
              "       [0., 1., 0.],\n",
              "       [0., 1., 0.],\n",
              "       [0., 1., 0.],\n",
              "       [0., 1., 0.],\n",
              "       [0., 1., 0.],\n",
              "       [0., 1., 0.],\n",
              "       [0., 1., 0.],\n",
              "       [0., 1., 0.],\n",
              "       [0., 1., 0.],\n",
              "       [0., 1., 0.],\n",
              "       [0., 1., 0.],\n",
              "       [0., 1., 0.],\n",
              "       [0., 1., 0.],\n",
              "       [0., 1., 0.],\n",
              "       [0., 1., 0.],\n",
              "       [0., 1., 0.],\n",
              "       [0., 1., 0.],\n",
              "       [0., 1., 0.],\n",
              "       [0., 1., 0.],\n",
              "       [0., 1., 0.],\n",
              "       [0., 1., 0.],\n",
              "       [0., 1., 0.],\n",
              "       [0., 1., 0.],\n",
              "       [0., 1., 0.],\n",
              "       [0., 1., 0.],\n",
              "       [0., 1., 0.],\n",
              "       [0., 1., 0.],\n",
              "       [0., 1., 0.],\n",
              "       [0., 1., 0.],\n",
              "       [0., 1., 0.],\n",
              "       [0., 1., 0.],\n",
              "       [0., 1., 0.],\n",
              "       [0., 1., 0.],\n",
              "       [0., 1., 0.],\n",
              "       [0., 1., 0.],\n",
              "       [0., 1., 0.],\n",
              "       [0., 1., 0.],\n",
              "       [0., 1., 0.],\n",
              "       [0., 1., 0.],\n",
              "       [0., 1., 0.],\n",
              "       [0., 1., 0.],\n",
              "       [0., 1., 0.],\n",
              "       [0., 1., 0.],\n",
              "       [0., 1., 0.],\n",
              "       [0., 1., 0.],\n",
              "       [0., 1., 0.],\n",
              "       [0., 1., 0.],\n",
              "       [0., 1., 0.],\n",
              "       [0., 1., 0.],\n",
              "       [0., 1., 0.],\n",
              "       [0., 1., 0.],\n",
              "       [0., 1., 0.],\n",
              "       [0., 1., 0.],\n",
              "       [0., 1., 0.],\n",
              "       [0., 1., 0.],\n",
              "       [0., 1., 0.],\n",
              "       [0., 1., 0.],\n",
              "       [0., 1., 0.],\n",
              "       [0., 1., 0.],\n",
              "       [0., 1., 0.],\n",
              "       [0., 1., 0.],\n",
              "       [0., 1., 0.],\n",
              "       [0., 1., 0.],\n",
              "       [0., 1., 0.],\n",
              "       [0., 1., 0.],\n",
              "       [0., 1., 0.],\n",
              "       [0., 1., 0.],\n",
              "       [0., 1., 0.],\n",
              "       [0., 1., 0.],\n",
              "       [0., 1., 0.],\n",
              "       [0., 1., 0.],\n",
              "       [0., 1., 0.],\n",
              "       [0., 1., 0.],\n",
              "       [0., 1., 0.],\n",
              "       [0., 1., 0.],\n",
              "       [0., 1., 0.],\n",
              "       [0., 1., 0.],\n",
              "       [0., 1., 0.],\n",
              "       [0., 1., 0.],\n",
              "       [0., 1., 0.],\n",
              "       [0., 1., 0.],\n",
              "       [0., 1., 0.],\n",
              "       [0., 1., 0.],\n",
              "       [0., 1., 0.],\n",
              "       [0., 1., 0.],\n",
              "       [0., 1., 0.],\n",
              "       [0., 1., 0.]], dtype=float32)"
            ]
          },
          "metadata": {},
          "execution_count": 81
        }
      ]
    },
    {
      "cell_type": "code",
      "source": [
        "from keras.layers import Dense\n",
        "from keras import Sequential"
      ],
      "metadata": {
        "id": "NvGLh9-nP14v"
      },
      "execution_count": 82,
      "outputs": []
    },
    {
      "cell_type": "code",
      "source": [
        "features = train_data.shape[1]"
      ],
      "metadata": {
        "id": "mjhqWem9QCZ_"
      },
      "execution_count": 83,
      "outputs": []
    },
    {
      "cell_type": "code",
      "source": [
        "model = Sequential()"
      ],
      "metadata": {
        "id": "GKSRz2QWQF1X"
      },
      "execution_count": 84,
      "outputs": []
    },
    {
      "cell_type": "code",
      "source": [
        "model.add( Dense(units=512, activation='relu', input_shape=(features,)))"
      ],
      "metadata": {
        "id": "LbUfpuKSQJwb"
      },
      "execution_count": 85,
      "outputs": []
    },
    {
      "cell_type": "code",
      "source": [
        "model.add( Dense(units=256, activation='relu'))"
      ],
      "metadata": {
        "id": "x2_lNOjrQWZ4"
      },
      "execution_count": 86,
      "outputs": []
    },
    {
      "cell_type": "code",
      "source": [
        "model.add( Dense(units=128, activation='relu'))"
      ],
      "metadata": {
        "id": "PUBKjHwdQySV"
      },
      "execution_count": 87,
      "outputs": []
    },
    {
      "cell_type": "code",
      "source": [
        "model.add( Dense(units=64, activation='relu'))"
      ],
      "metadata": {
        "id": "VUa8cf6zRFB4"
      },
      "execution_count": 88,
      "outputs": []
    },
    {
      "cell_type": "code",
      "source": [
        "model.add( Dense(units=3, activation='softmax'))"
      ],
      "metadata": {
        "id": "PMhdVpEjRMl9"
      },
      "execution_count": 89,
      "outputs": []
    },
    {
      "cell_type": "code",
      "source": [
        "model.compile(optimizer=\"adam\", loss=\"categorical_crossentropy\", metrics=[\"accuracy\"])"
      ],
      "metadata": {
        "id": "wPUTRmLJROYN"
      },
      "execution_count": 90,
      "outputs": []
    },
    {
      "cell_type": "code",
      "source": [
        "model.summary()"
      ],
      "metadata": {
        "colab": {
          "base_uri": "https://localhost:8080/"
        },
        "id": "UGc3MEAmRhyk",
        "outputId": "9d2fc8cd-c316-449c-9c49-fa945bd8fc54"
      },
      "execution_count": 91,
      "outputs": [
        {
          "output_type": "stream",
          "name": "stdout",
          "text": [
            "Model: \"sequential_2\"\n",
            "_________________________________________________________________\n",
            " Layer (type)                Output Shape              Param #   \n",
            "=================================================================\n",
            " dense_10 (Dense)            (None, 512)               15360512  \n",
            "                                                                 \n",
            " dense_11 (Dense)            (None, 256)               131328    \n",
            "                                                                 \n",
            " dense_12 (Dense)            (None, 128)               32896     \n",
            "                                                                 \n",
            " dense_13 (Dense)            (None, 64)                8256      \n",
            "                                                                 \n",
            " dense_14 (Dense)            (None, 3)                 195       \n",
            "                                                                 \n",
            "=================================================================\n",
            "Total params: 15,533,187\n",
            "Trainable params: 15,533,187\n",
            "Non-trainable params: 0\n",
            "_________________________________________________________________\n"
          ]
        }
      ]
    },
    {
      "cell_type": "code",
      "source": [
        "model.fit(train_data, train_labels, batch_size=32, epochs=50)"
      ],
      "metadata": {
        "colab": {
          "base_uri": "https://localhost:8080/"
        },
        "id": "Lns4LEM2RjfX",
        "outputId": "af8db599-415a-4ece-e9ee-0cfc07b1ddd2"
      },
      "execution_count": 92,
      "outputs": [
        {
          "output_type": "stream",
          "name": "stdout",
          "text": [
            "Epoch 1/50\n",
            "10/10 [==============================] - 4s 268ms/step - loss: 2544.8674 - accuracy: 0.3618\n",
            "Epoch 2/50\n",
            "10/10 [==============================] - 2s 168ms/step - loss: 1502.3148 - accuracy: 0.4243\n",
            "Epoch 3/50\n",
            "10/10 [==============================] - 3s 270ms/step - loss: 975.1882 - accuracy: 0.4605\n",
            "Epoch 4/50\n",
            "10/10 [==============================] - 3s 272ms/step - loss: 487.0079 - accuracy: 0.5691\n",
            "Epoch 5/50\n",
            "10/10 [==============================] - 3s 319ms/step - loss: 197.6686 - accuracy: 0.7237\n",
            "Epoch 6/50\n",
            "10/10 [==============================] - 3s 320ms/step - loss: 54.1139 - accuracy: 0.8586\n",
            "Epoch 7/50\n",
            "10/10 [==============================] - 3s 266ms/step - loss: 69.9990 - accuracy: 0.8553\n",
            "Epoch 8/50\n",
            "10/10 [==============================] - 2s 195ms/step - loss: 151.3949 - accuracy: 0.7533\n",
            "Epoch 9/50\n",
            "10/10 [==============================] - 2s 157ms/step - loss: 262.0505 - accuracy: 0.7303\n",
            "Epoch 10/50\n",
            "10/10 [==============================] - 2s 162ms/step - loss: 195.7784 - accuracy: 0.7434\n",
            "Epoch 11/50\n",
            "10/10 [==============================] - 2s 233ms/step - loss: 162.2934 - accuracy: 0.7862\n",
            "Epoch 12/50\n",
            "10/10 [==============================] - 2s 159ms/step - loss: 73.6586 - accuracy: 0.8651\n",
            "Epoch 13/50\n",
            "10/10 [==============================] - 2s 155ms/step - loss: 38.1118 - accuracy: 0.9013\n",
            "Epoch 14/50\n",
            "10/10 [==============================] - 2s 164ms/step - loss: 91.4302 - accuracy: 0.8487\n",
            "Epoch 15/50\n",
            "10/10 [==============================] - 2s 157ms/step - loss: 94.2824 - accuracy: 0.8618\n",
            "Epoch 16/50\n",
            "10/10 [==============================] - 2s 160ms/step - loss: 21.8051 - accuracy: 0.9309\n",
            "Epoch 17/50\n",
            "10/10 [==============================] - 2s 157ms/step - loss: 25.5333 - accuracy: 0.9408\n",
            "Epoch 18/50\n",
            "10/10 [==============================] - 3s 333ms/step - loss: 4.0311 - accuracy: 0.9803\n",
            "Epoch 19/50\n",
            "10/10 [==============================] - 3s 263ms/step - loss: 7.9169 - accuracy: 0.9704\n",
            "Epoch 20/50\n",
            "10/10 [==============================] - 3s 255ms/step - loss: 4.3416 - accuracy: 0.9770\n",
            "Epoch 21/50\n",
            "10/10 [==============================] - 3s 273ms/step - loss: 5.6408 - accuracy: 0.9737\n",
            "Epoch 22/50\n",
            "10/10 [==============================] - 3s 327ms/step - loss: 1.4583 - accuracy: 0.9934\n",
            "Epoch 23/50\n",
            "10/10 [==============================] - 2s 159ms/step - loss: 8.9797 - accuracy: 0.9704\n",
            "Epoch 24/50\n",
            "10/10 [==============================] - 2s 161ms/step - loss: 19.4051 - accuracy: 0.9375\n",
            "Epoch 25/50\n",
            "10/10 [==============================] - 2s 164ms/step - loss: 9.5570 - accuracy: 0.9572\n",
            "Epoch 26/50\n",
            "10/10 [==============================] - 2s 229ms/step - loss: 20.6654 - accuracy: 0.9112\n",
            "Epoch 27/50\n",
            "10/10 [==============================] - 2s 160ms/step - loss: 25.8066 - accuracy: 0.9276\n",
            "Epoch 28/50\n",
            "10/10 [==============================] - 2s 192ms/step - loss: 8.5628 - accuracy: 0.9737\n",
            "Epoch 29/50\n",
            "10/10 [==============================] - 2s 185ms/step - loss: 1.1639 - accuracy: 0.9901\n",
            "Epoch 30/50\n",
            "10/10 [==============================] - 2s 162ms/step - loss: 0.6560 - accuracy: 0.9868\n",
            "Epoch 31/50\n",
            "10/10 [==============================] - 2s 159ms/step - loss: 22.5446 - accuracy: 0.9145\n",
            "Epoch 32/50\n",
            "10/10 [==============================] - 2s 161ms/step - loss: 77.1077 - accuracy: 0.8421\n",
            "Epoch 33/50\n",
            "10/10 [==============================] - 2s 159ms/step - loss: 171.2618 - accuracy: 0.7566\n",
            "Epoch 34/50\n",
            "10/10 [==============================] - 2s 158ms/step - loss: 18.1872 - accuracy: 0.9441\n",
            "Epoch 35/50\n",
            "10/10 [==============================] - 2s 193ms/step - loss: 40.1997 - accuracy: 0.8487\n",
            "Epoch 36/50\n",
            "10/10 [==============================] - 2s 184ms/step - loss: 23.3479 - accuracy: 0.9243\n",
            "Epoch 37/50\n",
            "10/10 [==============================] - 2s 162ms/step - loss: 36.9573 - accuracy: 0.8914\n",
            "Epoch 38/50\n",
            "10/10 [==============================] - 2s 158ms/step - loss: 9.2227 - accuracy: 0.9671\n",
            "Epoch 39/50\n",
            "10/10 [==============================] - 2s 156ms/step - loss: 4.2433 - accuracy: 0.9704\n",
            "Epoch 40/50\n",
            "10/10 [==============================] - 2s 157ms/step - loss: 7.9253 - accuracy: 0.9605\n",
            "Epoch 41/50\n",
            "10/10 [==============================] - 2s 160ms/step - loss: 2.2605 - accuracy: 0.9934\n",
            "Epoch 42/50\n",
            "10/10 [==============================] - 2s 197ms/step - loss: 1.1073 - accuracy: 0.9967\n",
            "Epoch 43/50\n",
            "10/10 [==============================] - 2s 183ms/step - loss: 0.3229 - accuracy: 0.9901\n",
            "Epoch 44/50\n",
            "10/10 [==============================] - 2s 160ms/step - loss: 0.0000e+00 - accuracy: 1.0000\n",
            "Epoch 45/50\n",
            "10/10 [==============================] - 2s 157ms/step - loss: 1.0412 - accuracy: 0.9967\n",
            "Epoch 46/50\n",
            "10/10 [==============================] - 2s 161ms/step - loss: 0.3778 - accuracy: 0.9967\n",
            "Epoch 47/50\n",
            "10/10 [==============================] - 2s 157ms/step - loss: 0.5982 - accuracy: 0.9967\n",
            "Epoch 48/50\n",
            "10/10 [==============================] - 2s 158ms/step - loss: 3.6490 - accuracy: 0.9539\n",
            "Epoch 49/50\n",
            "10/10 [==============================] - 2s 198ms/step - loss: 126.0102 - accuracy: 0.8092\n",
            "Epoch 50/50\n",
            "10/10 [==============================] - 2s 176ms/step - loss: 33.8694 - accuracy: 0.9178\n"
          ]
        },
        {
          "output_type": "execute_result",
          "data": {
            "text/plain": [
              "<keras.callbacks.History at 0x7c4842b34790>"
            ]
          },
          "metadata": {},
          "execution_count": 92
        }
      ]
    },
    {
      "cell_type": "code",
      "source": [
        "test_image = \"/content/pikachu.png\"\n",
        "\n",
        "img = image.load_img(test_image, target_size=(100, 100))\n",
        "img = image.img_to_array(img)\n",
        "img.shape"
      ],
      "metadata": {
        "colab": {
          "base_uri": "https://localhost:8080/"
        },
        "id": "K0_K-JndRwiO",
        "outputId": "22fe17ee-702d-4bfe-dc16-0356e2f04b9b"
      },
      "execution_count": 94,
      "outputs": [
        {
          "output_type": "execute_result",
          "data": {
            "text/plain": [
              "(100, 100, 3)"
            ]
          },
          "metadata": {},
          "execution_count": 94
        }
      ]
    },
    {
      "cell_type": "code",
      "source": [
        "plt.imshow(img.astype('int'));"
      ],
      "metadata": {
        "colab": {
          "base_uri": "https://localhost:8080/",
          "height": 433
        },
        "id": "TmtSLPdkS6kz",
        "outputId": "5596f92b-f871-441e-b33c-ca2ded8d1a6d"
      },
      "execution_count": 95,
      "outputs": [
        {
          "output_type": "display_data",
          "data": {
            "text/plain": [
              "<Figure size 640x480 with 1 Axes>"
            ],
            "image/png": "[encoded data removed]"
          },
          "metadata": {}
        }
      ]
    },
    {
      "cell_type": "code",
      "source": [
        "img = img.reshape(1, 30000)"
      ],
      "metadata": {
        "id": "cb-HUipZTFOo"
      },
      "execution_count": 96,
      "outputs": []
    },
    {
      "cell_type": "code",
      "source": [
        "model.predict(img).argmax()"
      ],
      "metadata": {
        "colab": {
          "base_uri": "https://localhost:8080/"
        },
        "id": "gXsvs81sTObT",
        "outputId": "3adc82d5-d0bd-48c8-ee3e-fe16a05aa6ee"
      },
      "execution_count": 97,
      "outputs": [
        {
          "output_type": "stream",
          "name": "stdout",
          "text": [
            "1/1 [==============================] - 0s 69ms/step\n"
          ]
        },
        {
          "output_type": "execute_result",
          "data": {
            "text/plain": [
              "0"
            ]
          },
          "metadata": {},
          "execution_count": 97
        }
      ]
    },
    {
      "cell_type": "code",
      "source": [
        "pred = label2category[model.predict(img).argmax()]\n",
        "pred"
      ],
      "metadata": {
        "colab": {
          "base_uri": "https://localhost:8080/",
          "height": 53
        },
        "id": "ZuKy16gtTUPf",
        "outputId": "b6121376-70c4-4d05-91b8-e3a3a8dc7da8"
      },
      "execution_count": 98,
      "outputs": [
        {
          "output_type": "stream",
          "name": "stdout",
          "text": [
            "1/1 [==============================] - 0s 23ms/step\n"
          ]
        },
        {
          "output_type": "execute_result",
          "data": {
            "text/plain": [
              "'Pikachu'"
            ],
            "application/vnd.google.colaboratory.intrinsic+json": {
              "type": "string"
            }
          },
          "metadata": {},
          "execution_count": 98
        }
      ]
    },
    {
      "cell_type": "code",
      "source": [],
      "metadata": {
        "id": "qkq4eMhNTfKS"
      },
      "execution_count": null,
      "outputs": []
    }
  ],
  "metadata": {
    "language_info": {
      "name": "python"
    },
    "orig_nbformat": 4,
    "colab": {
      "provenance": []
    },
    "kernelspec": {
      "name": "python3",
      "display_name": "Python 3"
    }
  },
  "nbformat": 4,
  "nbformat_minor": 0
}