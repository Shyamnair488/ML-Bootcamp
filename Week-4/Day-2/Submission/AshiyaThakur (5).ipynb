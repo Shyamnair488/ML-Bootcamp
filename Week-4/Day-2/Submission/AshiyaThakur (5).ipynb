{
  "cells": [
    {
      "cell_type": "code",
      "execution_count": 4,
      "metadata": {
        "id": "7k9ddbWd5xpd"
      },
      "outputs": [],
      "source": [
        "import numpy as np\n",
        "import pandas as pd\n",
        "import matplotlib.pyplot as plt\n",
        "import os"
      ]
    },
    {
      "cell_type": "code",
      "execution_count": 5,
      "metadata": {
        "id": "jZKSJo6Y5xpi",
        "outputId": "a8f8c0d6-b9b6-4636-cb9f-454fd08e0f13",
        "colab": {
          "base_uri": "https://localhost:8080/"
        }
      },
      "outputs": [
        {
          "output_type": "stream",
          "name": "stdout",
          "text": [
            "--2023-07-09 14:29:15--  https://www.dropbox.com/sh/s9r1av3m4eatd3y/AAA8zYti5b5tnyKfcah2Reaja\n",
            "Resolving www.dropbox.com (www.dropbox.com)... 162.125.6.18, 2620:100:6018:18::a27d:312\n",
            "Connecting to www.dropbox.com (www.dropbox.com)|162.125.6.18|:443... connected.\n",
            "HTTP request sent, awaiting response... 302 Found\n",
            "Location: /sh/raw/s9r1av3m4eatd3y/AAA8zYti5b5tnyKfcah2Reaja [following]\n",
            "--2023-07-09 14:29:15--  https://www.dropbox.com/sh/raw/s9r1av3m4eatd3y/AAA8zYti5b5tnyKfcah2Reaja\n",
            "Reusing existing connection to www.dropbox.com:443.\n",
            "HTTP request sent, awaiting response... 302 Found\n",
            "Location: https://uc078d4f84696633152e9d0e7228.dl.dropboxusercontent.com/zip_download_get/Bi7k6RaGQOSyt_v6As9XfBTuT788qUoMaTDK08vstA9DeQDxsjSg9Aoi_XxdLdNYDCbIj2JeCjgFrLA7UUE0JknLJrEIqPoLWCAiJC902pu12Q# [following]\n",
            "--2023-07-09 14:29:16--  https://uc078d4f84696633152e9d0e7228.dl.dropboxusercontent.com/zip_download_get/Bi7k6RaGQOSyt_v6As9XfBTuT788qUoMaTDK08vstA9DeQDxsjSg9Aoi_XxdLdNYDCbIj2JeCjgFrLA7UUE0JknLJrEIqPoLWCAiJC902pu12Q\n",
            "Resolving uc078d4f84696633152e9d0e7228.dl.dropboxusercontent.com (uc078d4f84696633152e9d0e7228.dl.dropboxusercontent.com)... 162.125.3.15, 2620:100:6018:15::a27d:30f\n",
            "Connecting to uc078d4f84696633152e9d0e7228.dl.dropboxusercontent.com (uc078d4f84696633152e9d0e7228.dl.dropboxusercontent.com)|162.125.3.15|:443... connected.\n",
            "HTTP request sent, awaiting response... 200 OK\n",
            "Length: 108475527 (103M) [application/zip]\n",
            "Saving to: ‘data’\n",
            "\n",
            "data                100%[===================>] 103.45M  24.2MB/s    in 4.3s    \n",
            "\n",
            "2023-07-09 14:29:21 (24.2 MB/s) - ‘data’ saved [108475527/108475527]\n",
            "\n"
          ]
        }
      ],
      "source": [
        "! wget https://www.dropbox.com/sh/s9r1av3m4eatd3y/AAA8zYti5b5tnyKfcah2Reaja -O data"
      ]
    },
    {
      "cell_type": "code",
      "execution_count": 6,
      "metadata": {
        "id": "RBbUYiDj5xpj",
        "outputId": "e67b19cb-e95f-4c51-ad4f-b56927e8acec",
        "colab": {
          "base_uri": "https://localhost:8080/"
        }
      },
      "outputs": [
        {
          "output_type": "stream",
          "name": "stdout",
          "text": [
            "Archive:  data\n",
            "warning:  stripped absolute path spec from /\n",
            "mapname:  conversion of  failed\n",
            "replace images/Train/Pikachu/345.jpg? [y]es, [n]o, [A]ll, [N]one, [r]ename: "
          ]
        }
      ],
      "source": [
        "!unzip data -d \"images/\""
      ]
    },
    {
      "cell_type": "code",
      "execution_count": 7,
      "metadata": {
        "id": "L4bVI9II5xpk",
        "outputId": "6624dc5f-f11c-4e84-805d-cfc8dc1aaba0",
        "colab": {
          "base_uri": "https://localhost:8080/"
        }
      },
      "outputs": [
        {
          "output_type": "stream",
          "name": "stdout",
          "text": [
            "Collecting keras_preprocessing\n",
            "  Downloading Keras_Preprocessing-1.1.2-py2.py3-none-any.whl (42 kB)\n",
            "\u001b[?25l     \u001b[90m━━━━━━━━━━━━━━━━━━━━━━━━━━━━━━━━━━━━━━━━\u001b[0m \u001b[32m0.0/42.6 kB\u001b[0m \u001b[31m?\u001b[0m eta \u001b[36m-:--:--\u001b[0m\r\u001b[2K     \u001b[90m━━━━━━━━━━━━━━━━━━━━━━━━━━━━━━━━━━━━━━━━\u001b[0m \u001b[32m42.6/42.6 kB\u001b[0m \u001b[31m2.2 MB/s\u001b[0m eta \u001b[36m0:00:00\u001b[0m\n",
            "\u001b[?25hRequirement already satisfied: numpy>=1.9.1 in /usr/local/lib/python3.10/dist-packages (from keras_preprocessing) (1.22.4)\n",
            "Requirement already satisfied: six>=1.9.0 in /usr/local/lib/python3.10/dist-packages (from keras_preprocessing) (1.16.0)\n",
            "Installing collected packages: keras_preprocessing\n",
            "Successfully installed keras_preprocessing-1.1.2\n"
          ]
        }
      ],
      "source": [
        "pip install keras_preprocessing"
      ]
    },
    {
      "cell_type": "code",
      "source": [
        "classes = os.listdir(\"images/Train\")"
      ],
      "metadata": {
        "id": "KfU608eWD6hr"
      },
      "execution_count": 8,
      "outputs": []
    },
    {
      "cell_type": "code",
      "source": [
        "classes"
      ],
      "metadata": {
        "id": "c_V5wPq7EZcd",
        "outputId": "7d417aa0-511a-485f-cd75-1e52b4355c13",
        "colab": {
          "base_uri": "https://localhost:8080/"
        }
      },
      "execution_count": 9,
      "outputs": [
        {
          "output_type": "execute_result",
          "data": {
            "text/plain": [
              "['Charmander', 'Pikachu', 'Bulbasaur']"
            ]
          },
          "metadata": {},
          "execution_count": 9
        }
      ]
    },
    {
      "cell_type": "code",
      "source": [
        "for pokemon_type in classes:\n",
        "  path = \"images/Train/\" + pokemon_type\n",
        "  print(f\"{pokemon_type} - {len(os.listdir(path))}\")\n"
      ],
      "metadata": {
        "id": "eXZma8WtEawB",
        "outputId": "c0664f31-05d6-482c-8777-b46b75d84d04",
        "colab": {
          "base_uri": "https://localhost:8080/"
        }
      },
      "execution_count": 34,
      "outputs": [
        {
          "output_type": "stream",
          "name": "stdout",
          "text": [
            "Charmander - 102\n",
            "Pikachu - 101\n",
            "Bulbasaur - 101\n"
          ]
        }
      ]
    },
    {
      "cell_type": "code",
      "source": [
        "for pokemon_type in classes:\n",
        "  path = \"images/Test/\" + pokemon_type\n",
        "  print(f\"{pokemon_type} - {len(os.listdir(path))}\")\n"
      ],
      "metadata": {
        "id": "BAM9U-VuEayM",
        "outputId": "07d3f45b-cbae-49e2-81da-8f56f5b04bf7",
        "colab": {
          "base_uri": "https://localhost:8080/"
        }
      },
      "execution_count": 35,
      "outputs": [
        {
          "output_type": "stream",
          "name": "stdout",
          "text": [
            "Charmander - 42\n",
            "Pikachu - 40\n",
            "Bulbasaur - 41\n"
          ]
        }
      ]
    },
    {
      "cell_type": "code",
      "source": [
        "from keras_preprocessing import image"
      ],
      "metadata": {
        "id": "cdmU-FqbEa0e"
      },
      "execution_count": 36,
      "outputs": []
    },
    {
      "cell_type": "code",
      "source": [
        "train_data = []\n",
        "train_labels = []"
      ],
      "metadata": {
        "id": "N_5P5KsGEa2k"
      },
      "execution_count": 37,
      "outputs": []
    },
    {
      "cell_type": "code",
      "source": [
        "for category in classes:\n",
        "  folder = f\"images/Train/{category}\"\n",
        "  for image_name in os.listdir(folder):\n",
        "    img_path = os.path.join(folder, image_name)\n",
        "\n",
        "    img = image.load_img(img_path, target_size = (100,100))\n",
        "    img_array = image.img_to_array(img)\n",
        "    train_data.append(img_array)\n",
        "    train_labels.append(category)"
      ],
      "metadata": {
        "id": "mH01TcCcEa4s",
        "outputId": "4df4374f-075e-4b4d-e6f3-18d460df1dbe",
        "colab": {
          "base_uri": "https://localhost:8080/"
        }
      },
      "execution_count": 38,
      "outputs": [
        {
          "output_type": "stream",
          "name": "stderr",
          "text": [
            "/usr/local/lib/python3.10/dist-packages/PIL/Image.py:975: UserWarning: Palette images with Transparency expressed in bytes should be converted to RGBA images\n",
            "  warnings.warn(\n"
          ]
        }
      ]
    },
    {
      "cell_type": "code",
      "source": [
        "len(train_data)"
      ],
      "metadata": {
        "id": "jK7cbVNVEa61",
        "outputId": "c44f886e-2710-4c6c-b794-58222166aea9",
        "colab": {
          "base_uri": "https://localhost:8080/"
        }
      },
      "execution_count": 40,
      "outputs": [
        {
          "output_type": "execute_result",
          "data": {
            "text/plain": [
              "304"
            ]
          },
          "metadata": {},
          "execution_count": 40
        }
      ]
    },
    {
      "cell_type": "code",
      "source": [
        "train_data = np.array(train_data)\n",
        "train_labels = np.array(train_labels)"
      ],
      "metadata": {
        "id": "VAkxz7rrEa9Z"
      },
      "execution_count": 41,
      "outputs": []
    },
    {
      "cell_type": "code",
      "source": [
        "train_data = train_data.reshape(len(train_data), 30000)"
      ],
      "metadata": {
        "id": "kDFVkV9VEbAn"
      },
      "execution_count": 42,
      "outputs": []
    },
    {
      "cell_type": "code",
      "source": [
        "train_data.shape"
      ],
      "metadata": {
        "id": "xSPyKxPZJlxq",
        "outputId": "60eb8408-5da8-4a8c-d9de-4a2a70c0799e",
        "colab": {
          "base_uri": "https://localhost:8080/"
        }
      },
      "execution_count": 43,
      "outputs": [
        {
          "output_type": "execute_result",
          "data": {
            "text/plain": [
              "(304, 30000)"
            ]
          },
          "metadata": {},
          "execution_count": 43
        }
      ]
    },
    {
      "cell_type": "code",
      "source": [
        "category2label = {\"Pikachu\": 0, \"Charmander\": 1,\"Bulbasaur\": 2}\n",
        "label2category = {0: \"Pikachu\", 1: \"Charmander\", 2: \"Bulbasaur\"}"
      ],
      "metadata": {
        "id": "3AmGfdH1JpZg"
      },
      "execution_count": 44,
      "outputs": []
    },
    {
      "cell_type": "code",
      "source": [
        "train_labels = np.array([category2label[label] for label in train_labels])"
      ],
      "metadata": {
        "id": "0H5p7yC5Kgug"
      },
      "execution_count": 45,
      "outputs": []
    },
    {
      "cell_type": "code",
      "source": [
        "from keras.utils import to_categorical"
      ],
      "metadata": {
        "id": "_Ov1sJQZKpiK"
      },
      "execution_count": 46,
      "outputs": []
    },
    {
      "cell_type": "code",
      "source": [
        "train_labels = to_categorical(train_labels)"
      ],
      "metadata": {
        "id": "G9jZW3fUKpkp"
      },
      "execution_count": 47,
      "outputs": []
    },
    {
      "cell_type": "code",
      "source": [
        "train_labels"
      ],
      "metadata": {
        "id": "nRaYyIUeKpm8",
        "outputId": "fbec3cc7-3c11-4885-b894-89cd13de767c",
        "colab": {
          "base_uri": "https://localhost:8080/"
        }
      },
      "execution_count": 48,
      "outputs": [
        {
          "output_type": "execute_result",
          "data": {
            "text/plain": [
              "array([[0., 1., 0.],\n",
              "       [0., 1., 0.],\n",
              "       [0., 1., 0.],\n",
              "       [0., 1., 0.],\n",
              "       [0., 1., 0.],\n",
              "       [0., 1., 0.],\n",
              "       [0., 1., 0.],\n",
              "       [0., 1., 0.],\n",
              "       [0., 1., 0.],\n",
              "       [0., 1., 0.],\n",
              "       [0., 1., 0.],\n",
              "       [0., 1., 0.],\n",
              "       [0., 1., 0.],\n",
              "       [0., 1., 0.],\n",
              "       [0., 1., 0.],\n",
              "       [0., 1., 0.],\n",
              "       [0., 1., 0.],\n",
              "       [0., 1., 0.],\n",
              "       [0., 1., 0.],\n",
              "       [0., 1., 0.],\n",
              "       [0., 1., 0.],\n",
              "       [0., 1., 0.],\n",
              "       [0., 1., 0.],\n",
              "       [0., 1., 0.],\n",
              "       [0., 1., 0.],\n",
              "       [0., 1., 0.],\n",
              "       [0., 1., 0.],\n",
              "       [0., 1., 0.],\n",
              "       [0., 1., 0.],\n",
              "       [0., 1., 0.],\n",
              "       [0., 1., 0.],\n",
              "       [0., 1., 0.],\n",
              "       [0., 1., 0.],\n",
              "       [0., 1., 0.],\n",
              "       [0., 1., 0.],\n",
              "       [0., 1., 0.],\n",
              "       [0., 1., 0.],\n",
              "       [0., 1., 0.],\n",
              "       [0., 1., 0.],\n",
              "       [0., 1., 0.],\n",
              "       [0., 1., 0.],\n",
              "       [0., 1., 0.],\n",
              "       [0., 1., 0.],\n",
              "       [0., 1., 0.],\n",
              "       [0., 1., 0.],\n",
              "       [0., 1., 0.],\n",
              "       [0., 1., 0.],\n",
              "       [0., 1., 0.],\n",
              "       [0., 1., 0.],\n",
              "       [0., 1., 0.],\n",
              "       [0., 1., 0.],\n",
              "       [0., 1., 0.],\n",
              "       [0., 1., 0.],\n",
              "       [0., 1., 0.],\n",
              "       [0., 1., 0.],\n",
              "       [0., 1., 0.],\n",
              "       [0., 1., 0.],\n",
              "       [0., 1., 0.],\n",
              "       [0., 1., 0.],\n",
              "       [0., 1., 0.],\n",
              "       [0., 1., 0.],\n",
              "       [0., 1., 0.],\n",
              "       [0., 1., 0.],\n",
              "       [0., 1., 0.],\n",
              "       [0., 1., 0.],\n",
              "       [0., 1., 0.],\n",
              "       [0., 1., 0.],\n",
              "       [0., 1., 0.],\n",
              "       [0., 1., 0.],\n",
              "       [0., 1., 0.],\n",
              "       [0., 1., 0.],\n",
              "       [0., 1., 0.],\n",
              "       [0., 1., 0.],\n",
              "       [0., 1., 0.],\n",
              "       [0., 1., 0.],\n",
              "       [0., 1., 0.],\n",
              "       [0., 1., 0.],\n",
              "       [0., 1., 0.],\n",
              "       [0., 1., 0.],\n",
              "       [0., 1., 0.],\n",
              "       [0., 1., 0.],\n",
              "       [0., 1., 0.],\n",
              "       [0., 1., 0.],\n",
              "       [0., 1., 0.],\n",
              "       [0., 1., 0.],\n",
              "       [0., 1., 0.],\n",
              "       [0., 1., 0.],\n",
              "       [0., 1., 0.],\n",
              "       [0., 1., 0.],\n",
              "       [0., 1., 0.],\n",
              "       [0., 1., 0.],\n",
              "       [0., 1., 0.],\n",
              "       [0., 1., 0.],\n",
              "       [0., 1., 0.],\n",
              "       [0., 1., 0.],\n",
              "       [0., 1., 0.],\n",
              "       [0., 1., 0.],\n",
              "       [0., 1., 0.],\n",
              "       [0., 1., 0.],\n",
              "       [0., 1., 0.],\n",
              "       [0., 1., 0.],\n",
              "       [0., 1., 0.],\n",
              "       [1., 0., 0.],\n",
              "       [1., 0., 0.],\n",
              "       [1., 0., 0.],\n",
              "       [1., 0., 0.],\n",
              "       [1., 0., 0.],\n",
              "       [1., 0., 0.],\n",
              "       [1., 0., 0.],\n",
              "       [1., 0., 0.],\n",
              "       [1., 0., 0.],\n",
              "       [1., 0., 0.],\n",
              "       [1., 0., 0.],\n",
              "       [1., 0., 0.],\n",
              "       [1., 0., 0.],\n",
              "       [1., 0., 0.],\n",
              "       [1., 0., 0.],\n",
              "       [1., 0., 0.],\n",
              "       [1., 0., 0.],\n",
              "       [1., 0., 0.],\n",
              "       [1., 0., 0.],\n",
              "       [1., 0., 0.],\n",
              "       [1., 0., 0.],\n",
              "       [1., 0., 0.],\n",
              "       [1., 0., 0.],\n",
              "       [1., 0., 0.],\n",
              "       [1., 0., 0.],\n",
              "       [1., 0., 0.],\n",
              "       [1., 0., 0.],\n",
              "       [1., 0., 0.],\n",
              "       [1., 0., 0.],\n",
              "       [1., 0., 0.],\n",
              "       [1., 0., 0.],\n",
              "       [1., 0., 0.],\n",
              "       [1., 0., 0.],\n",
              "       [1., 0., 0.],\n",
              "       [1., 0., 0.],\n",
              "       [1., 0., 0.],\n",
              "       [1., 0., 0.],\n",
              "       [1., 0., 0.],\n",
              "       [1., 0., 0.],\n",
              "       [1., 0., 0.],\n",
              "       [1., 0., 0.],\n",
              "       [1., 0., 0.],\n",
              "       [1., 0., 0.],\n",
              "       [1., 0., 0.],\n",
              "       [1., 0., 0.],\n",
              "       [1., 0., 0.],\n",
              "       [1., 0., 0.],\n",
              "       [1., 0., 0.],\n",
              "       [1., 0., 0.],\n",
              "       [1., 0., 0.],\n",
              "       [1., 0., 0.],\n",
              "       [1., 0., 0.],\n",
              "       [1., 0., 0.],\n",
              "       [1., 0., 0.],\n",
              "       [1., 0., 0.],\n",
              "       [1., 0., 0.],\n",
              "       [1., 0., 0.],\n",
              "       [1., 0., 0.],\n",
              "       [1., 0., 0.],\n",
              "       [1., 0., 0.],\n",
              "       [1., 0., 0.],\n",
              "       [1., 0., 0.],\n",
              "       [1., 0., 0.],\n",
              "       [1., 0., 0.],\n",
              "       [1., 0., 0.],\n",
              "       [1., 0., 0.],\n",
              "       [1., 0., 0.],\n",
              "       [1., 0., 0.],\n",
              "       [1., 0., 0.],\n",
              "       [1., 0., 0.],\n",
              "       [1., 0., 0.],\n",
              "       [1., 0., 0.],\n",
              "       [1., 0., 0.],\n",
              "       [1., 0., 0.],\n",
              "       [1., 0., 0.],\n",
              "       [1., 0., 0.],\n",
              "       [1., 0., 0.],\n",
              "       [1., 0., 0.],\n",
              "       [1., 0., 0.],\n",
              "       [1., 0., 0.],\n",
              "       [1., 0., 0.],\n",
              "       [1., 0., 0.],\n",
              "       [1., 0., 0.],\n",
              "       [1., 0., 0.],\n",
              "       [1., 0., 0.],\n",
              "       [1., 0., 0.],\n",
              "       [1., 0., 0.],\n",
              "       [1., 0., 0.],\n",
              "       [1., 0., 0.],\n",
              "       [1., 0., 0.],\n",
              "       [1., 0., 0.],\n",
              "       [1., 0., 0.],\n",
              "       [1., 0., 0.],\n",
              "       [1., 0., 0.],\n",
              "       [1., 0., 0.],\n",
              "       [1., 0., 0.],\n",
              "       [1., 0., 0.],\n",
              "       [1., 0., 0.],\n",
              "       [1., 0., 0.],\n",
              "       [1., 0., 0.],\n",
              "       [1., 0., 0.],\n",
              "       [0., 0., 1.],\n",
              "       [0., 0., 1.],\n",
              "       [0., 0., 1.],\n",
              "       [0., 0., 1.],\n",
              "       [0., 0., 1.],\n",
              "       [0., 0., 1.],\n",
              "       [0., 0., 1.],\n",
              "       [0., 0., 1.],\n",
              "       [0., 0., 1.],\n",
              "       [0., 0., 1.],\n",
              "       [0., 0., 1.],\n",
              "       [0., 0., 1.],\n",
              "       [0., 0., 1.],\n",
              "       [0., 0., 1.],\n",
              "       [0., 0., 1.],\n",
              "       [0., 0., 1.],\n",
              "       [0., 0., 1.],\n",
              "       [0., 0., 1.],\n",
              "       [0., 0., 1.],\n",
              "       [0., 0., 1.],\n",
              "       [0., 0., 1.],\n",
              "       [0., 0., 1.],\n",
              "       [0., 0., 1.],\n",
              "       [0., 0., 1.],\n",
              "       [0., 0., 1.],\n",
              "       [0., 0., 1.],\n",
              "       [0., 0., 1.],\n",
              "       [0., 0., 1.],\n",
              "       [0., 0., 1.],\n",
              "       [0., 0., 1.],\n",
              "       [0., 0., 1.],\n",
              "       [0., 0., 1.],\n",
              "       [0., 0., 1.],\n",
              "       [0., 0., 1.],\n",
              "       [0., 0., 1.],\n",
              "       [0., 0., 1.],\n",
              "       [0., 0., 1.],\n",
              "       [0., 0., 1.],\n",
              "       [0., 0., 1.],\n",
              "       [0., 0., 1.],\n",
              "       [0., 0., 1.],\n",
              "       [0., 0., 1.],\n",
              "       [0., 0., 1.],\n",
              "       [0., 0., 1.],\n",
              "       [0., 0., 1.],\n",
              "       [0., 0., 1.],\n",
              "       [0., 0., 1.],\n",
              "       [0., 0., 1.],\n",
              "       [0., 0., 1.],\n",
              "       [0., 0., 1.],\n",
              "       [0., 0., 1.],\n",
              "       [0., 0., 1.],\n",
              "       [0., 0., 1.],\n",
              "       [0., 0., 1.],\n",
              "       [0., 0., 1.],\n",
              "       [0., 0., 1.],\n",
              "       [0., 0., 1.],\n",
              "       [0., 0., 1.],\n",
              "       [0., 0., 1.],\n",
              "       [0., 0., 1.],\n",
              "       [0., 0., 1.],\n",
              "       [0., 0., 1.],\n",
              "       [0., 0., 1.],\n",
              "       [0., 0., 1.],\n",
              "       [0., 0., 1.],\n",
              "       [0., 0., 1.],\n",
              "       [0., 0., 1.],\n",
              "       [0., 0., 1.],\n",
              "       [0., 0., 1.],\n",
              "       [0., 0., 1.],\n",
              "       [0., 0., 1.],\n",
              "       [0., 0., 1.],\n",
              "       [0., 0., 1.],\n",
              "       [0., 0., 1.],\n",
              "       [0., 0., 1.],\n",
              "       [0., 0., 1.],\n",
              "       [0., 0., 1.],\n",
              "       [0., 0., 1.],\n",
              "       [0., 0., 1.],\n",
              "       [0., 0., 1.],\n",
              "       [0., 0., 1.],\n",
              "       [0., 0., 1.],\n",
              "       [0., 0., 1.],\n",
              "       [0., 0., 1.],\n",
              "       [0., 0., 1.],\n",
              "       [0., 0., 1.],\n",
              "       [0., 0., 1.],\n",
              "       [0., 0., 1.],\n",
              "       [0., 0., 1.],\n",
              "       [0., 0., 1.],\n",
              "       [0., 0., 1.],\n",
              "       [0., 0., 1.],\n",
              "       [0., 0., 1.],\n",
              "       [0., 0., 1.],\n",
              "       [0., 0., 1.],\n",
              "       [0., 0., 1.],\n",
              "       [0., 0., 1.],\n",
              "       [0., 0., 1.],\n",
              "       [0., 0., 1.],\n",
              "       [0., 0., 1.],\n",
              "       [0., 0., 1.]], dtype=float32)"
            ]
          },
          "metadata": {},
          "execution_count": 48
        }
      ]
    },
    {
      "cell_type": "code",
      "source": [
        "from keras.layers import Dense\n",
        "from keras import Sequential"
      ],
      "metadata": {
        "id": "b2emWgdkKppO"
      },
      "execution_count": 49,
      "outputs": []
    },
    {
      "cell_type": "code",
      "source": [
        "features = train_data.shape[1]"
      ],
      "metadata": {
        "id": "0h52tMA6MY3l"
      },
      "execution_count": 50,
      "outputs": []
    },
    {
      "cell_type": "code",
      "source": [
        "model = Sequential()"
      ],
      "metadata": {
        "id": "RMToMSqVKpr-"
      },
      "execution_count": 51,
      "outputs": []
    },
    {
      "cell_type": "code",
      "source": [
        "model.add(Dense(units = 512, activation = 'relu', input_shape = (features,)))"
      ],
      "metadata": {
        "id": "k7WMU80TKpul"
      },
      "execution_count": 64,
      "outputs": []
    },
    {
      "cell_type": "code",
      "source": [
        "model.add(Dense(units = 256, activation = 'relu'))"
      ],
      "metadata": {
        "id": "q8I-xh7CNU2Z"
      },
      "execution_count": 65,
      "outputs": []
    },
    {
      "cell_type": "code",
      "source": [
        "model.add(Dense(units = 128, activation = 'relu'))"
      ],
      "metadata": {
        "id": "kNfO8eIWNfaK"
      },
      "execution_count": 66,
      "outputs": []
    },
    {
      "cell_type": "code",
      "source": [
        "model.add(Dense(units = 64, activation = 'relu'))"
      ],
      "metadata": {
        "id": "WsiW7GPLNfcc"
      },
      "execution_count": 67,
      "outputs": []
    },
    {
      "cell_type": "code",
      "source": [
        "model.add(Dense(units = 3, activation = 'softmax'))"
      ],
      "metadata": {
        "id": "dyKffIijNfei"
      },
      "execution_count": 68,
      "outputs": []
    },
    {
      "cell_type": "code",
      "source": [
        "model.compile(optimizer = \"adam\",loss = \"categorical_crossentropy\", metrics = [\"accuracy\"])"
      ],
      "metadata": {
        "id": "1X1Z5SjXNfgh"
      },
      "execution_count": 97,
      "outputs": []
    },
    {
      "cell_type": "code",
      "source": [
        "model.summary()"
      ],
      "metadata": {
        "id": "KURY51jYNfi1",
        "outputId": "320bbb75-c226-404a-8642-cd8e2114d96e",
        "colab": {
          "base_uri": "https://localhost:8080/"
        }
      },
      "execution_count": 98,
      "outputs": [
        {
          "output_type": "stream",
          "name": "stdout",
          "text": [
            "Model: \"sequential\"\n",
            "_________________________________________________________________\n",
            " Layer (type)                Output Shape              Param #   \n",
            "=================================================================\n",
            " dense (Dense)               (None, 512)               15360512  \n",
            "                                                                 \n",
            " dense_1 (Dense)             (None, 512)               262656    \n",
            "                                                                 \n",
            " dense_2 (Dense)             (None, 256)               131328    \n",
            "                                                                 \n",
            " dense_3 (Dense)             (None, 128)               32896     \n",
            "                                                                 \n",
            " dense_4 (Dense)             (None, 64)                8256      \n",
            "                                                                 \n",
            " dense_6 (Dense)             (None, 3)                 195       \n",
            "                                                                 \n",
            " dense_7 (Dense)             (None, 512)               2048      \n",
            "                                                                 \n",
            " dense_8 (Dense)             (None, 256)               131328    \n",
            "                                                                 \n",
            " dense_9 (Dense)             (None, 128)               32896     \n",
            "                                                                 \n",
            " dense_10 (Dense)            (None, 64)                8256      \n",
            "                                                                 \n",
            " dense_11 (Dense)            (None, 3)                 195       \n",
            "                                                                 \n",
            "=================================================================\n",
            "Total params: 15,970,566\n",
            "Trainable params: 15,970,566\n",
            "Non-trainable params: 0\n",
            "_________________________________________________________________\n"
          ]
        }
      ]
    },
    {
      "cell_type": "code",
      "source": [
        "model.fit(train_data, train_labels, batch_size = 32, epochs = 50)"
      ],
      "metadata": {
        "id": "Nag0Ldj3NfmO",
        "outputId": "7b49b2a8-ae09-4ca6-d912-ced2b1ff013c",
        "colab": {
          "base_uri": "https://localhost:8080/"
        }
      },
      "execution_count": 99,
      "outputs": [
        {
          "output_type": "stream",
          "name": "stdout",
          "text": [
            "Epoch 1/50\n",
            "10/10 [==============================] - 6s 344ms/step - loss: 1.0992 - accuracy: 0.3355\n",
            "Epoch 2/50\n",
            "10/10 [==============================] - 3s 343ms/step - loss: 1.0987 - accuracy: 0.3355\n",
            "Epoch 3/50\n",
            "10/10 [==============================] - 3s 303ms/step - loss: 1.0987 - accuracy: 0.3355\n",
            "Epoch 4/50\n",
            "10/10 [==============================] - 4s 440ms/step - loss: 1.0987 - accuracy: 0.3355\n",
            "Epoch 5/50\n",
            "10/10 [==============================] - 3s 298ms/step - loss: 1.0987 - accuracy: 0.3355\n",
            "Epoch 6/50\n",
            "10/10 [==============================] - 3s 266ms/step - loss: 1.0988 - accuracy: 0.3355\n",
            "Epoch 7/50\n",
            "10/10 [==============================] - 3s 299ms/step - loss: 1.0986 - accuracy: 0.3355\n",
            "Epoch 8/50\n",
            "10/10 [==============================] - 4s 437ms/step - loss: 1.0986 - accuracy: 0.3355\n",
            "Epoch 9/50\n",
            "10/10 [==============================] - 3s 310ms/step - loss: 1.0988 - accuracy: 0.3355\n",
            "Epoch 10/50\n",
            "10/10 [==============================] - 3s 322ms/step - loss: 1.0987 - accuracy: 0.3355\n",
            "Epoch 11/50\n",
            "10/10 [==============================] - 3s 266ms/step - loss: 1.0987 - accuracy: 0.3355\n",
            "Epoch 12/50\n",
            "10/10 [==============================] - 4s 442ms/step - loss: 1.0987 - accuracy: 0.3355\n",
            "Epoch 13/50\n",
            "10/10 [==============================] - 3s 344ms/step - loss: 1.0987 - accuracy: 0.3355\n",
            "Epoch 14/50\n",
            "10/10 [==============================] - 3s 344ms/step - loss: 1.0986 - accuracy: 0.3355\n",
            "Epoch 15/50\n",
            "10/10 [==============================] - 4s 414ms/step - loss: 1.0987 - accuracy: 0.3355\n",
            "Epoch 16/50\n",
            "10/10 [==============================] - 4s 346ms/step - loss: 1.0986 - accuracy: 0.3355\n",
            "Epoch 17/50\n",
            "10/10 [==============================] - 3s 282ms/step - loss: 1.0987 - accuracy: 0.3355\n",
            "Epoch 18/50\n",
            "10/10 [==============================] - 3s 342ms/step - loss: 1.0987 - accuracy: 0.2961\n",
            "Epoch 19/50\n",
            "10/10 [==============================] - 4s 408ms/step - loss: 1.0987 - accuracy: 0.3355\n",
            "Epoch 20/50\n",
            "10/10 [==============================] - 3s 289ms/step - loss: 1.0987 - accuracy: 0.2829\n",
            "Epoch 21/50\n",
            "10/10 [==============================] - 3s 269ms/step - loss: 1.0988 - accuracy: 0.3355\n",
            "Epoch 22/50\n",
            "10/10 [==============================] - 3s 277ms/step - loss: 1.0986 - accuracy: 0.3355\n",
            "Epoch 23/50\n",
            "10/10 [==============================] - 3s 350ms/step - loss: 1.0987 - accuracy: 0.3355\n",
            "Epoch 24/50\n",
            "10/10 [==============================] - 4s 358ms/step - loss: 1.0987 - accuracy: 0.3355\n",
            "Epoch 25/50\n",
            "10/10 [==============================] - 3s 274ms/step - loss: 1.0987 - accuracy: 0.3355\n",
            "Epoch 26/50\n",
            "10/10 [==============================] - 3s 270ms/step - loss: 1.0987 - accuracy: 0.3355\n",
            "Epoch 27/50\n",
            "10/10 [==============================] - 4s 391ms/step - loss: 1.0987 - accuracy: 0.3355\n",
            "Epoch 28/50\n",
            "10/10 [==============================] - 3s 336ms/step - loss: 1.0987 - accuracy: 0.3355\n",
            "Epoch 29/50\n",
            "10/10 [==============================] - 3s 315ms/step - loss: 1.0987 - accuracy: 0.3355\n",
            "Epoch 30/50\n",
            "10/10 [==============================] - 3s 337ms/step - loss: 1.0987 - accuracy: 0.3355\n",
            "Epoch 31/50\n",
            "10/10 [==============================] - 4s 394ms/step - loss: 1.0987 - accuracy: 0.3355\n",
            "Epoch 32/50\n",
            "10/10 [==============================] - 3s 280ms/step - loss: 1.0987 - accuracy: 0.3355\n",
            "Epoch 33/50\n",
            "10/10 [==============================] - 3s 315ms/step - loss: 1.0987 - accuracy: 0.3355\n",
            "Epoch 34/50\n",
            "10/10 [==============================] - 3s 293ms/step - loss: 1.0987 - accuracy: 0.3355\n",
            "Epoch 35/50\n",
            "10/10 [==============================] - 3s 355ms/step - loss: 1.0987 - accuracy: 0.3355\n",
            "Epoch 36/50\n",
            "10/10 [==============================] - 3s 290ms/step - loss: 1.0987 - accuracy: 0.3355\n",
            "Epoch 37/50\n",
            "10/10 [==============================] - 3s 341ms/step - loss: 1.0987 - accuracy: 0.3355\n",
            "Epoch 38/50\n",
            "10/10 [==============================] - 3s 343ms/step - loss: 1.0987 - accuracy: 0.3224\n",
            "Epoch 39/50\n",
            "10/10 [==============================] - 5s 463ms/step - loss: 1.0987 - accuracy: 0.3322\n",
            "Epoch 40/50\n",
            "10/10 [==============================] - 3s 316ms/step - loss: 1.0987 - accuracy: 0.3158\n",
            "Epoch 41/50\n",
            "10/10 [==============================] - 3s 345ms/step - loss: 1.0987 - accuracy: 0.2961\n",
            "Epoch 42/50\n",
            "10/10 [==============================] - 3s 289ms/step - loss: 1.0987 - accuracy: 0.3388\n",
            "Epoch 43/50\n",
            "10/10 [==============================] - 4s 369ms/step - loss: 1.0986 - accuracy: 0.3355\n",
            "Epoch 44/50\n",
            "10/10 [==============================] - 3s 335ms/step - loss: 1.0987 - accuracy: 0.3355\n",
            "Epoch 45/50\n",
            "10/10 [==============================] - 3s 345ms/step - loss: 1.0986 - accuracy: 0.3355\n",
            "Epoch 46/50\n",
            "10/10 [==============================] - 3s 317ms/step - loss: 1.0987 - accuracy: 0.3355\n",
            "Epoch 47/50\n",
            "10/10 [==============================] - 4s 350ms/step - loss: 1.0986 - accuracy: 0.3355\n",
            "Epoch 48/50\n",
            "10/10 [==============================] - 3s 272ms/step - loss: 1.0986 - accuracy: 0.3355\n",
            "Epoch 49/50\n",
            "10/10 [==============================] - 3s 293ms/step - loss: 1.0986 - accuracy: 0.3355\n",
            "Epoch 50/50\n",
            "10/10 [==============================] - 3s 270ms/step - loss: 1.0987 - accuracy: 0.3355\n"
          ]
        },
        {
          "output_type": "execute_result",
          "data": {
            "text/plain": [
              "<keras.callbacks.History at 0x7f6f95938ca0>"
            ]
          },
          "metadata": {},
          "execution_count": 99
        }
      ]
    },
    {
      "cell_type": "code",
      "source": [
        "test_image = \"/content/download.png\"\n",
        "img = image.load_img(test_image, target_size = (100, 100))\n",
        "img = image.img_to_array(img)\n",
        "img.shape"
      ],
      "metadata": {
        "id": "jDCvh0oNNfon",
        "outputId": "f348d6cf-d039-4f3d-d364-3c3082ea718a",
        "colab": {
          "base_uri": "https://localhost:8080/"
        }
      },
      "execution_count": 101,
      "outputs": [
        {
          "output_type": "execute_result",
          "data": {
            "text/plain": [
              "(100, 100, 3)"
            ]
          },
          "metadata": {},
          "execution_count": 101
        }
      ]
    },
    {
      "cell_type": "code",
      "source": [
        "plt.imshow(img.astype('int'));"
      ],
      "metadata": {
        "id": "QHuwQsR2Q3_R",
        "outputId": "4d267618-2364-4331-c280-4ffe12cbcbf8",
        "colab": {
          "base_uri": "https://localhost:8080/",
          "height": 433
        }
      },
      "execution_count": 102,
      "outputs": [
        {
          "output_type": "display_data",
          "data": {
            "text/plain": [
              "<Figure size 640x480 with 1 Axes>"
            ],
            "image/png": "[encoded data removed]"
          },
          "metadata": {}
        }
      ]
    },
    {
      "cell_type": "code",
      "source": [
        "img = img.reshape(1, 30000)"
      ],
      "metadata": {
        "id": "7pcZkO5OQ4FC"
      },
      "execution_count": 103,
      "outputs": []
    },
    {
      "cell_type": "code",
      "source": [
        "model.predict(img).argmax()"
      ],
      "metadata": {
        "id": "dU_MU8ujQ4J9",
        "outputId": "e5a91f8e-cafb-4af1-874c-cfbf9b3f97e3",
        "colab": {
          "base_uri": "https://localhost:8080/"
        }
      },
      "execution_count": 104,
      "outputs": [
        {
          "output_type": "stream",
          "name": "stdout",
          "text": [
            "1/1 [==============================] - 0s 142ms/step\n"
          ]
        },
        {
          "output_type": "execute_result",
          "data": {
            "text/plain": [
              "1"
            ]
          },
          "metadata": {},
          "execution_count": 104
        }
      ]
    },
    {
      "cell_type": "code",
      "source": [
        "pred = label2category[model.predict(img).argmax()]\n",
        "pred"
      ],
      "metadata": {
        "id": "Ldivg7BhQ4MJ",
        "outputId": "d24d5221-5eee-4ed9-b92f-ae07df6a4283",
        "colab": {
          "base_uri": "https://localhost:8080/",
          "height": 53
        }
      },
      "execution_count": 105,
      "outputs": [
        {
          "output_type": "stream",
          "name": "stdout",
          "text": [
            "1/1 [==============================] - 0s 53ms/step\n"
          ]
        },
        {
          "output_type": "execute_result",
          "data": {
            "text/plain": [
              "'Charmander'"
            ],
            "application/vnd.google.colaboratory.intrinsic+json": {
              "type": "string"
            }
          },
          "metadata": {},
          "execution_count": 105
        }
      ]
    },
    {
      "cell_type": "code",
      "source": [],
      "metadata": {
        "id": "O7S0SgEKQ4Oq"
      },
      "execution_count": null,
      "outputs": []
    },
    {
      "cell_type": "code",
      "source": [],
      "metadata": {
        "id": "xQiWVbX0Q4Ri"
      },
      "execution_count": null,
      "outputs": []
    },
    {
      "cell_type": "code",
      "source": [],
      "metadata": {
        "id": "IBTMyV3BQ4To"
      },
      "execution_count": null,
      "outputs": []
    },
    {
      "cell_type": "code",
      "source": [],
      "metadata": {
        "id": "_WRx5lcGQ4Ww"
      },
      "execution_count": null,
      "outputs": []
    },
    {
      "cell_type": "code",
      "source": [],
      "metadata": {
        "id": "G0u1LGGoQ4aP"
      },
      "execution_count": null,
      "outputs": []
    }
  ],
  "metadata": {
    "language_info": {
      "name": "python"
    },
    "orig_nbformat": 4,
    "colab": {
      "provenance": []
    },
    "kernelspec": {
      "name": "python3",
      "display_name": "Python 3"
    }
  },
  "nbformat": 4,
  "nbformat_minor": 0
}