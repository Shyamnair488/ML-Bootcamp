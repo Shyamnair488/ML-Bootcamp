{
  "cells": [
    {
      "cell_type": "code",
      "execution_count": 1,
      "metadata": {
        "id": "K-xCmU_QCgCy"
      },
      "outputs": [],
      "source": [
        "import numpy as np\n",
        "import pandas as pd\n",
        "import matplotlib.pyplot as plt\n",
        "import os"
      ]
    },
    {
      "cell_type": "code",
      "execution_count": 2,
      "metadata": {
        "id": "prBod3-3CgC0",
        "outputId": "480cfac4-bba3-4ad4-9d38-82d8b42f7e8e",
        "colab": {
          "base_uri": "https://localhost:8080/"
        }
      },
      "outputs": [
        {
          "output_type": "stream",
          "name": "stdout",
          "text": [
            "--2023-07-09 15:04:09--  https://www.dropbox.com/sh/s9r1av3m4eatd3y/AAA8zYti5b5tnyKfcah2Reaja\n",
            "Resolving www.dropbox.com (www.dropbox.com)... 162.125.5.18, 2620:100:601d:18::a27d:512\n",
            "Connecting to www.dropbox.com (www.dropbox.com)|162.125.5.18|:443... connected.\n",
            "HTTP request sent, awaiting response... 302 Found\n",
            "Location: /sh/raw/s9r1av3m4eatd3y/AAA8zYti5b5tnyKfcah2Reaja [following]\n",
            "--2023-07-09 15:04:09--  https://www.dropbox.com/sh/raw/s9r1av3m4eatd3y/AAA8zYti5b5tnyKfcah2Reaja\n",
            "Reusing existing connection to www.dropbox.com:443.\n",
            "HTTP request sent, awaiting response... 302 Found\n",
            "Location: https://uc95dedd76d18298150f7d2bdb0f.dl.dropboxusercontent.com/zip_download_get/Bi4dRtE_38nc8lhObvSakFZ6pC6aId6Q8rNXS3UQI4JzZ1QqpW2dsX0hSoILFLeCXfDRF4xCHVmNtvLN6pZ7QGdYRITRMYY-hfU50qhmxoDtmQ# [following]\n",
            "--2023-07-09 15:04:10--  https://uc95dedd76d18298150f7d2bdb0f.dl.dropboxusercontent.com/zip_download_get/Bi4dRtE_38nc8lhObvSakFZ6pC6aId6Q8rNXS3UQI4JzZ1QqpW2dsX0hSoILFLeCXfDRF4xCHVmNtvLN6pZ7QGdYRITRMYY-hfU50qhmxoDtmQ\n",
            "Resolving uc95dedd76d18298150f7d2bdb0f.dl.dropboxusercontent.com (uc95dedd76d18298150f7d2bdb0f.dl.dropboxusercontent.com)... 162.125.5.15, 2620:100:601d:15::a27d:50f\n",
            "Connecting to uc95dedd76d18298150f7d2bdb0f.dl.dropboxusercontent.com (uc95dedd76d18298150f7d2bdb0f.dl.dropboxusercontent.com)|162.125.5.15|:443... connected.\n",
            "HTTP request sent, awaiting response... 200 OK\n",
            "Length: 108475527 (103M) [application/zip]\n",
            "Saving to: ‘data’\n",
            "\n",
            "data                100%[===================>] 103.45M  23.3MB/s    in 4.4s    \n",
            "\n",
            "2023-07-09 15:04:15 (23.3 MB/s) - ‘data’ saved [108475527/108475527]\n",
            "\n"
          ]
        }
      ],
      "source": [
        "! wget https://www.dropbox.com/sh/s9r1av3m4eatd3y/AAA8zYti5b5tnyKfcah2Reaja -O data"
      ]
    },
    {
      "cell_type": "code",
      "execution_count": 3,
      "metadata": {
        "id": "BtrlzeoyCgC1",
        "outputId": "3b5ccb9b-aa8c-4c18-8e33-88eac51d065f",
        "colab": {
          "base_uri": "https://localhost:8080/"
        }
      },
      "outputs": [
        {
          "output_type": "stream",
          "name": "stdout",
          "text": [
            "Archive:  data\n",
            "warning:  stripped absolute path spec from /\n",
            "mapname:  conversion of  failed\n",
            "replace images/Train/Pikachu/345.jpg? [y]es, [n]o, [A]ll, [N]one, [r]ename: A\n",
            " extracting: images/Train/Pikachu/345.jpg  \n",
            " extracting: images/Train/Pikachu/335.jpg  \n",
            " extracting: images/Train/Pikachu/299.jpg  \n",
            " extracting: images/Train/Pikachu/396.jpg  \n",
            " extracting: images/Train/Pikachu/350.jpg  \n",
            " extracting: images/Train/Pikachu/308.jpg  \n",
            " extracting: images/Train/Pikachu/346.jpg  \n",
            " extracting: images/Train/Pikachu/355.jpg  \n",
            " extracting: images/Train/Pikachu/353.jpg  \n",
            " extracting: images/Train/Pikachu/390.jpg  \n",
            " extracting: images/Train/Pikachu/319.jpg  \n",
            " extracting: images/Train/Pikachu/386.jpg  \n",
            " extracting: images/Train/Pikachu/327.jpg  \n",
            " extracting: images/Train/Pikachu/314.jpg  \n",
            " extracting: images/Train/Pikachu/303.jpg  \n",
            " extracting: images/Train/Pikachu/341.jpg  \n",
            " extracting: images/Train/Pikachu/298.jpg  \n",
            " extracting: images/Train/Pikachu/389.jpg  \n",
            " extracting: images/Train/Pikachu/382.jpg  \n",
            " extracting: images/Train/Pikachu/306.jpg  \n",
            " extracting: images/Train/Pikachu/361.jpg  \n",
            " extracting: images/Train/Pikachu/362.jpg  \n",
            " extracting: images/Train/Pikachu/372.jpg  \n",
            " extracting: images/Train/Pikachu/312.jpg  \n",
            " extracting: images/Train/Pikachu/384.jpg  \n",
            " extracting: images/Train/Pikachu/373.jpg  \n",
            " extracting: images/Train/Pikachu/352.jpg  \n",
            " extracting: images/Train/Pikachu/368.jpg  \n",
            " extracting: images/Train/Pikachu/307.jpg  \n",
            " extracting: images/Train/Pikachu/343.jpg  \n",
            " extracting: images/Train/Pikachu/310.jpg  \n",
            " extracting: images/Train/Pikachu/363.jpg  \n",
            " extracting: images/Train/Pikachu/320.jpg  \n",
            " extracting: images/Train/Pikachu/336.jpg  \n",
            " extracting: images/Train/Pikachu/394.jpg  \n",
            " extracting: images/Train/Pikachu/380.jpg  \n",
            " extracting: images/Train/Pikachu/317.jpg  \n",
            " extracting: images/Train/Pikachu/381.jpg  \n",
            " extracting: images/Train/Pikachu/322.jpg  \n",
            " extracting: images/Train/Pikachu/379.jpg  \n",
            " extracting: images/Train/Pikachu/315.jpg  \n",
            " extracting: images/Train/Pikachu/369.jpg  \n",
            " extracting: images/Train/Pikachu/330.jpg  \n",
            " extracting: images/Train/Pikachu/357.jpg  \n",
            " extracting: images/Train/Pikachu/383.jpg  \n",
            " extracting: images/Train/Pikachu/323.jpg  \n",
            " extracting: images/Train/Pikachu/364.jpg  \n",
            " extracting: images/Train/Pikachu/296.jpg  \n",
            " extracting: images/Train/Pikachu/356.jpg  \n",
            " extracting: images/Train/Pikachu/311.jpg  \n",
            " extracting: images/Train/Pikachu/385.jpg  \n",
            " extracting: images/Train/Pikachu/378.jpg  \n",
            " extracting: images/Train/Pikachu/338.jpg  \n",
            " extracting: images/Train/Pikachu/318.jpg  \n",
            " extracting: images/Train/Pikachu/321.jpg  \n",
            " extracting: images/Train/Pikachu/393.jpg  \n",
            " extracting: images/Train/Pikachu/304.jpg  \n",
            " extracting: images/Train/Pikachu/333.jpg  \n",
            " extracting: images/Train/Pikachu/354.jpg  \n",
            " extracting: images/Train/Pikachu/339.jpg  \n",
            " extracting: images/Train/Pikachu/316.jpg  \n",
            " extracting: images/Train/Pikachu/387.jpg  \n",
            " extracting: images/Train/Pikachu/334.jpg  \n",
            " extracting: images/Train/Pikachu/377.jpg  \n",
            " extracting: images/Train/Pikachu/300.jpg  \n",
            " extracting: images/Train/Pikachu/297.jpg  \n",
            " extracting: images/Train/Pikachu/342.jpg  \n",
            " extracting: images/Train/Pikachu/351.jpg  \n",
            " extracting: images/Train/Pikachu/365.jpg  \n",
            " extracting: images/Train/Pikachu/371.jpg  \n",
            " extracting: images/Train/Pikachu/324.jpg  \n",
            " extracting: images/Train/Pikachu/313.jpg  \n",
            " extracting: images/Train/Pikachu/344.jpg  \n",
            " extracting: images/Train/Pikachu/360.jpg  \n",
            " extracting: images/Train/Pikachu/340.jpg  \n",
            " extracting: images/Train/Pikachu/366.jpg  \n",
            " extracting: images/Train/Pikachu/325.jpg  \n",
            " extracting: images/Train/Pikachu/332.jpg  \n",
            " extracting: images/Train/Pikachu/358.jpg  \n",
            " extracting: images/Train/Pikachu/326.jpg  \n",
            " extracting: images/Train/Pikachu/375.jpg  \n",
            " extracting: images/Train/Pikachu/331.jpg  \n",
            " extracting: images/Train/Pikachu/391.jpg  \n",
            " extracting: images/Train/Pikachu/302.jpg  \n",
            " extracting: images/Train/Pikachu/374.jpg  \n",
            " extracting: images/Train/Pikachu/347.jpg  \n",
            " extracting: images/Train/Pikachu/370.jpg  \n",
            " extracting: images/Train/Pikachu/329.jpg  \n",
            " extracting: images/Train/Pikachu/305.jpg  \n",
            " extracting: images/Train/Pikachu/337.jpg  \n",
            " extracting: images/Train/Pikachu/367.jpg  \n",
            " extracting: images/Train/Pikachu/349.jpg  \n",
            " extracting: images/Train/Pikachu/395.jpg  \n",
            " extracting: images/Train/Pikachu/309.jpg  \n",
            " extracting: images/Train/Pikachu/301.jpg  \n",
            " extracting: images/Train/Pikachu/359.jpg  \n",
            " extracting: images/Train/Pikachu/328.jpg  \n",
            " extracting: images/Train/Pikachu/376.jpg  \n",
            " extracting: images/Train/Pikachu/392.jpg  \n",
            " extracting: images/Train/Pikachu/388.jpg  \n",
            " extracting: images/Train/Pikachu/348.jpg  \n",
            " extracting: images/Test/Pikachu/2000.jpg  \n",
            " extracting: images/Test/Pikachu/2001.jpg  \n",
            " extracting: images/Test/Pikachu/2002.jpg  \n",
            " extracting: images/Test/Pikachu/2003.jpg  \n",
            " extracting: images/Test/Pikachu/2004.jpg  \n",
            " extracting: images/Test/Pikachu/2005.jpg  \n",
            " extracting: images/Test/Pikachu/2006.jpg  \n",
            " extracting: images/Test/Pikachu/2007.jpg  \n",
            " extracting: images/Test/Pikachu/2008.jpg  \n",
            " extracting: images/Test/Pikachu/2009.jpg  \n",
            " extracting: images/Test/Pikachu/2010.jpg  \n",
            " extracting: images/Test/Pikachu/2011.jpg  \n",
            " extracting: images/Test/Pikachu/2012.jpg  \n",
            " extracting: images/Test/Pikachu/2013.jpg  \n",
            " extracting: images/Test/Pikachu/2014.jpg  \n",
            " extracting: images/Test/Pikachu/2015.jpg  \n",
            " extracting: images/Test/Pikachu/2016.jpg  \n",
            " extracting: images/Test/Pikachu/2017.jpg  \n",
            " extracting: images/Test/Pikachu/2018.jpg  \n",
            " extracting: images/Test/Pikachu/2019.jpg  \n",
            " extracting: images/Test/Pikachu/2020.jpg  \n",
            " extracting: images/Test/Pikachu/2021.jpg  \n",
            " extracting: images/Test/Pikachu/2022.jpg  \n",
            " extracting: images/Test/Pikachu/2023.jpg  \n",
            " extracting: images/Test/Pikachu/2024.jpg  \n",
            " extracting: images/Test/Pikachu/2025.jpg  \n",
            " extracting: images/Test/Pikachu/2026.jpg  \n",
            " extracting: images/Test/Pikachu/2027.jpg  \n",
            " extracting: images/Test/Pikachu/2028.jpg  \n",
            " extracting: images/Test/Pikachu/2029.jpg  \n",
            " extracting: images/Test/Pikachu/2030.jpg  \n",
            " extracting: images/Test/Pikachu/2031.jpg  \n",
            " extracting: images/Test/Pikachu/2032.jpg  \n",
            " extracting: images/Test/Pikachu/2033.jpg  \n",
            " extracting: images/Test/Pikachu/2034.jpg  \n",
            " extracting: images/Test/Pikachu/2035.jpg  \n",
            " extracting: images/Test/Pikachu/2036.jpg  \n",
            " extracting: images/Test/Pikachu/2037.jpg  \n",
            " extracting: images/Test/Pikachu/2038.jpg  \n",
            " extracting: images/Test/Pikachu/2039.jpg  \n",
            " extracting: images/Train/Bulbasaur/439.jpg  \n",
            " extracting: images/Train/Bulbasaur/474.jpg  \n",
            " extracting: images/Train/Bulbasaur/497.jpg  \n",
            " extracting: images/Train/Bulbasaur/401.jpg  \n",
            " extracting: images/Train/Bulbasaur/403.jpg  \n",
            " extracting: images/Train/Bulbasaur/407.jpg  \n",
            " extracting: images/Train/Bulbasaur/415.jpg  \n",
            " extracting: images/Train/Bulbasaur/429.jpg  \n",
            " extracting: images/Train/Bulbasaur/452.jpg  \n",
            " extracting: images/Train/Bulbasaur/455.jpg  \n",
            " extracting: images/Train/Bulbasaur/456.jpg  \n",
            " extracting: images/Train/Bulbasaur/402.jpg  \n",
            " extracting: images/Train/Bulbasaur/417.jpg  \n",
            " extracting: images/Train/Bulbasaur/433.jpg  \n",
            " extracting: images/Train/Bulbasaur/434.jpg  \n",
            " extracting: images/Train/Bulbasaur/440.jpg  \n",
            " extracting: images/Train/Bulbasaur/405.jpg  \n",
            " extracting: images/Train/Bulbasaur/419.jpg  \n",
            " extracting: images/Train/Bulbasaur/450.jpg  \n",
            " extracting: images/Train/Bulbasaur/471.jpg  \n",
            " extracting: images/Train/Bulbasaur/477.jpg  \n",
            " extracting: images/Train/Bulbasaur/483.jpg  \n",
            " extracting: images/Train/Bulbasaur/421.jpg  \n",
            " extracting: images/Train/Bulbasaur/427.jpg  \n",
            " extracting: images/Train/Bulbasaur/438.jpg  \n",
            " extracting: images/Train/Bulbasaur/470.jpg  \n",
            " extracting: images/Train/Bulbasaur/473.jpg  \n",
            " extracting: images/Train/Bulbasaur/485.jpg  \n",
            " extracting: images/Train/Bulbasaur/399.jpg  \n",
            " extracting: images/Train/Bulbasaur/409.jpg  \n",
            " extracting: images/Train/Bulbasaur/426.jpg  \n",
            " extracting: images/Train/Bulbasaur/460.jpg  \n",
            " extracting: images/Train/Bulbasaur/465.jpg  \n",
            " extracting: images/Train/Bulbasaur/489.jpg  \n",
            " extracting: images/Train/Bulbasaur/491.jpg  \n",
            " extracting: images/Train/Bulbasaur/416.jpg  \n",
            " extracting: images/Train/Bulbasaur/430.jpg  \n",
            " extracting: images/Train/Bulbasaur/432.jpg  \n",
            " extracting: images/Train/Bulbasaur/448.jpg  \n",
            " extracting: images/Train/Bulbasaur/467.jpg  \n",
            " extracting: images/Train/Bulbasaur/458.jpg  \n",
            " extracting: images/Train/Bulbasaur/472.jpg  \n",
            " extracting: images/Train/Bulbasaur/476.jpg  \n",
            " extracting: images/Train/Bulbasaur/398.jpg  \n",
            " extracting: images/Train/Bulbasaur/404.jpg  \n",
            " extracting: images/Train/Bulbasaur/413.jpg  \n",
            " extracting: images/Train/Bulbasaur/451.jpg  \n",
            " extracting: images/Train/Bulbasaur/457.jpg  \n",
            " extracting: images/Train/Bulbasaur/478.jpg  \n",
            " extracting: images/Train/Bulbasaur/400.jpg  \n",
            " extracting: images/Train/Bulbasaur/422.jpg  \n",
            " extracting: images/Train/Bulbasaur/480.jpg  \n",
            " extracting: images/Train/Bulbasaur/418.jpg  \n",
            " extracting: images/Train/Bulbasaur/424.jpg  \n",
            " extracting: images/Train/Bulbasaur/447.jpg  \n",
            " extracting: images/Train/Bulbasaur/449.jpg  \n",
            " extracting: images/Train/Bulbasaur/479.jpg  \n",
            " extracting: images/Train/Bulbasaur/462.jpg  \n",
            " extracting: images/Train/Bulbasaur/487.jpg  \n",
            " extracting: images/Train/Bulbasaur/412.jpg  \n",
            " extracting: images/Train/Bulbasaur/435.jpg  \n",
            " extracting: images/Train/Bulbasaur/436.jpg  \n",
            " extracting: images/Train/Bulbasaur/459.jpg  \n",
            " extracting: images/Train/Bulbasaur/461.jpg  \n",
            " extracting: images/Train/Bulbasaur/492.jpg  \n",
            " extracting: images/Train/Bulbasaur/482.jpg  \n",
            " extracting: images/Train/Bulbasaur/484.jpg  \n",
            " extracting: images/Train/Bulbasaur/486.jpg  \n",
            " extracting: images/Train/Bulbasaur/406.jpg  \n",
            " extracting: images/Train/Bulbasaur/414.jpg  \n",
            " extracting: images/Train/Bulbasaur/431.jpg  \n",
            " extracting: images/Train/Bulbasaur/444.jpg  \n",
            " extracting: images/Train/Bulbasaur/453.jpg  \n",
            " extracting: images/Train/Bulbasaur/493.jpg  \n",
            " extracting: images/Train/Bulbasaur/495.jpg  \n",
            " extracting: images/Train/Bulbasaur/454.jpg  \n",
            " extracting: images/Train/Bulbasaur/469.jpg  \n",
            " extracting: images/Train/Bulbasaur/488.jpg  \n",
            " extracting: images/Train/Bulbasaur/443.jpg  \n",
            " extracting: images/Train/Bulbasaur/468.jpg  \n",
            " extracting: images/Train/Bulbasaur/481.jpg  \n",
            " extracting: images/Train/Bulbasaur/408.jpg  \n",
            " extracting: images/Train/Bulbasaur/423.jpg  \n",
            " extracting: images/Train/Bulbasaur/428.jpg  \n",
            " extracting: images/Train/Bulbasaur/441.jpg  \n",
            " extracting: images/Train/Bulbasaur/442.jpg  \n",
            " extracting: images/Train/Bulbasaur/494.jpg  \n",
            " extracting: images/Train/Bulbasaur/496.jpg  \n",
            " extracting: images/Train/Bulbasaur/464.jpg  \n",
            " extracting: images/Train/Bulbasaur/475.jpg  \n",
            " extracting: images/Train/Bulbasaur/490.jpg  \n",
            " extracting: images/Train/Bulbasaur/410.jpg  \n",
            " extracting: images/Train/Bulbasaur/411.jpg  \n",
            " extracting: images/Train/Bulbasaur/420.jpg  \n",
            " extracting: images/Train/Bulbasaur/425.jpg  \n",
            " extracting: images/Train/Bulbasaur/437.jpg  \n",
            " extracting: images/Train/Bulbasaur/397.jpg  \n",
            " extracting: images/Train/Bulbasaur/445.jpg  \n",
            " extracting: images/Train/Bulbasaur/446.jpg  \n",
            " extracting: images/Train/Bulbasaur/463.jpg  \n",
            " extracting: images/Train/Bulbasaur/466.jpg  \n",
            " extracting: images/Test/Bulbasaur/1100.jpg  \n",
            " extracting: images/Test/Bulbasaur/1101.jpg  \n",
            " extracting: images/Test/Bulbasaur/1102.jpg  \n",
            " extracting: images/Test/Bulbasaur/1103.jpg  \n",
            " extracting: images/Test/Bulbasaur/1104.jpg  \n",
            " extracting: images/Test/Bulbasaur/1105.jpg  \n",
            " extracting: images/Test/Bulbasaur/1106.jpg  \n",
            " extracting: images/Test/Bulbasaur/1107.jpg  \n",
            " extracting: images/Test/Bulbasaur/1108.jpg  \n",
            " extracting: images/Test/Bulbasaur/1109.jpg  \n",
            " extracting: images/Test/Bulbasaur/1110.jpg  \n",
            " extracting: images/Test/Bulbasaur/1111.jpg  \n",
            " extracting: images/Test/Bulbasaur/1112.jpg  \n",
            " extracting: images/Test/Bulbasaur/1113.jpg  \n",
            " extracting: images/Test/Bulbasaur/1114.jpg  \n",
            " extracting: images/Test/Bulbasaur/1115.jpg  \n",
            " extracting: images/Test/Bulbasaur/1116.jpg  \n",
            " extracting: images/Test/Bulbasaur/1117.jpg  \n",
            " extracting: images/Test/Bulbasaur/1118.jpg  \n",
            " extracting: images/Test/Bulbasaur/1119.jpg  \n",
            " extracting: images/Test/Bulbasaur/1120.jpg  \n",
            " extracting: images/Test/Bulbasaur/1121.jpg  \n",
            " extracting: images/Test/Bulbasaur/1122.jpg  \n",
            " extracting: images/Test/Bulbasaur/1123.jpg  \n",
            " extracting: images/Test/Bulbasaur/1124.jpg  \n",
            " extracting: images/Test/Bulbasaur/1125.jpg  \n",
            " extracting: images/Test/Bulbasaur/1126.jpg  \n",
            " extracting: images/Test/Bulbasaur/1127.jpg  \n",
            " extracting: images/Test/Bulbasaur/1128.jpg  \n",
            " extracting: images/Test/Bulbasaur/1129.jpg  \n",
            " extracting: images/Test/Bulbasaur/1130.jpg  \n",
            " extracting: images/Test/Bulbasaur/1131.jpg  \n",
            " extracting: images/Test/Bulbasaur/1132.jpg  \n",
            " extracting: images/Test/Bulbasaur/1133.jpg  \n",
            " extracting: images/Test/Bulbasaur/1134.jpg  \n",
            " extracting: images/Test/Bulbasaur/1135.jpg  \n",
            " extracting: images/Test/Bulbasaur/1136.jpg  \n",
            " extracting: images/Test/Bulbasaur/1137.jpg  \n",
            " extracting: images/Test/Bulbasaur/1138.jpg  \n",
            " extracting: images/Test/Bulbasaur/1139.jpg  \n",
            " extracting: images/Test/Bulbasaur/1140.jpg  \n",
            " extracting: images/Train/Charmander/597.jpg  \n",
            " extracting: images/Train/Charmander/610.jpg  \n",
            " extracting: images/Train/Charmander/539.jpg  \n",
            " extracting: images/Train/Charmander/542.jpg  \n",
            " extracting: images/Train/Charmander/557.jpg  \n",
            " extracting: images/Train/Charmander/571.jpg  \n",
            " extracting: images/Train/Charmander/576.jpg  \n",
            " extracting: images/Train/Charmander/592.jpg  \n",
            " extracting: images/Train/Charmander/525.jpg  \n",
            " extracting: images/Train/Charmander/530.jpg  \n",
            " extracting: images/Train/Charmander/543.jpg  \n",
            " extracting: images/Train/Charmander/577.jpg  \n",
            " extracting: images/Train/Charmander/574.jpg  \n",
            " extracting: images/Train/Charmander/580.jpg  \n",
            " extracting: images/Train/Charmander/599.jpg  \n",
            " extracting: images/Train/Charmander/615.jpg  \n",
            " extracting: images/Train/Charmander/523.jpg  \n",
            " extracting: images/Train/Charmander/537.jpg  \n",
            " extracting: images/Train/Charmander/549.jpg  \n",
            " extracting: images/Train/Charmander/550.jpg  \n",
            " extracting: images/Train/Charmander/605.jpg  \n",
            " extracting: images/Train/Charmander/612.jpg  \n",
            " extracting: images/Train/Charmander/520.jpg  \n",
            " extracting: images/Train/Charmander/536.jpg  \n",
            " extracting: images/Train/Charmander/555.jpg  \n",
            " extracting: images/Train/Charmander/586.jpg  \n",
            " extracting: images/Train/Charmander/593.jpg  \n",
            " extracting: images/Train/Charmander/607.jpg  \n",
            " extracting: images/Train/Charmander/613.jpg  \n",
            " extracting: images/Train/Charmander/528.jpg  \n",
            " extracting: images/Train/Charmander/548.jpg  \n",
            " extracting: images/Train/Charmander/552.jpg  \n",
            " extracting: images/Train/Charmander/565.jpg  \n",
            " extracting: images/Train/Charmander/582.jpg  \n",
            " extracting: images/Train/Charmander/611.jpg  \n",
            " extracting: images/Train/Charmander/521.jpg  \n",
            " extracting: images/Train/Charmander/562.jpg  \n",
            " extracting: images/Train/Charmander/563.jpg  \n",
            " extracting: images/Train/Charmander/589.jpg  \n",
            " extracting: images/Train/Charmander/590.jpg  \n",
            " extracting: images/Train/Charmander/614.jpg  \n",
            " extracting: images/Train/Charmander/581.jpg  \n",
            " extracting: images/Train/Charmander/601.jpg  \n",
            " extracting: images/Train/Charmander/527.jpg  \n",
            " extracting: images/Train/Charmander/533.jpg  \n",
            " extracting: images/Train/Charmander/547.jpg  \n",
            " extracting: images/Train/Charmander/551.jpg  \n",
            " extracting: images/Train/Charmander/554.jpg  \n",
            " extracting: images/Train/Charmander/559.jpg  \n",
            " extracting: images/Train/Charmander/608.jpg  \n",
            " extracting: images/Train/Charmander/617.jpg  \n",
            " extracting: images/Train/Charmander/619.jpg  \n",
            " extracting: images/Train/Charmander/604.jpg  \n",
            " extracting: images/Train/Charmander/498.jpg  \n",
            " extracting: images/Train/Charmander/526.jpg  \n",
            " extracting: images/Train/Charmander/546.jpg  \n",
            " extracting: images/Train/Charmander/585.jpg  \n",
            " extracting: images/Train/Charmander/587.jpg  \n",
            " extracting: images/Train/Charmander/600.jpg  \n",
            " extracting: images/Train/Charmander/545.jpg  \n",
            " extracting: images/Train/Charmander/560.jpg  \n",
            " extracting: images/Train/Charmander/620.jpg  \n",
            " extracting: images/Train/Charmander/531.jpg  \n",
            " extracting: images/Train/Charmander/541.jpg  \n",
            " extracting: images/Train/Charmander/572.jpg  \n",
            " extracting: images/Train/Charmander/578.jpg  \n",
            " extracting: images/Train/Charmander/595.jpg  \n",
            " extracting: images/Train/Charmander/522.jpg  \n",
            " extracting: images/Train/Charmander/544.jpg  \n",
            " extracting: images/Train/Charmander/596.jpg  \n",
            " extracting: images/Train/Charmander/602.jpg  \n",
            " extracting: images/Train/Charmander/573.jpg  \n",
            " extracting: images/Train/Charmander/583.jpg  \n",
            " extracting: images/Train/Charmander/538.jpg  \n",
            " extracting: images/Train/Charmander/553.jpg  \n",
            " extracting: images/Train/Charmander/556.jpg  \n",
            " extracting: images/Train/Charmander/564.jpg  \n",
            " extracting: images/Train/Charmander/566.jpg  \n",
            " extracting: images/Train/Charmander/569.jpg  \n",
            " extracting: images/Train/Charmander/594.jpg  \n",
            " extracting: images/Train/Charmander/609.jpg  \n",
            " extracting: images/Train/Charmander/616.jpg  \n",
            " extracting: images/Train/Charmander/558.jpg  \n",
            " extracting: images/Train/Charmander/584.jpg  \n",
            " extracting: images/Train/Charmander/598.jpg  \n",
            " extracting: images/Train/Charmander/570.jpg  \n",
            " extracting: images/Train/Charmander/579.jpg  \n",
            " extracting: images/Train/Charmander/529.jpg  \n",
            " extracting: images/Train/Charmander/532.jpg  \n",
            " extracting: images/Train/Charmander/534.jpg  \n",
            " extracting: images/Train/Charmander/535.jpg  \n",
            " extracting: images/Train/Charmander/567.jpg  \n",
            " extracting: images/Train/Charmander/568.jpg  \n",
            " extracting: images/Train/Charmander/603.jpg  \n",
            " extracting: images/Train/Charmander/606.jpg  \n",
            " extracting: images/Train/Charmander/618.jpg  \n",
            " extracting: images/Train/Charmander/524.jpg  \n",
            " extracting: images/Train/Charmander/540.jpg  \n",
            " extracting: images/Train/Charmander/561.jpg  \n",
            " extracting: images/Train/Charmander/575.jpg  \n",
            " extracting: images/Train/Charmander/588.jpg  \n",
            " extracting: images/Train/Charmander/591.jpg  \n",
            " extracting: images/Test/Charmander/2040.jpg  \n",
            " extracting: images/Test/Charmander/2200.jpg  \n",
            " extracting: images/Test/Charmander/2201.jpg  \n",
            " extracting: images/Test/Charmander/2202.jpg  \n",
            " extracting: images/Test/Charmander/2203.jpg  \n",
            " extracting: images/Test/Charmander/2204.jpg  \n",
            " extracting: images/Test/Charmander/2205.jpg  \n",
            " extracting: images/Test/Charmander/2206.jpg  \n",
            " extracting: images/Test/Charmander/2207.jpg  \n",
            " extracting: images/Test/Charmander/2208.jpg  \n",
            " extracting: images/Test/Charmander/2209.jpg  \n",
            " extracting: images/Test/Charmander/2210.jpg  \n",
            " extracting: images/Test/Charmander/2211.jpg  \n",
            " extracting: images/Test/Charmander/2212.jpg  \n",
            " extracting: images/Test/Charmander/2213.jpg  \n",
            " extracting: images/Test/Charmander/2214.jpg  \n",
            " extracting: images/Test/Charmander/2215.jpg  \n",
            " extracting: images/Test/Charmander/2216.jpg  \n",
            " extracting: images/Test/Charmander/2217.jpg  \n",
            " extracting: images/Test/Charmander/2218.jpg  \n",
            " extracting: images/Test/Charmander/2219.jpg  \n",
            " extracting: images/Test/Charmander/2220.jpg  \n",
            " extracting: images/Test/Charmander/2221.jpg  \n",
            " extracting: images/Test/Charmander/2222.jpg  \n",
            " extracting: images/Test/Charmander/2223.jpg  \n",
            " extracting: images/Test/Charmander/2224.jpg  \n",
            " extracting: images/Test/Charmander/2225.jpg  \n",
            " extracting: images/Test/Charmander/2226.jpg  \n",
            " extracting: images/Test/Charmander/2227.jpg  \n",
            " extracting: images/Test/Charmander/2228.jpg  \n",
            " extracting: images/Test/Charmander/2229.jpg  \n",
            " extracting: images/Test/Charmander/2230.jpg  \n",
            " extracting: images/Test/Charmander/2231.jpg  \n",
            " extracting: images/Test/Charmander/2232.jpg  \n",
            " extracting: images/Test/Charmander/2233.jpg  \n",
            " extracting: images/Test/Charmander/2234.jpg  \n",
            " extracting: images/Test/Charmander/2235.jpg  \n",
            " extracting: images/Test/Charmander/2236.jpg  \n",
            " extracting: images/Test/Charmander/2237.jpg  \n",
            " extracting: images/Test/Charmander/2238.jpg  \n",
            " extracting: images/Test/Charmander/2239.jpg  \n",
            " extracting: images/Test/Charmander/2240.jpg  \n"
          ]
        }
      ],
      "source": [
        "!unzip data -d \"images/\""
      ]
    },
    {
      "cell_type": "code",
      "execution_count": 4,
      "metadata": {
        "id": "KCPcunvXCgC1",
        "outputId": "2bfd4f47-3847-4ea3-de9c-89c86222ed80",
        "colab": {
          "base_uri": "https://localhost:8080/"
        }
      },
      "outputs": [
        {
          "output_type": "stream",
          "name": "stdout",
          "text": [
            "Requirement already satisfied: keras_preprocessing in /usr/local/lib/python3.10/dist-packages (1.1.2)\n",
            "Requirement already satisfied: numpy>=1.9.1 in /usr/local/lib/python3.10/dist-packages (from keras_preprocessing) (1.22.4)\n",
            "Requirement already satisfied: six>=1.9.0 in /usr/local/lib/python3.10/dist-packages (from keras_preprocessing) (1.16.0)\n"
          ]
        }
      ],
      "source": [
        "!pip install keras_preprocessing"
      ]
    },
    {
      "cell_type": "code",
      "source": [
        "classes = os.listdir(path = '/content/images/Train')      # extract classes"
      ],
      "metadata": {
        "id": "zos03Wf_DBwR"
      },
      "execution_count": 5,
      "outputs": []
    },
    {
      "cell_type": "code",
      "source": [
        "classes"
      ],
      "metadata": {
        "id": "CPh6ELEVEgQT",
        "outputId": "35aa051d-d8ad-4cb0-af59-28d31205ec27",
        "colab": {
          "base_uri": "https://localhost:8080/"
        }
      },
      "execution_count": 6,
      "outputs": [
        {
          "output_type": "execute_result",
          "data": {
            "text/plain": [
              "['Charmander', 'Pikachu', 'Bulbasaur']"
            ]
          },
          "metadata": {},
          "execution_count": 6
        }
      ]
    },
    {
      "cell_type": "code",
      "source": [
        "for pokemon_type in classes:\n",
        "  path = 'images/Train/' + pokemon_type\n",
        "  print(f\"{pokemon_type} - {len(os.listdir(path))}\")  # number of images in each classes"
      ],
      "metadata": {
        "id": "gSVqhWzSEkWx",
        "outputId": "20d1e9b5-9c6a-415e-b111-bb5275236f55",
        "colab": {
          "base_uri": "https://localhost:8080/"
        }
      },
      "execution_count": 7,
      "outputs": [
        {
          "output_type": "stream",
          "name": "stdout",
          "text": [
            "Charmander - 102\n",
            "Pikachu - 101\n",
            "Bulbasaur - 101\n"
          ]
        }
      ]
    },
    {
      "cell_type": "code",
      "source": [
        "for pokemon_type in classes:\n",
        "  path = 'images/Test/' + pokemon_type\n",
        "  print(f\"{pokemon_type} - {len(os.listdir(path))}\")"
      ],
      "metadata": {
        "id": "015rXx7aFhv_",
        "outputId": "24df5865-b71d-4361-8a33-c934b597f2fc",
        "colab": {
          "base_uri": "https://localhost:8080/"
        }
      },
      "execution_count": 8,
      "outputs": [
        {
          "output_type": "stream",
          "name": "stdout",
          "text": [
            "Charmander - 42\n",
            "Pikachu - 40\n",
            "Bulbasaur - 41\n"
          ]
        }
      ]
    },
    {
      "cell_type": "code",
      "source": [
        "from keras_preprocessing import image"
      ],
      "metadata": {
        "id": "ELrPc9s9F1eJ"
      },
      "execution_count": 9,
      "outputs": []
    },
    {
      "cell_type": "code",
      "source": [
        "train_data = []\n",
        "train_labels = []"
      ],
      "metadata": {
        "id": "5nffylvjGFey"
      },
      "execution_count": 10,
      "outputs": []
    },
    {
      "cell_type": "code",
      "source": [
        "test_data = []\n",
        "test_labels = []"
      ],
      "metadata": {
        "id": "rfXhWTyYRR66"
      },
      "execution_count": 37,
      "outputs": []
    },
    {
      "cell_type": "code",
      "source": [
        "for category in classes:\n",
        "  folder = f\"images/Train/{category}\"\n",
        "  for image_name in os.listdir(folder):\n",
        "    img_path = os.path.join(folder,image_name)\n",
        "    img = image.load_img(img_path,target_size = (100,100))  #reshape image to size 100 by 100\n",
        "    img_array = image.img_to_array(img)\n",
        "    train_data.append(img_array)\n",
        "    train_labels.append(category)\n"
      ],
      "metadata": {
        "id": "bXVc5XC0Geq8",
        "outputId": "53f4d4e0-2043-4182-b213-25b7f9ef4752",
        "colab": {
          "base_uri": "https://localhost:8080/"
        }
      },
      "execution_count": 11,
      "outputs": [
        {
          "output_type": "stream",
          "name": "stderr",
          "text": [
            "/usr/local/lib/python3.10/dist-packages/PIL/Image.py:975: UserWarning: Palette images with Transparency expressed in bytes should be converted to RGBA images\n",
            "  warnings.warn(\n"
          ]
        }
      ]
    },
    {
      "cell_type": "code",
      "source": [
        "for category in classes:\n",
        "  folder = f\"images/Test/{category}\"\n",
        "  for image_name in os.listdir(folder):\n",
        "    img_path = os.path.join(folder,image_name)\n",
        "    img = image.load_img(img_path,target_size = (100,100))  #reshape image to size 100 by 100\n",
        "    img_array = image.img_to_array(img)\n",
        "    test_data.append(img_array)\n",
        "    test_labels.append(category)"
      ],
      "metadata": {
        "id": "B52T64-iRLbT"
      },
      "execution_count": 38,
      "outputs": []
    },
    {
      "cell_type": "code",
      "source": [
        "len(train_data)"
      ],
      "metadata": {
        "id": "sXNXiD0gIrKg",
        "outputId": "4b39974d-2bea-49bf-d3cd-dd6a25bf9579",
        "colab": {
          "base_uri": "https://localhost:8080/"
        }
      },
      "execution_count": 12,
      "outputs": [
        {
          "output_type": "execute_result",
          "data": {
            "text/plain": [
              "304"
            ]
          },
          "metadata": {},
          "execution_count": 12
        }
      ]
    },
    {
      "cell_type": "code",
      "source": [
        "len(test_data)"
      ],
      "metadata": {
        "id": "HLXmXgByRjFi",
        "outputId": "26413270-1881-4c10-dc8d-a8c0ac4298b9",
        "colab": {
          "base_uri": "https://localhost:8080/"
        }
      },
      "execution_count": 39,
      "outputs": [
        {
          "output_type": "execute_result",
          "data": {
            "text/plain": [
              "123"
            ]
          },
          "metadata": {},
          "execution_count": 39
        }
      ]
    },
    {
      "cell_type": "code",
      "source": [
        "train_data = np.array(train_data)\n",
        "train_labels = np.array(train_labels)"
      ],
      "metadata": {
        "id": "dKDmQ5iuIsqE"
      },
      "execution_count": 13,
      "outputs": []
    },
    {
      "cell_type": "code",
      "source": [
        "train_data = train_data.reshape(len(train_data),30000)"
      ],
      "metadata": {
        "id": "Gtg_FGzKJaOz"
      },
      "execution_count": 14,
      "outputs": []
    },
    {
      "cell_type": "code",
      "source": [
        "train_data.shape"
      ],
      "metadata": {
        "id": "Vpx5-osYJqLA",
        "outputId": "be5380a2-3487-4414-9403-3959b177bc9c",
        "colab": {
          "base_uri": "https://localhost:8080/"
        }
      },
      "execution_count": 15,
      "outputs": [
        {
          "output_type": "execute_result",
          "data": {
            "text/plain": [
              "(304, 30000)"
            ]
          },
          "metadata": {},
          "execution_count": 15
        }
      ]
    },
    {
      "cell_type": "code",
      "source": [
        "test_data = np.array(test_data)\n",
        "test_labels = np.array(test_labels)"
      ],
      "metadata": {
        "id": "KuTiiTbTRnvY"
      },
      "execution_count": 40,
      "outputs": []
    },
    {
      "cell_type": "code",
      "source": [
        "test_data = test_data.reshape(len(test_data),30000)"
      ],
      "metadata": {
        "id": "MKkstUBUSKki"
      },
      "execution_count": 43,
      "outputs": []
    },
    {
      "cell_type": "code",
      "source": [
        "test_data.shape"
      ],
      "metadata": {
        "id": "9gAvy45jShtt",
        "outputId": "df742172-0927-469b-f19d-94183281d93e",
        "colab": {
          "base_uri": "https://localhost:8080/"
        }
      },
      "execution_count": 46,
      "outputs": [
        {
          "output_type": "execute_result",
          "data": {
            "text/plain": [
              "(123, 30000)"
            ]
          },
          "metadata": {},
          "execution_count": 46
        }
      ]
    },
    {
      "cell_type": "code",
      "source": [
        "category2label =  {\"Pikachu\":0,\"Charmander\":1,\"Bulbasaur\":2}\n",
        "label2category = {0:\"Pikachu\",1:\"Charmander\",2:\"Bulbasaur\"}"
      ],
      "metadata": {
        "id": "lYmSUg4cJrg0"
      },
      "execution_count": 16,
      "outputs": []
    },
    {
      "cell_type": "code",
      "source": [
        "train_labels = np.array([category2label[label] for label in train_labels])"
      ],
      "metadata": {
        "id": "OfipBZVHKk_r"
      },
      "execution_count": 17,
      "outputs": []
    },
    {
      "cell_type": "code",
      "source": [
        "test_labels = np.array([category2label[label] for label in test_labels])"
      ],
      "metadata": {
        "id": "rS3A146jSlxv"
      },
      "execution_count": 47,
      "outputs": []
    },
    {
      "cell_type": "code",
      "source": [
        "from keras.utils import to_categorical"
      ],
      "metadata": {
        "id": "azge4ujQLs-l"
      },
      "execution_count": 19,
      "outputs": []
    },
    {
      "cell_type": "code",
      "source": [
        "train_labels = to_categorical(train_labels)\n",
        "train_labels"
      ],
      "metadata": {
        "id": "TemLLnQnLyHA"
      },
      "execution_count": null,
      "outputs": []
    },
    {
      "cell_type": "code",
      "source": [
        "test_labels = to_categorical(test_labels)\n",
        "test_labels"
      ],
      "metadata": {
        "id": "nh-rvQnISqfA"
      },
      "execution_count": null,
      "outputs": []
    },
    {
      "cell_type": "code",
      "source": [
        "from keras.layers import Dense\n",
        "from keras import Sequential"
      ],
      "metadata": {
        "id": "dTqEE0K_L5xI"
      },
      "execution_count": 21,
      "outputs": []
    },
    {
      "cell_type": "code",
      "source": [
        "features = train_data.shape[1]"
      ],
      "metadata": {
        "id": "4PTCIMAuMWVd"
      },
      "execution_count": 22,
      "outputs": []
    },
    {
      "cell_type": "code",
      "source": [
        "model = Sequential()"
      ],
      "metadata": {
        "id": "p1jLFuG5Msz3"
      },
      "execution_count": 23,
      "outputs": []
    },
    {
      "cell_type": "code",
      "source": [
        "from keras.layers.attention.multi_head_attention import activation\n",
        "model.add(Dense(units=512, activation ='relu', input_shape =(features,)))"
      ],
      "metadata": {
        "id": "rCIhb06UMw4a"
      },
      "execution_count": 28,
      "outputs": []
    },
    {
      "cell_type": "code",
      "source": [
        "model.add(Dense(units=256, activation ='relu'))"
      ],
      "metadata": {
        "id": "NalduZDZNdgR"
      },
      "execution_count": 29,
      "outputs": []
    },
    {
      "cell_type": "code",
      "source": [
        "model.add(Dense(units=128, activation ='relu'))"
      ],
      "metadata": {
        "id": "KJeC7IjjNjnZ"
      },
      "execution_count": 30,
      "outputs": []
    },
    {
      "cell_type": "code",
      "source": [
        "model.add(Dense(units=64, activation ='relu'))"
      ],
      "metadata": {
        "id": "dI4GwKX3NlrW"
      },
      "execution_count": 31,
      "outputs": []
    },
    {
      "cell_type": "code",
      "source": [
        "model.add(Dense(units=3,activation='softmax'))"
      ],
      "metadata": {
        "id": "8Aw33X0JNotc"
      },
      "execution_count": 32,
      "outputs": []
    },
    {
      "cell_type": "code",
      "source": [
        "model.compile(optimizer=\"adam\",loss=\"categorical_crossentropy\",metrics=[\"accuracy\"])"
      ],
      "metadata": {
        "id": "F_aB-iyZOFl1"
      },
      "execution_count": 33,
      "outputs": []
    },
    {
      "cell_type": "code",
      "source": [
        "model.summary()"
      ],
      "metadata": {
        "id": "3j1bUMlTOFES",
        "outputId": "67c1edad-a545-4671-cb35-63e9dbac1f88",
        "colab": {
          "base_uri": "https://localhost:8080/"
        }
      },
      "execution_count": 35,
      "outputs": [
        {
          "output_type": "stream",
          "name": "stdout",
          "text": [
            "Model: \"sequential\"\n",
            "_________________________________________________________________\n",
            " Layer (type)                Output Shape              Param #   \n",
            "=================================================================\n",
            " dense_1 (Dense)             (None, 512)               15360512  \n",
            "                                                                 \n",
            " dense_2 (Dense)             (None, 256)               131328    \n",
            "                                                                 \n",
            " dense_3 (Dense)             (None, 128)               32896     \n",
            "                                                                 \n",
            " dense_4 (Dense)             (None, 64)                8256      \n",
            "                                                                 \n",
            " dense_5 (Dense)             (None, 3)                 195       \n",
            "                                                                 \n",
            "=================================================================\n",
            "Total params: 15,533,187\n",
            "Trainable params: 15,533,187\n",
            "Non-trainable params: 0\n",
            "_________________________________________________________________\n"
          ]
        }
      ]
    },
    {
      "cell_type": "code",
      "source": [
        "model.fit(train_data,train_labels,batch_size = 32,epochs=50)"
      ],
      "metadata": {
        "id": "e1RZFuLwPx2D",
        "outputId": "45bbaa2a-d956-4fdf-cd12-7c450f67101c",
        "colab": {
          "base_uri": "https://localhost:8080/"
        }
      },
      "execution_count": 36,
      "outputs": [
        {
          "output_type": "stream",
          "name": "stdout",
          "text": [
            "Epoch 1/50\n",
            "10/10 [==============================] - 5s 327ms/step - loss: 2294.7422 - accuracy: 0.3618\n",
            "Epoch 2/50\n",
            "10/10 [==============================] - 3s 253ms/step - loss: 1430.1667 - accuracy: 0.4474\n",
            "Epoch 3/50\n",
            "10/10 [==============================] - 3s 251ms/step - loss: 923.2868 - accuracy: 0.4868\n",
            "Epoch 4/50\n",
            "10/10 [==============================] - 3s 255ms/step - loss: 724.9492 - accuracy: 0.6053\n",
            "Epoch 5/50\n",
            "10/10 [==============================] - 3s 351ms/step - loss: 410.1908 - accuracy: 0.6678\n",
            "Epoch 6/50\n",
            "10/10 [==============================] - 3s 253ms/step - loss: 110.8036 - accuracy: 0.8289\n",
            "Epoch 7/50\n",
            "10/10 [==============================] - 3s 253ms/step - loss: 78.6727 - accuracy: 0.8520\n",
            "Epoch 8/50\n",
            "10/10 [==============================] - 3s 254ms/step - loss: 49.7963 - accuracy: 0.8849\n",
            "Epoch 9/50\n",
            "10/10 [==============================] - 3s 252ms/step - loss: 62.9327 - accuracy: 0.8816\n",
            "Epoch 10/50\n",
            "10/10 [==============================] - 4s 368ms/step - loss: 79.3171 - accuracy: 0.8586\n",
            "Epoch 11/50\n",
            "10/10 [==============================] - 3s 257ms/step - loss: 83.4401 - accuracy: 0.8520\n",
            "Epoch 12/50\n",
            "10/10 [==============================] - 3s 253ms/step - loss: 62.6390 - accuracy: 0.8783\n",
            "Epoch 13/50\n",
            "10/10 [==============================] - 3s 253ms/step - loss: 77.2242 - accuracy: 0.8717\n",
            "Epoch 14/50\n",
            "10/10 [==============================] - 3s 303ms/step - loss: 103.8962 - accuracy: 0.8454\n",
            "Epoch 15/50\n",
            "10/10 [==============================] - 3s 306ms/step - loss: 130.2898 - accuracy: 0.8257\n",
            "Epoch 16/50\n",
            "10/10 [==============================] - 3s 253ms/step - loss: 224.2847 - accuracy: 0.7993\n",
            "Epoch 17/50\n",
            "10/10 [==============================] - 3s 255ms/step - loss: 258.3705 - accuracy: 0.7138\n",
            "Epoch 18/50\n",
            "10/10 [==============================] - 3s 250ms/step - loss: 44.1526 - accuracy: 0.8849\n",
            "Epoch 19/50\n",
            "10/10 [==============================] - 4s 376ms/step - loss: 29.9430 - accuracy: 0.9211\n",
            "Epoch 20/50\n",
            "10/10 [==============================] - 3s 253ms/step - loss: 6.4146 - accuracy: 0.9572\n",
            "Epoch 21/50\n",
            "10/10 [==============================] - 3s 257ms/step - loss: 14.9259 - accuracy: 0.9441\n",
            "Epoch 22/50\n",
            "10/10 [==============================] - 3s 250ms/step - loss: 30.3278 - accuracy: 0.9013\n",
            "Epoch 23/50\n",
            "10/10 [==============================] - 3s 267ms/step - loss: 37.8044 - accuracy: 0.8947\n",
            "Epoch 24/50\n",
            "10/10 [==============================] - 6s 575ms/step - loss: 17.2742 - accuracy: 0.9474\n",
            "Epoch 25/50\n",
            "10/10 [==============================] - 4s 392ms/step - loss: 3.5598 - accuracy: 0.9737\n",
            "Epoch 26/50\n",
            "10/10 [==============================] - 3s 265ms/step - loss: 2.5260 - accuracy: 0.9868\n",
            "Epoch 27/50\n",
            "10/10 [==============================] - 4s 390ms/step - loss: 4.5305 - accuracy: 0.9737\n",
            "Epoch 28/50\n",
            "10/10 [==============================] - 3s 265ms/step - loss: 14.1258 - accuracy: 0.9572\n",
            "Epoch 29/50\n",
            "10/10 [==============================] - 3s 263ms/step - loss: 14.0528 - accuracy: 0.9507\n",
            "Epoch 30/50\n",
            "10/10 [==============================] - 3s 265ms/step - loss: 3.7073 - accuracy: 0.9836\n",
            "Epoch 31/50\n",
            "10/10 [==============================] - 3s 321ms/step - loss: 1.9562 - accuracy: 0.9803\n",
            "Epoch 32/50\n",
            "10/10 [==============================] - 3s 307ms/step - loss: 2.2663 - accuracy: 0.9901\n",
            "Epoch 33/50\n",
            "10/10 [==============================] - 3s 267ms/step - loss: 0.7703 - accuracy: 0.9868\n",
            "Epoch 34/50\n",
            "10/10 [==============================] - 3s 265ms/step - loss: 3.5573 - accuracy: 0.9836\n",
            "Epoch 35/50\n",
            "10/10 [==============================] - 3s 266ms/step - loss: 0.8240 - accuracy: 0.9868\n",
            "Epoch 36/50\n",
            "10/10 [==============================] - 4s 386ms/step - loss: 1.4393 - accuracy: 0.9901\n",
            "Epoch 37/50\n",
            "10/10 [==============================] - 3s 269ms/step - loss: 3.1277 - accuracy: 0.9803\n",
            "Epoch 38/50\n",
            "10/10 [==============================] - 3s 267ms/step - loss: 2.0519 - accuracy: 0.9836\n",
            "Epoch 39/50\n",
            "10/10 [==============================] - 3s 266ms/step - loss: 3.1472 - accuracy: 0.9967\n",
            "Epoch 40/50\n",
            "10/10 [==============================] - 4s 362ms/step - loss: 0.4197 - accuracy: 0.9967\n",
            "Epoch 41/50\n",
            "10/10 [==============================] - 3s 269ms/step - loss: 1.3073 - accuracy: 0.9934\n",
            "Epoch 42/50\n",
            "10/10 [==============================] - 3s 268ms/step - loss: 0.7291 - accuracy: 0.9901\n",
            "Epoch 43/50\n",
            "10/10 [==============================] - 3s 266ms/step - loss: 0.8996 - accuracy: 0.9934\n",
            "Epoch 44/50\n",
            "10/10 [==============================] - 3s 277ms/step - loss: 0.0000e+00 - accuracy: 1.0000\n",
            "Epoch 45/50\n",
            "10/10 [==============================] - 4s 351ms/step - loss: 0.0000e+00 - accuracy: 1.0000\n",
            "Epoch 46/50\n",
            "10/10 [==============================] - 3s 265ms/step - loss: 0.0000e+00 - accuracy: 1.0000\n",
            "Epoch 47/50\n",
            "10/10 [==============================] - 3s 271ms/step - loss: 0.0000e+00 - accuracy: 1.0000\n",
            "Epoch 48/50\n",
            "10/10 [==============================] - 3s 266ms/step - loss: 0.0000e+00 - accuracy: 1.0000\n",
            "Epoch 49/50\n",
            "10/10 [==============================] - 4s 385ms/step - loss: 0.0000e+00 - accuracy: 1.0000\n",
            "Epoch 50/50\n",
            "10/10 [==============================] - 3s 263ms/step - loss: 0.0000e+00 - accuracy: 1.0000\n"
          ]
        },
        {
          "output_type": "execute_result",
          "data": {
            "text/plain": [
              "<keras.callbacks.History at 0x7f22fe3b19c0>"
            ]
          },
          "metadata": {},
          "execution_count": 36
        }
      ]
    },
    {
      "cell_type": "code",
      "source": [
        "loss , accuracy = model.evaluate(test_data,test_labels)\n",
        "print(f'Test Data Loss:{loss:.4f}')\n",
        "print(f'Test Data accuracy:{accuracy:.4f}')"
      ],
      "metadata": {
        "id": "SLRQwX66Pxzx",
        "outputId": "14e46782-0002-4a9b-a346-5ecd1bae9a36",
        "colab": {
          "base_uri": "https://localhost:8080/"
        }
      },
      "execution_count": 56,
      "outputs": [
        {
          "output_type": "stream",
          "name": "stdout",
          "text": [
            "4/4 [==============================] - 0s 31ms/step - loss: 9.9862 - accuracy: 0.9675\n",
            "Test Data Loss:9.9862\n",
            "Test Data accuracy:0.9675\n"
          ]
        }
      ]
    },
    {
      "cell_type": "code",
      "source": [
        "test_image = '/content/pikachu1.jpg'\n",
        "\n",
        "img = image.load_img(test_image,target_size = (100,100))\n",
        "img = image.img_to_array(img)\n",
        "img.shape"
      ],
      "metadata": {
        "id": "NNbeAejBRpZb",
        "outputId": "01b94e93-98fc-49cf-876f-a940a607a3a4",
        "colab": {
          "base_uri": "https://localhost:8080/"
        }
      },
      "execution_count": 41,
      "outputs": [
        {
          "output_type": "execute_result",
          "data": {
            "text/plain": [
              "(100, 100, 3)"
            ]
          },
          "metadata": {},
          "execution_count": 41
        }
      ]
    },
    {
      "cell_type": "code",
      "source": [
        "plt.imshow(img.astype('int'));"
      ],
      "metadata": {
        "id": "JT6ps3mhSEPp",
        "outputId": "bd2ed602-dde9-4e78-c695-ae35944da4db",
        "colab": {
          "base_uri": "https://localhost:8080/",
          "height": 433
        }
      },
      "execution_count": 45,
      "outputs": [
        {
          "output_type": "display_data",
          "data": {
            "text/plain": [
              "<Figure size 640x480 with 1 Axes>"
            ],
            "image/png": "[encoded data removed]"
          },
          "metadata": {}
        }
      ]
    },
    {
      "cell_type": "code",
      "source": [
        "img = img.reshape(1,30000)"
      ],
      "metadata": {
        "id": "FhsWp9XQS0dC"
      },
      "execution_count": 49,
      "outputs": []
    },
    {
      "cell_type": "code",
      "source": [
        "model.predict(img).argmax()"
      ],
      "metadata": {
        "id": "AHkULmNVS6s4",
        "outputId": "165a0b36-4d60-4215-e9b2-b166b063f490",
        "colab": {
          "base_uri": "https://localhost:8080/"
        }
      },
      "execution_count": 50,
      "outputs": [
        {
          "output_type": "stream",
          "name": "stdout",
          "text": [
            "1/1 [==============================] - 0s 113ms/step\n"
          ]
        },
        {
          "output_type": "execute_result",
          "data": {
            "text/plain": [
              "0"
            ]
          },
          "metadata": {},
          "execution_count": 50
        }
      ]
    },
    {
      "cell_type": "code",
      "source": [
        "pred = label2category[model.predict(img).argmax()]\n",
        "pred"
      ],
      "metadata": {
        "id": "QWHsZ_5TTH7o",
        "outputId": "ff99d2a2-ae66-4c58-fb9d-167c7f454192",
        "colab": {
          "base_uri": "https://localhost:8080/",
          "height": 54
        }
      },
      "execution_count": 53,
      "outputs": [
        {
          "output_type": "stream",
          "name": "stdout",
          "text": [
            "1/1 [==============================] - 0s 29ms/step\n"
          ]
        },
        {
          "output_type": "execute_result",
          "data": {
            "text/plain": [
              "'Pikachu'"
            ],
            "application/vnd.google.colaboratory.intrinsic+json": {
              "type": "string"
            }
          },
          "metadata": {},
          "execution_count": 53
        }
      ]
    }
  ],
  "metadata": {
    "language_info": {
      "name": "python"
    },
    "orig_nbformat": 4,
    "colab": {
      "provenance": []
    },
    "kernelspec": {
      "name": "python3",
      "display_name": "Python 3"
    }
  },
  "nbformat": 4,
  "nbformat_minor": 0
}